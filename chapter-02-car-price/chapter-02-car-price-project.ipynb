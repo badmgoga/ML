{
 "cells": [
  {
   "metadata": {},
   "cell_type": "markdown",
   "source": "# Считывание и подготовка данных",
   "id": "bf26644f5c271ae7"
  },
  {
   "cell_type": "code",
   "id": "initial_id",
   "metadata": {
    "collapsed": true,
    "ExecuteTime": {
     "end_time": "2024-10-08T20:48:33.198197Z",
     "start_time": "2024-10-08T20:48:33.186749Z"
    }
   },
   "source": [
    "import pandas as pd\n",
    "import numpy as np\n",
    "\n",
    "import seaborn as sns\n",
    "from matplotlib import pyplot as plt\n",
    "%matplotlib inline"
   ],
   "outputs": [],
   "execution_count": 96
  },
  {
   "metadata": {
    "ExecuteTime": {
     "end_time": "2024-10-08T20:48:33.924409Z",
     "start_time": "2024-10-08T20:48:33.832715Z"
    }
   },
   "cell_type": "code",
   "source": "df = pd.read_csv('cardataset/data.csv')",
   "id": "638bb4ee4d43e0c7",
   "outputs": [],
   "execution_count": 97
  },
  {
   "metadata": {
    "ExecuteTime": {
     "end_time": "2024-10-08T20:48:33.973542Z",
     "start_time": "2024-10-08T20:48:33.958402Z"
    }
   },
   "cell_type": "code",
   "source": "len(df)",
   "id": "ddc4964e4527cd71",
   "outputs": [
    {
     "data": {
      "text/plain": [
       "11914"
      ]
     },
     "execution_count": 98,
     "metadata": {},
     "output_type": "execute_result"
    }
   ],
   "execution_count": 98
  },
  {
   "metadata": {
    "ExecuteTime": {
     "end_time": "2024-10-08T20:48:34.160130Z",
     "start_time": "2024-10-08T20:48:34.129717Z"
    }
   },
   "cell_type": "code",
   "source": "df.head()",
   "id": "9db36897c5762d64",
   "outputs": [
    {
     "data": {
      "text/plain": [
       "  Make       Model  Year             Engine Fuel Type  Engine HP  \\\n",
       "0  BMW  1 Series M  2011  premium unleaded (required)      335.0   \n",
       "1  BMW    1 Series  2011  premium unleaded (required)      300.0   \n",
       "2  BMW    1 Series  2011  premium unleaded (required)      300.0   \n",
       "3  BMW    1 Series  2011  premium unleaded (required)      230.0   \n",
       "4  BMW    1 Series  2011  premium unleaded (required)      230.0   \n",
       "\n",
       "   Engine Cylinders Transmission Type     Driven_Wheels  Number of Doors  \\\n",
       "0               6.0            MANUAL  rear wheel drive              2.0   \n",
       "1               6.0            MANUAL  rear wheel drive              2.0   \n",
       "2               6.0            MANUAL  rear wheel drive              2.0   \n",
       "3               6.0            MANUAL  rear wheel drive              2.0   \n",
       "4               6.0            MANUAL  rear wheel drive              2.0   \n",
       "\n",
       "                         Market Category Vehicle Size Vehicle Style  \\\n",
       "0  Factory Tuner,Luxury,High-Performance      Compact         Coupe   \n",
       "1                     Luxury,Performance      Compact   Convertible   \n",
       "2                Luxury,High-Performance      Compact         Coupe   \n",
       "3                     Luxury,Performance      Compact         Coupe   \n",
       "4                                 Luxury      Compact   Convertible   \n",
       "\n",
       "   highway MPG  city mpg  Popularity   MSRP  \n",
       "0           26        19        3916  46135  \n",
       "1           28        19        3916  40650  \n",
       "2           28        20        3916  36350  \n",
       "3           28        18        3916  29450  \n",
       "4           28        18        3916  34500  "
      ],
      "text/html": [
       "<div>\n",
       "<style scoped>\n",
       "    .dataframe tbody tr th:only-of-type {\n",
       "        vertical-align: middle;\n",
       "    }\n",
       "\n",
       "    .dataframe tbody tr th {\n",
       "        vertical-align: top;\n",
       "    }\n",
       "\n",
       "    .dataframe thead th {\n",
       "        text-align: right;\n",
       "    }\n",
       "</style>\n",
       "<table border=\"1\" class=\"dataframe\">\n",
       "  <thead>\n",
       "    <tr style=\"text-align: right;\">\n",
       "      <th></th>\n",
       "      <th>Make</th>\n",
       "      <th>Model</th>\n",
       "      <th>Year</th>\n",
       "      <th>Engine Fuel Type</th>\n",
       "      <th>Engine HP</th>\n",
       "      <th>Engine Cylinders</th>\n",
       "      <th>Transmission Type</th>\n",
       "      <th>Driven_Wheels</th>\n",
       "      <th>Number of Doors</th>\n",
       "      <th>Market Category</th>\n",
       "      <th>Vehicle Size</th>\n",
       "      <th>Vehicle Style</th>\n",
       "      <th>highway MPG</th>\n",
       "      <th>city mpg</th>\n",
       "      <th>Popularity</th>\n",
       "      <th>MSRP</th>\n",
       "    </tr>\n",
       "  </thead>\n",
       "  <tbody>\n",
       "    <tr>\n",
       "      <th>0</th>\n",
       "      <td>BMW</td>\n",
       "      <td>1 Series M</td>\n",
       "      <td>2011</td>\n",
       "      <td>premium unleaded (required)</td>\n",
       "      <td>335.0</td>\n",
       "      <td>6.0</td>\n",
       "      <td>MANUAL</td>\n",
       "      <td>rear wheel drive</td>\n",
       "      <td>2.0</td>\n",
       "      <td>Factory Tuner,Luxury,High-Performance</td>\n",
       "      <td>Compact</td>\n",
       "      <td>Coupe</td>\n",
       "      <td>26</td>\n",
       "      <td>19</td>\n",
       "      <td>3916</td>\n",
       "      <td>46135</td>\n",
       "    </tr>\n",
       "    <tr>\n",
       "      <th>1</th>\n",
       "      <td>BMW</td>\n",
       "      <td>1 Series</td>\n",
       "      <td>2011</td>\n",
       "      <td>premium unleaded (required)</td>\n",
       "      <td>300.0</td>\n",
       "      <td>6.0</td>\n",
       "      <td>MANUAL</td>\n",
       "      <td>rear wheel drive</td>\n",
       "      <td>2.0</td>\n",
       "      <td>Luxury,Performance</td>\n",
       "      <td>Compact</td>\n",
       "      <td>Convertible</td>\n",
       "      <td>28</td>\n",
       "      <td>19</td>\n",
       "      <td>3916</td>\n",
       "      <td>40650</td>\n",
       "    </tr>\n",
       "    <tr>\n",
       "      <th>2</th>\n",
       "      <td>BMW</td>\n",
       "      <td>1 Series</td>\n",
       "      <td>2011</td>\n",
       "      <td>premium unleaded (required)</td>\n",
       "      <td>300.0</td>\n",
       "      <td>6.0</td>\n",
       "      <td>MANUAL</td>\n",
       "      <td>rear wheel drive</td>\n",
       "      <td>2.0</td>\n",
       "      <td>Luxury,High-Performance</td>\n",
       "      <td>Compact</td>\n",
       "      <td>Coupe</td>\n",
       "      <td>28</td>\n",
       "      <td>20</td>\n",
       "      <td>3916</td>\n",
       "      <td>36350</td>\n",
       "    </tr>\n",
       "    <tr>\n",
       "      <th>3</th>\n",
       "      <td>BMW</td>\n",
       "      <td>1 Series</td>\n",
       "      <td>2011</td>\n",
       "      <td>premium unleaded (required)</td>\n",
       "      <td>230.0</td>\n",
       "      <td>6.0</td>\n",
       "      <td>MANUAL</td>\n",
       "      <td>rear wheel drive</td>\n",
       "      <td>2.0</td>\n",
       "      <td>Luxury,Performance</td>\n",
       "      <td>Compact</td>\n",
       "      <td>Coupe</td>\n",
       "      <td>28</td>\n",
       "      <td>18</td>\n",
       "      <td>3916</td>\n",
       "      <td>29450</td>\n",
       "    </tr>\n",
       "    <tr>\n",
       "      <th>4</th>\n",
       "      <td>BMW</td>\n",
       "      <td>1 Series</td>\n",
       "      <td>2011</td>\n",
       "      <td>premium unleaded (required)</td>\n",
       "      <td>230.0</td>\n",
       "      <td>6.0</td>\n",
       "      <td>MANUAL</td>\n",
       "      <td>rear wheel drive</td>\n",
       "      <td>2.0</td>\n",
       "      <td>Luxury</td>\n",
       "      <td>Compact</td>\n",
       "      <td>Convertible</td>\n",
       "      <td>28</td>\n",
       "      <td>18</td>\n",
       "      <td>3916</td>\n",
       "      <td>34500</td>\n",
       "    </tr>\n",
       "  </tbody>\n",
       "</table>\n",
       "</div>"
      ]
     },
     "execution_count": 99,
     "metadata": {},
     "output_type": "execute_result"
    }
   ],
   "execution_count": 99
  },
  {
   "metadata": {},
   "cell_type": "markdown",
   "source": "Переводит все имена столбцов в нижний регистр и заменяет пробелы символами подчеркивания",
   "id": "e20039cdddac8c2c"
  },
  {
   "metadata": {
    "ExecuteTime": {
     "end_time": "2024-10-08T20:48:34.280022Z",
     "start_time": "2024-10-08T20:48:34.271015Z"
    }
   },
   "cell_type": "code",
   "source": "df.columns = df.columns.str.lower().str.replace(' ', '_')",
   "id": "9a8d674e2b20f4b9",
   "outputs": [],
   "execution_count": 100
  },
  {
   "metadata": {},
   "cell_type": "markdown",
   "source": "Выбирает только столбцы со строковыми значениями",
   "id": "25ea69088ecf00bb"
  },
  {
   "metadata": {
    "ExecuteTime": {
     "end_time": "2024-10-08T20:48:34.370079Z",
     "start_time": "2024-10-08T20:48:34.361893Z"
    }
   },
   "cell_type": "code",
   "source": "string_columns = list(df.dtypes[df.dtypes == 'object'].index)",
   "id": "51903ca8d8fd6911",
   "outputs": [],
   "execution_count": 101
  },
  {
   "metadata": {},
   "cell_type": "markdown",
   "source": "Понижает регистр и заменяет пробелы символами подчеркивания дял значений во всех строковых столбцах датафрейма",
   "id": "319539399b3d4047"
  },
  {
   "metadata": {
    "ExecuteTime": {
     "end_time": "2024-10-08T20:48:34.623071Z",
     "start_time": "2024-10-08T20:48:34.504997Z"
    }
   },
   "cell_type": "code",
   "source": [
    "for col in string_columns:\n",
    "    df[col] = df[col].str.lower().str.replace(' ', '_')"
   ],
   "id": "430dbb551a7f55eb",
   "outputs": [],
   "execution_count": 102
  },
  {
   "metadata": {},
   "cell_type": "markdown",
   "source": "# Анализ целевых переменных",
   "id": "fab2dc1753666913"
  },
  {
   "metadata": {
    "ExecuteTime": {
     "end_time": "2024-10-08T20:48:35.335627Z",
     "start_time": "2024-10-08T20:48:34.645534Z"
    }
   },
   "cell_type": "code",
   "source": "sns.histplot(df.msrp, bins=40)",
   "id": "46a016fcfd077f7f",
   "outputs": [
    {
     "data": {
      "text/plain": [
       "<Axes: xlabel='msrp', ylabel='Count'>"
      ]
     },
     "execution_count": 103,
     "metadata": {},
     "output_type": "execute_result"
    },
    {
     "data": {
      "text/plain": [
       "<Figure size 640x480 with 1 Axes>"
      ],
      "image/png": "[encoded data removed]"
     },
     "metadata": {},
     "output_type": "display_data"
    }
   ],
   "execution_count": 103
  },
  {
   "metadata": {
    "ExecuteTime": {
     "end_time": "2024-10-08T20:48:36.073717Z",
     "start_time": "2024-10-08T20:48:35.339316Z"
    }
   },
   "cell_type": "code",
   "source": "sns.histplot(df.msrp[df.msrp < 100000])",
   "id": "fbc18da1b57c35d3",
   "outputs": [
    {
     "data": {
      "text/plain": [
       "<Axes: xlabel='msrp', ylabel='Count'>"
      ]
     },
     "execution_count": 104,
     "metadata": {},
     "output_type": "execute_result"
    },
    {
     "data": {
      "text/plain": [
       "<Figure size 640x480 with 1 Axes>"
      ],
      "image/png": "[encoded data removed]"
     },
     "metadata": {},
     "output_type": "display_data"
    }
   ],
   "execution_count": 104
  },
  {
   "metadata": {
    "ExecuteTime": {
     "end_time": "2024-10-08T20:48:37.027538Z",
     "start_time": "2024-10-08T20:48:36.078254Z"
    }
   },
   "cell_type": "code",
   "source": [
    "log_price = np.log1p(df.msrp)\n",
    "sns.histplot(log_price)"
   ],
   "id": "5cf7d45b49f688d7",
   "outputs": [
    {
     "data": {
      "text/plain": [
       "<Axes: xlabel='msrp', ylabel='Count'>"
      ]
     },
     "execution_count": 105,
     "metadata": {},
     "output_type": "execute_result"
    },
    {
     "data": {
      "text/plain": [
       "<Figure size 640x480 with 1 Axes>"
      ],
      "image/png": "[encoded data removed]"
     },
     "metadata": {},
     "output_type": "display_data"
    }
   ],
   "execution_count": 105
  },
  {
   "metadata": {},
   "cell_type": "markdown",
   "source": "# Проверка на наличие пропущенных значений",
   "id": "97a7e34c50ed9f9b"
  },
  {
   "metadata": {
    "ExecuteTime": {
     "end_time": "2024-10-08T20:48:37.056907Z",
     "start_time": "2024-10-08T20:48:37.030562Z"
    }
   },
   "cell_type": "code",
   "source": "df.isnull().sum()",
   "id": "60ba888c8da74047",
   "outputs": [
    {
     "data": {
      "text/plain": [
       "make                    0\n",
       "model                   0\n",
       "year                    0\n",
       "engine_fuel_type        3\n",
       "engine_hp              69\n",
       "engine_cylinders       30\n",
       "transmission_type       0\n",
       "driven_wheels           0\n",
       "number_of_doors         6\n",
       "market_category      3742\n",
       "vehicle_size            0\n",
       "vehicle_style           0\n",
       "highway_mpg             0\n",
       "city_mpg                0\n",
       "popularity              0\n",
       "msrp                    0\n",
       "dtype: int64"
      ]
     },
     "execution_count": 106,
     "metadata": {},
     "output_type": "execute_result"
    }
   ],
   "execution_count": 106
  },
  {
   "metadata": {},
   "cell_type": "markdown",
   "source": "# Разделение данных на наборы для проверки, тестирования и обучения",
   "id": "187b934407dbda90"
  },
  {
   "metadata": {
    "ExecuteTime": {
     "end_time": "2024-10-08T20:48:37.105670Z",
     "start_time": "2024-10-08T20:48:37.062333Z"
    }
   },
   "cell_type": "code",
   "source": [
    "n = len(df)\n",
    "\n",
    "n_val = int(n * 0.2)\n",
    "n_test = int(n * 0.2)\n",
    "n_train = n - n_val - n_test\n",
    "\n",
    "np.random.seed(2)\n",
    "idx = np.arange(n)\n",
    "np.random.shuffle(idx)\n",
    "\n",
    "df_shuffled = df.iloc[idx]\n",
    "\n",
    "df_train = df_shuffled[:n_train].copy()\n",
    "df_val = df_shuffled[n_train:n_train + n_val].copy()\n",
    "df_test = df_shuffled[n_train + n_val:].copy()"
   ],
   "id": "ad0287461c4461da",
   "outputs": [],
   "execution_count": 107
  },
  {
   "metadata": {
    "ExecuteTime": {
     "end_time": "2024-10-08T20:48:37.122557Z",
     "start_time": "2024-10-08T20:48:37.108686Z"
    }
   },
   "cell_type": "code",
   "source": [
    "y_train = np.log1p(df_train.msrp.values)\n",
    "y_val = np.log1p(df_val.msrp.values)\n",
    "y_test = np.log1p(df_test.msrp.values)\n",
    "\n",
    "del df_train['msrp']\n",
    "del df_val['msrp']\n",
    "del df_test['msrp']"
   ],
   "id": "f00650f8d5785d37",
   "outputs": [],
   "execution_count": 108
  },
  {
   "metadata": {},
   "cell_type": "markdown",
   "source": "# Обучающая модель линейной регрессии",
   "id": "99f6f200ea4072a9"
  },
  {
   "metadata": {
    "ExecuteTime": {
     "end_time": "2024-10-08T20:48:37.139942Z",
     "start_time": "2024-10-08T20:48:37.126581Z"
    }
   },
   "cell_type": "code",
   "source": [
    "def train_linear_regression(X, y):\n",
    "    # добавление фиктивного столбца\n",
    "    ones = np.ones(X.shape[0])\n",
    "    X = np.column_stack((ones, X))\n",
    "    \n",
    "    # формула нормального уравнения\n",
    "    XTX = X.T.dot(X)\n",
    "    XTX_inv = np.linalg.inv(XTX)\n",
    "    w = XTX_inv.dot(X.T).dot(y)\n",
    "    \n",
    "    return w[0], w[1:]"
   ],
   "id": "36c4fc5dd87ea719",
   "outputs": [],
   "execution_count": 109
  },
  {
   "metadata": {},
   "cell_type": "markdown",
   "source": "# Прогнозирование цены",
   "id": "b92d2fb80eaa19bd"
  },
  {
   "metadata": {
    "ExecuteTime": {
     "end_time": "2024-10-08T20:48:37.156949Z",
     "start_time": "2024-10-08T20:48:37.144373Z"
    }
   },
   "cell_type": "code",
   "source": [
    "base = ['engine_hp', 'engine_cylinders', 'highway_mpg', 'city_mpg', 'popularity']\n",
    "df_num = df_train[base]"
   ],
   "id": "ca100fee2523ceab",
   "outputs": [],
   "execution_count": 110
  },
  {
   "metadata": {
    "ExecuteTime": {
     "end_time": "2024-10-08T20:48:37.175344Z",
     "start_time": "2024-10-08T20:48:37.160756Z"
    }
   },
   "cell_type": "code",
   "source": "df_num = df_num.fillna(0)",
   "id": "5dbaf89c4ce0172a",
   "outputs": [],
   "execution_count": 111
  },
  {
   "metadata": {
    "ExecuteTime": {
     "end_time": "2024-10-08T20:48:37.194574Z",
     "start_time": "2024-10-08T20:48:37.178902Z"
    }
   },
   "cell_type": "code",
   "source": "X_train = df_num.values",
   "id": "5c30af87ae5659e2",
   "outputs": [],
   "execution_count": 112
  },
  {
   "metadata": {
    "ExecuteTime": {
     "end_time": "2024-10-08T20:48:37.211926Z",
     "start_time": "2024-10-08T20:48:37.200283Z"
    }
   },
   "cell_type": "code",
   "source": "w_0, w = train_linear_regression(X_train, y_train)",
   "id": "cea767fcad1767e8",
   "outputs": [],
   "execution_count": 113
  },
  {
   "metadata": {},
   "cell_type": "markdown",
   "source": "Мы только что обучили первую модель! Теперь мы можем применить ее к обучающим данным, чтобы увидеть, насколько хороший прогноз она дает:",
   "id": "d44b1317930384f3"
  },
  {
   "metadata": {
    "ExecuteTime": {
     "end_time": "2024-10-08T20:48:37.227138Z",
     "start_time": "2024-10-08T20:48:37.213944Z"
    }
   },
   "cell_type": "code",
   "source": "y_pred = w_0 + X_train.dot(w)",
   "id": "d344562db57ba41c",
   "outputs": [],
   "execution_count": 114
  },
  {
   "metadata": {
    "ExecuteTime": {
     "end_time": "2024-10-08T20:48:38.646981Z",
     "start_time": "2024-10-08T20:48:37.230160Z"
    }
   },
   "cell_type": "code",
   "source": [
    "sns.histplot(y_pred, label='prediction')\n",
    "sns.histplot(y_train, label='target')\n",
    "plt.legend()"
   ],
   "id": "5422f908d1927dbd",
   "outputs": [
    {
     "data": {
      "text/plain": [
       "<matplotlib.legend.Legend at 0x1db0ca61790>"
      ]
     },
     "execution_count": 115,
     "metadata": {},
     "output_type": "execute_result"
    },
    {
     "data": {
      "text/plain": [
       "<Figure size 640x480 with 1 Axes>"
      ],
      "image/png": "[encoded data removed]"
     },
     "metadata": {},
     "output_type": "display_data"
    }
   ],
   "execution_count": 115
  },
  {
   "metadata": {},
   "cell_type": "markdown",
   "source": "# Реализация вычисления корня среднеквадратичной ошибки (RMSE - root mean squared error)",
   "id": "a1857de21c4c4743"
  },
  {
   "metadata": {
    "ExecuteTime": {
     "end_time": "2024-10-08T20:48:38.658742Z",
     "start_time": "2024-10-08T20:48:38.649578Z"
    }
   },
   "cell_type": "code",
   "source": [
    "def rmse(y, y_pred):\n",
    "    error = y_pred - y\n",
    "    mse = (error ** 2).mean()\n",
    "    return np.sqrt(mse)"
   ],
   "id": "a67488b27ecd6b28",
   "outputs": [],
   "execution_count": 116
  },
  {
   "metadata": {
    "ExecuteTime": {
     "end_time": "2024-10-08T20:48:38.676517Z",
     "start_time": "2024-10-08T20:48:38.661127Z"
    }
   },
   "cell_type": "code",
   "source": "rmse(y_train, y_pred)",
   "id": "918f8f6de850540c",
   "outputs": [
    {
     "data": {
      "text/plain": [
       "0.7554192603920132"
      ]
     },
     "execution_count": 117,
     "metadata": {},
     "output_type": "execute_result"
    }
   ],
   "execution_count": 117
  },
  {
   "metadata": {},
   "cell_type": "markdown",
   "source": "# Проверка модели",
   "id": "bbc8aa2a8d83f5ee"
  },
  {
   "metadata": {
    "ExecuteTime": {
     "end_time": "2024-10-08T20:48:38.691209Z",
     "start_time": "2024-10-08T20:48:38.680309Z"
    }
   },
   "cell_type": "code",
   "source": [
    "def prepare_X(df):\n",
    "    df = df.copy()\n",
    "    features = base.copy()\n",
    "    \n",
    "    df['age'] = 2024 - df.year\n",
    "    features.append('age')\n",
    "    \n",
    "    df_num = df[features]\n",
    "    df_num = df_num.fillna(0)\n",
    "    \n",
    "    X = df_num.values\n",
    "    return X"
   ],
   "id": "b5dfa07eecc15354",
   "outputs": [],
   "execution_count": 118
  },
  {
   "metadata": {
    "ExecuteTime": {
     "end_time": "2024-10-08T20:48:38.735321Z",
     "start_time": "2024-10-08T20:48:38.694485Z"
    }
   },
   "cell_type": "code",
   "source": [
    "X_train = prepare_X(df_train)\n",
    "w_0, w = train_linear_regression(X_train, y_train)\n",
    "\n",
    "X_val = prepare_X(df_val)\n",
    "y_pred = w_0 + X_val.dot(w)\n",
    "print('validation rmse:', rmse(y_val, y_pred))"
   ],
   "id": "32f5ff25ccef1df0",
   "outputs": [
    {
     "name": "stdout",
     "output_type": "stream",
     "text": [
      "validation rmse: 0.5172055461058286\n"
     ]
    }
   ],
   "execution_count": 119
  },
  {
   "metadata": {
    "ExecuteTime": {
     "end_time": "2024-10-08T20:48:39.708736Z",
     "start_time": "2024-10-08T20:48:38.738338Z"
    }
   },
   "cell_type": "code",
   "source": [
    "sns.histplot(y_pred, label='prediction')\n",
    "sns.histplot(y_val, label='target')\n",
    "plt.legend()"
   ],
   "id": "4015b2760dfbeb56",
   "outputs": [
    {
     "data": {
      "text/plain": [
       "<matplotlib.legend.Legend at 0x1db07537590>"
      ]
     },
     "execution_count": 120,
     "metadata": {},
     "output_type": "execute_result"
    },
    {
     "data": {
      "text/plain": [
       "<Figure size 640x480 with 1 Axes>"
      ],
      "image/png": "[encoded data removed]"
     },
     "metadata": {},
     "output_type": "display_data"
    }
   ],
   "execution_count": 120
  },
  {
   "metadata": {},
   "cell_type": "markdown",
   "source": "# Обработка категориальных переменных",
   "id": "da43778bc91018da"
  },
  {
   "metadata": {
    "ExecuteTime": {
     "end_time": "2024-10-08T20:48:39.731154Z",
     "start_time": "2024-10-08T20:48:39.711100Z"
    }
   },
   "cell_type": "code",
   "source": [
    "def prepare_X(df):\n",
    "    df = df.copy()\n",
    "    features = base.copy()\n",
    "    \n",
    "    df['age'] = 2024 - df.year\n",
    "    features.append('age')\n",
    "    \n",
    "    for v in [2, 3, 4]:\n",
    "        feature = 'num_doors_%s' % v\n",
    "        value = (df['number_of_doors'] == v).astype(int)\n",
    "        df[feature] = value\n",
    "        features.append(feature)\n",
    "        \n",
    "    for v in ['chevrolet', 'ford', 'volkswagen', 'toyota', 'dodge']:\n",
    "        feature = 'is_make_%s' % v\n",
    "        df[feature] = (df['make'] == v).astype(int)\n",
    "        features.append(feature)\n",
    "    \n",
    "    for v in ['regular_unleaded', 'premium unleaded_(required)',\n",
    "              'premium_unleaded_(recommended)', 'flex-fuel_(unleaded/e85)']:\n",
    "        feature = 'is_type_%s' % v\n",
    "        df[feature] = (df['engine_fuel_type'] == v).astype(int)\n",
    "        features.append(feature)\n",
    "        \n",
    "    for v in ['automatic', 'manual', 'automated_manual']:\n",
    "        feature = 'is_transmission_%s' % v\n",
    "        df[feature] = (df['transmission_type'] == v).astype(int)\n",
    "        features.append(feature)\n",
    "    \n",
    "    for v in ['front_wheel_drive', 'rear_wheel_drive', \n",
    "              'all_wheel_drive', 'four_wheel_drive']:\n",
    "        feature = 'is_driven_wheels_%s' % v\n",
    "        df[feature] = (df['driven_wheels'] == v).astype(int)\n",
    "        features.append(feature)\n",
    "\n",
    "    for v in ['crossover', 'flex_fuel', 'luxury',\n",
    "              'luxury, performance', 'hatchback']:\n",
    "        feature = 'is_mc_%s' % v\n",
    "        df[feature] = (df['market_category'] == v).astype (int)\n",
    "        features.append(feature)\n",
    "\n",
    "    for v in ['compact', 'midsize', 'large']:\n",
    "        feature = 'is_size_%s' % v\n",
    "        df[feature] = (df['vehicle_size'] == v).astype(int)\n",
    "        features.append(feature)\n",
    "\n",
    "    for v in ['sedan', '4dr_suv', 'coupe', 'convertible',\n",
    "              '4dr_hatchback']:\n",
    "        feature = 'is_style_%s' % v\n",
    "        df[feature] = (df['vehicle_style'] == v).astype(int)\n",
    "        features.append(feature)\n",
    "    \n",
    "    df_num = df[features]\n",
    "    df_num = df_num.fillna(0)\n",
    "    \n",
    "    X = df_num.values\n",
    "    return X\n"
   ],
   "id": "177937334505e1c7",
   "outputs": [],
   "execution_count": 121
  },
  {
   "metadata": {
    "ExecuteTime": {
     "end_time": "2024-10-08T20:48:39.929668Z",
     "start_time": "2024-10-08T20:48:39.733257Z"
    }
   },
   "cell_type": "code",
   "source": [
    "X_train = prepare_X(df_train)\n",
    "w_0, w = train_linear_regression(X_train, y_train)\n",
    "\n",
    "X_val = prepare_X(df_val)\n",
    "y_pred = w_0 + X_val.dot(w)\n",
    "print('validation rmse:', rmse(y_val, y_pred))"
   ],
   "id": "6529bc6db24103ec",
   "outputs": [
    {
     "ename": "LinAlgError",
     "evalue": "Singular matrix",
     "output_type": "error",
     "traceback": [
      "\u001B[1;31m---------------------------------------------------------------------------\u001B[0m",
      "\u001B[1;31mLinAlgError\u001B[0m                               Traceback (most recent call last)",
      "Cell \u001B[1;32mIn[122], line 2\u001B[0m\n\u001B[0;32m      1\u001B[0m X_train \u001B[38;5;241m=\u001B[39m prepare_X(df_train)\n\u001B[1;32m----> 2\u001B[0m w_0, w \u001B[38;5;241m=\u001B[39m train_linear_regression(X_train, y_train)\n\u001B[0;32m      4\u001B[0m X_val \u001B[38;5;241m=\u001B[39m prepare_X(df_val)\n\u001B[0;32m      5\u001B[0m y_pred \u001B[38;5;241m=\u001B[39m w_0 \u001B[38;5;241m+\u001B[39m X_val\u001B[38;5;241m.\u001B[39mdot(w)\n",
      "Cell \u001B[1;32mIn[109], line 8\u001B[0m, in \u001B[0;36mtrain_linear_regression\u001B[1;34m(X, y)\u001B[0m\n\u001B[0;32m      6\u001B[0m \u001B[38;5;66;03m# формула нормального уравнения\u001B[39;00m\n\u001B[0;32m      7\u001B[0m XTX \u001B[38;5;241m=\u001B[39m X\u001B[38;5;241m.\u001B[39mT\u001B[38;5;241m.\u001B[39mdot(X)\n\u001B[1;32m----> 8\u001B[0m XTX_inv \u001B[38;5;241m=\u001B[39m np\u001B[38;5;241m.\u001B[39mlinalg\u001B[38;5;241m.\u001B[39minv(XTX)\n\u001B[0;32m      9\u001B[0m w \u001B[38;5;241m=\u001B[39m XTX_inv\u001B[38;5;241m.\u001B[39mdot(X\u001B[38;5;241m.\u001B[39mT)\u001B[38;5;241m.\u001B[39mdot(y)\n\u001B[0;32m     11\u001B[0m \u001B[38;5;28;01mreturn\u001B[39;00m w[\u001B[38;5;241m0\u001B[39m], w[\u001B[38;5;241m1\u001B[39m:]\n",
      "File \u001B[1;32m<__array_function__ internals>:200\u001B[0m, in \u001B[0;36minv\u001B[1;34m(*args, **kwargs)\u001B[0m\n",
      "File \u001B[1;32m~\\anaconda3\\Lib\\site-packages\\numpy\\linalg\\linalg.py:538\u001B[0m, in \u001B[0;36minv\u001B[1;34m(a)\u001B[0m\n\u001B[0;32m    536\u001B[0m signature \u001B[38;5;241m=\u001B[39m \u001B[38;5;124m'\u001B[39m\u001B[38;5;124mD->D\u001B[39m\u001B[38;5;124m'\u001B[39m \u001B[38;5;28;01mif\u001B[39;00m isComplexType(t) \u001B[38;5;28;01melse\u001B[39;00m \u001B[38;5;124m'\u001B[39m\u001B[38;5;124md->d\u001B[39m\u001B[38;5;124m'\u001B[39m\n\u001B[0;32m    537\u001B[0m extobj \u001B[38;5;241m=\u001B[39m get_linalg_error_extobj(_raise_linalgerror_singular)\n\u001B[1;32m--> 538\u001B[0m ainv \u001B[38;5;241m=\u001B[39m _umath_linalg\u001B[38;5;241m.\u001B[39minv(a, signature\u001B[38;5;241m=\u001B[39msignature, extobj\u001B[38;5;241m=\u001B[39mextobj)\n\u001B[0;32m    539\u001B[0m \u001B[38;5;28;01mreturn\u001B[39;00m wrap(ainv\u001B[38;5;241m.\u001B[39mastype(result_t, copy\u001B[38;5;241m=\u001B[39m\u001B[38;5;28;01mFalse\u001B[39;00m))\n",
      "File \u001B[1;32m~\\anaconda3\\Lib\\site-packages\\numpy\\linalg\\linalg.py:89\u001B[0m, in \u001B[0;36m_raise_linalgerror_singular\u001B[1;34m(err, flag)\u001B[0m\n\u001B[0;32m     88\u001B[0m \u001B[38;5;28;01mdef\u001B[39;00m \u001B[38;5;21m_raise_linalgerror_singular\u001B[39m(err, flag):\n\u001B[1;32m---> 89\u001B[0m     \u001B[38;5;28;01mraise\u001B[39;00m LinAlgError(\u001B[38;5;124m\"\u001B[39m\u001B[38;5;124mSingular matrix\u001B[39m\u001B[38;5;124m\"\u001B[39m)\n",
      "\u001B[1;31mLinAlgError\u001B[0m: Singular matrix"
     ]
    }
   ],
   "execution_count": 122
  },
  {
   "metadata": {},
   "cell_type": "markdown",
   "source": "# Регуляризация",
   "id": "7cee0b86aabc52a9"
  },
  {
   "metadata": {
    "ExecuteTime": {
     "end_time": "2024-10-08T20:48:52.032973Z",
     "start_time": "2024-10-08T20:48:52.021355Z"
    }
   },
   "cell_type": "code",
   "source": [
    "def train_linear_regression_reg(X, y, r=0.0):\n",
    "    ones = np.ones(X.shape[0])\n",
    "    X = np.column_stack([ones, X])\n",
    "    \n",
    "    XTX = X.T.dot(X)\n",
    "    reg = r * np.eye(XTX.shape[0])\n",
    "    XTX = XTX + reg\n",
    "    \n",
    "    XTX_inv = np.linalg.inv(XTX)\n",
    "    w = XTX_inv.dot(X.T).dot(y)\n",
    "    \n",
    "    return w[0], w[1:]"
   ],
   "id": "2f5aca8bf92c3c92",
   "outputs": [],
   "execution_count": 123
  },
  {
   "metadata": {
    "ExecuteTime": {
     "end_time": "2024-10-08T20:48:52.825873Z",
     "start_time": "2024-10-08T20:48:52.705107Z"
    }
   },
   "cell_type": "code",
   "source": [
    "for r in [0, 0.001, 0.01, 0.1, 1, 10]:\n",
    "    w_0, w = train_linear_regression_reg(X_train, y_train, r=r)\n",
    "    print('%5s, %.2f, %.2f, %.2f' % (r, w_0, w[6], w[13]))"
   ],
   "id": "cdb448b2ed19f46b",
   "outputs": [
    {
     "ename": "LinAlgError",
     "evalue": "Singular matrix",
     "output_type": "error",
     "traceback": [
      "\u001B[1;31m---------------------------------------------------------------------------\u001B[0m",
      "\u001B[1;31mLinAlgError\u001B[0m                               Traceback (most recent call last)",
      "Cell \u001B[1;32mIn[124], line 2\u001B[0m\n\u001B[0;32m      1\u001B[0m \u001B[38;5;28;01mfor\u001B[39;00m r \u001B[38;5;129;01min\u001B[39;00m [\u001B[38;5;241m0\u001B[39m, \u001B[38;5;241m0.001\u001B[39m, \u001B[38;5;241m0.01\u001B[39m, \u001B[38;5;241m0.1\u001B[39m, \u001B[38;5;241m1\u001B[39m, \u001B[38;5;241m10\u001B[39m]:\n\u001B[1;32m----> 2\u001B[0m     w_0, w \u001B[38;5;241m=\u001B[39m train_linear_regression_reg(X_train, y_train, r\u001B[38;5;241m=\u001B[39mr)\n\u001B[0;32m      3\u001B[0m     \u001B[38;5;28mprint\u001B[39m(\u001B[38;5;124m'\u001B[39m\u001B[38;5;132;01m%5s\u001B[39;00m\u001B[38;5;124m, \u001B[39m\u001B[38;5;132;01m%.2f\u001B[39;00m\u001B[38;5;124m, \u001B[39m\u001B[38;5;132;01m%.2f\u001B[39;00m\u001B[38;5;124m, \u001B[39m\u001B[38;5;132;01m%.2f\u001B[39;00m\u001B[38;5;124m'\u001B[39m \u001B[38;5;241m%\u001B[39m (r, w_0, w[\u001B[38;5;241m6\u001B[39m], w[\u001B[38;5;241m13\u001B[39m]))\n",
      "Cell \u001B[1;32mIn[123], line 9\u001B[0m, in \u001B[0;36mtrain_linear_regression_reg\u001B[1;34m(X, y, r)\u001B[0m\n\u001B[0;32m      6\u001B[0m reg \u001B[38;5;241m=\u001B[39m r \u001B[38;5;241m*\u001B[39m np\u001B[38;5;241m.\u001B[39meye(XTX\u001B[38;5;241m.\u001B[39mshape[\u001B[38;5;241m0\u001B[39m])\n\u001B[0;32m      7\u001B[0m XTX \u001B[38;5;241m=\u001B[39m XTX \u001B[38;5;241m+\u001B[39m reg\n\u001B[1;32m----> 9\u001B[0m XTX_inv \u001B[38;5;241m=\u001B[39m np\u001B[38;5;241m.\u001B[39mlinalg\u001B[38;5;241m.\u001B[39minv(XTX)\n\u001B[0;32m     10\u001B[0m w \u001B[38;5;241m=\u001B[39m XTX_inv\u001B[38;5;241m.\u001B[39mdot(X\u001B[38;5;241m.\u001B[39mT)\u001B[38;5;241m.\u001B[39mdot(y)\n\u001B[0;32m     12\u001B[0m \u001B[38;5;28;01mreturn\u001B[39;00m w[\u001B[38;5;241m0\u001B[39m], w[\u001B[38;5;241m1\u001B[39m:]\n",
      "File \u001B[1;32m<__array_function__ internals>:200\u001B[0m, in \u001B[0;36minv\u001B[1;34m(*args, **kwargs)\u001B[0m\n",
      "File \u001B[1;32m~\\anaconda3\\Lib\\site-packages\\numpy\\linalg\\linalg.py:538\u001B[0m, in \u001B[0;36minv\u001B[1;34m(a)\u001B[0m\n\u001B[0;32m    536\u001B[0m signature \u001B[38;5;241m=\u001B[39m \u001B[38;5;124m'\u001B[39m\u001B[38;5;124mD->D\u001B[39m\u001B[38;5;124m'\u001B[39m \u001B[38;5;28;01mif\u001B[39;00m isComplexType(t) \u001B[38;5;28;01melse\u001B[39;00m \u001B[38;5;124m'\u001B[39m\u001B[38;5;124md->d\u001B[39m\u001B[38;5;124m'\u001B[39m\n\u001B[0;32m    537\u001B[0m extobj \u001B[38;5;241m=\u001B[39m get_linalg_error_extobj(_raise_linalgerror_singular)\n\u001B[1;32m--> 538\u001B[0m ainv \u001B[38;5;241m=\u001B[39m _umath_linalg\u001B[38;5;241m.\u001B[39minv(a, signature\u001B[38;5;241m=\u001B[39msignature, extobj\u001B[38;5;241m=\u001B[39mextobj)\n\u001B[0;32m    539\u001B[0m \u001B[38;5;28;01mreturn\u001B[39;00m wrap(ainv\u001B[38;5;241m.\u001B[39mastype(result_t, copy\u001B[38;5;241m=\u001B[39m\u001B[38;5;28;01mFalse\u001B[39;00m))\n",
      "File \u001B[1;32m~\\anaconda3\\Lib\\site-packages\\numpy\\linalg\\linalg.py:89\u001B[0m, in \u001B[0;36m_raise_linalgerror_singular\u001B[1;34m(err, flag)\u001B[0m\n\u001B[0;32m     88\u001B[0m \u001B[38;5;28;01mdef\u001B[39;00m \u001B[38;5;21m_raise_linalgerror_singular\u001B[39m(err, flag):\n\u001B[1;32m---> 89\u001B[0m     \u001B[38;5;28;01mraise\u001B[39;00m LinAlgError(\u001B[38;5;124m\"\u001B[39m\u001B[38;5;124mSingular matrix\u001B[39m\u001B[38;5;124m\"\u001B[39m)\n",
      "\u001B[1;31mLinAlgError\u001B[0m: Singular matrix"
     ]
    }
   ],
   "execution_count": 124
  },
  {
   "metadata": {
    "ExecuteTime": {
     "end_time": "2024-10-08T20:48:54.188820Z",
     "start_time": "2024-10-08T20:48:53.974710Z"
    }
   },
   "cell_type": "code",
   "source": [
    "X_train = prepare_X(df_train)\n",
    "w_0, w = train_linear_regression_reg(X_train, y_train, r = 0.001)\n",
    "\n",
    "X_val = prepare_X(df_val)\n",
    "y_pred = w_0 + X_val.dot(w)\n",
    "print('validation rmse:', rmse(y_val, y_pred))"
   ],
   "id": "a69c6d16d3558702",
   "outputs": [
    {
     "name": "stdout",
     "output_type": "stream",
     "text": [
      "validation rmse: 0.46034586045885123\n"
     ]
    }
   ],
   "execution_count": 125
  },
  {
   "metadata": {
    "ExecuteTime": {
     "end_time": "2024-10-08T20:50:47.846250Z",
     "start_time": "2024-10-08T20:50:47.564020Z"
    }
   },
   "cell_type": "code",
   "source": [
    "X_train = prepare_X(df_train)\n",
    "X_val = prepare_X(df_val)\n",
    "\n",
    "for r in [0.000001, 0.0001, 0.001, 0.01, 0.1, 1, 5, 10]:\n",
    "    w_0, w = train_linear_regression_reg(X_train, y_train, r=r)\n",
    "    y_pred = w_0 + X_val.dot(w)\n",
    "    print('%6s' %r, rmse(y_val, y_pred))"
   ],
   "id": "80146aa0ac7b152a",
   "outputs": [
    {
     "name": "stdout",
     "output_type": "stream",
     "text": [
      " 1e-06 0.46034481156547036\n",
      "0.0001 0.4603444022033096\n",
      " 0.001 0.46034586045885123\n",
      "  0.01 0.4603605661362202\n",
      "   0.1 0.46051097140568364\n",
      "     1 0.4621683306502458\n",
      "     5 0.46949847144223716\n",
      "    10 0.4778242870177492\n"
     ]
    }
   ],
   "execution_count": 126
  },
  {
   "metadata": {
    "ExecuteTime": {
     "end_time": "2024-10-08T20:51:47.766164Z",
     "start_time": "2024-10-08T20:51:47.451473Z"
    }
   },
   "cell_type": "code",
   "source": [
    "X_train = prepare_X(df_train)\n",
    "w_0, w = train_linear_regression_reg(X_train, y_train, r=0.01)\n",
    "\n",
    "X_val = prepare_X(df_val)\n",
    "y_pred = w_0 + X_val.dot(w)\n",
    "print('validation:', rmse(y_val, y_pred))\n",
    "\n",
    "X_test = prepare_X(df_test)\n",
    "y_pred = w_0 + X_test.dot(w)\n",
    "print('test:', rmse(y_test, y_pred))"
   ],
   "id": "966e12bd1ff1cf1e",
   "outputs": [
    {
     "name": "stdout",
     "output_type": "stream",
     "text": [
      "validation: 0.4603605661362202\n",
      "test: 0.4572131462800324\n"
     ]
    }
   ],
   "execution_count": 127
  },
  {
   "metadata": {},
   "cell_type": "markdown",
   "source": "# Использование модели",
   "id": "81d33f13849497da"
  },
  {
   "metadata": {
    "ExecuteTime": {
     "end_time": "2024-10-08T20:54:56.448886Z",
     "start_time": "2024-10-08T20:54:56.436993Z"
    }
   },
   "cell_type": "code",
   "source": [
    "ad = {'city_mpg': 18,\n",
    "      \n",
    "'driven_wheels': 'all_wheel_drive',\n",
    "      \n",
    "'engine_cylinders': 6.0,\n",
    "      \n",
    "'engine_fuel_type': 'regular_unleaded',\n",
    "\n",
    "'engine_hp': 268.0,\n",
    "\n",
    "'highway_mpg': 25,\n",
    "\n",
    "'make': 'toyota',\n",
    "\n",
    "'market_category': 'crossover,performance',\n",
    "\n",
    "'model': 'venza',\n",
    "\n",
    "'number_of_doors': 4.0,\n",
    "\n",
    "'popularity': 2031,\n",
    "\n",
    "'transmission_type': 'automatic',\n",
    "\n",
    "'vehicle_size': 'midsize',\n",
    "\n",
    "'vehicle_style': 'wagon',\n",
    "\n",
    "'year': 2013\n",
    "}"
   ],
   "id": "a15500fcb6647863",
   "outputs": [],
   "execution_count": 128
  },
  {
   "metadata": {
    "ExecuteTime": {
     "end_time": "2024-10-08T20:54:56.835374Z",
     "start_time": "2024-10-08T20:54:56.766001Z"
    }
   },
   "cell_type": "code",
   "source": [
    "df_test = pd.DataFrame([ad])\n",
    "\n",
    "X_test = prepare_X(df_test)"
   ],
   "id": "68f6c52ba041e673",
   "outputs": [],
   "execution_count": 129
  },
  {
   "metadata": {
    "ExecuteTime": {
     "end_time": "2024-10-08T20:54:57.324026Z",
     "start_time": "2024-10-08T20:54:57.313236Z"
    }
   },
   "cell_type": "code",
   "source": "y_pred = w_0 + X_test.dot(w)",
   "id": "66fd09f1d702f3cb",
   "outputs": [],
   "execution_count": 130
  },
  {
   "metadata": {
    "ExecuteTime": {
     "end_time": "2024-10-08T20:54:57.792715Z",
     "start_time": "2024-10-08T20:54:57.781401Z"
    }
   },
   "cell_type": "code",
   "source": [
    "suggestion = np.expm1(y_pred)\n",
    "\n",
    "suggestion"
   ],
   "id": "f641b94da4518c63",
   "outputs": [
    {
     "data": {
      "text/plain": [
       "array([28239.36657172])"
      ]
     },
     "execution_count": 131,
     "metadata": {},
     "output_type": "execute_result"
    }
   ],
   "execution_count": 131
  },
  {
   "metadata": {},
   "cell_type": "code",
   "outputs": [],
   "execution_count": null,
   "source": "",
   "id": "726b9fd0efdf0314"
  }
 ],
 "metadata": {
  "kernelspec": {
   "display_name": "Python 3",
   "language": "python",
   "name": "python3"
  },
  "language_info": {
   "codemirror_mode": {
    "name": "ipython",
    "version": 2
   },
   "file_extension": ".py",
   "mimetype": "text/x-python",
   "name": "python",
   "nbconvert_exporter": "python",
   "pygments_lexer": "ipython2",
   "version": "2.7.6"
  }
 },
 "nbformat": 4,
 "nbformat_minor": 5
}
