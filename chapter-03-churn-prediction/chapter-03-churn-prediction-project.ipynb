{
 "cells": [
  {
   "metadata": {},
   "cell_type": "markdown",
   "source": "# Импорт библиотек",
   "id": "7eb682db86f5c281"
  },
  {
   "metadata": {
    "ExecuteTime": {
     "end_time": "2024-10-19T05:23:27.813371Z",
     "start_time": "2024-10-19T05:23:27.734968Z"
    }
   },
   "cell_type": "code",
   "source": [
    "import pandas as pd\n",
    "import numpy as np\n",
    "import seaborn as sns\n",
    "\n",
    "from matplotlib import pyplot as plt\n",
    "\n",
    "%matplotlib inline"
   ],
   "id": "initial_id",
   "execution_count": 2,
   "outputs": []
  },
  {
   "metadata": {},
   "cell_type": "markdown",
   "source": "# Подготовка исходных данных",
   "id": "80f3b316cf9cc62a"
  },
  {
   "metadata": {
    "ExecuteTime": {
     "end_time": "2024-10-19T05:23:28.345342Z",
     "start_time": "2024-10-19T05:23:28.257143Z"
    }
   },
   "cell_type": "code",
   "source": "df = pd.read_csv('WA_Fn-UseC_-Telco-Customer-Churn.csv')",
   "id": "347866870ebd95dd",
   "execution_count": 3,
   "outputs": []
  },
  {
   "metadata": {
    "ExecuteTime": {
     "end_time": "2024-10-19T05:23:28.361397Z",
     "start_time": "2024-10-19T05:23:28.348325Z"
    }
   },
   "cell_type": "code",
   "source": "len(df)",
   "id": "e12e45ef18ca4b68",
   "execution_count": 4,
   "outputs": []
  },
  {
   "metadata": {
    "ExecuteTime": {
     "end_time": "2024-10-19T05:23:28.467696Z",
     "start_time": "2024-10-19T05:23:28.412053Z"
    }
   },
   "cell_type": "code",
   "source": "df.head()",
   "id": "7bc8a99331a3d3d3",
   "execution_count": 5,
   "outputs": []
  },
  {
   "metadata": {
    "ExecuteTime": {
     "end_time": "2024-10-19T05:23:28.503490Z",
     "start_time": "2024-10-19T05:23:28.471186Z"
    }
   },
   "cell_type": "code",
   "source": "df.head().T",
   "id": "b6535cb7ae770ed3",
   "execution_count": 6,
   "outputs": []
  },
  {
   "metadata": {
    "ExecuteTime": {
     "end_time": "2024-10-19T05:23:28.631123Z",
     "start_time": "2024-10-19T05:23:28.617188Z"
    }
   },
   "cell_type": "code",
   "source": "df.dtypes",
   "id": "2a4537b1160cca1a",
   "execution_count": 7,
   "outputs": []
  },
  {
   "metadata": {
    "ExecuteTime": {
     "end_time": "2024-10-19T05:23:28.691626Z",
     "start_time": "2024-10-19T05:23:28.670851Z"
    }
   },
   "cell_type": "code",
   "source": [
    "total_charges = pd.to_numeric(df.TotalCharges, errors='coerce')\n",
    "total_charges"
   ],
   "id": "b364540745edb74d",
   "execution_count": 8,
   "outputs": []
  },
  {
   "metadata": {
    "ExecuteTime": {
     "end_time": "2024-10-19T05:23:28.831700Z",
     "start_time": "2024-10-19T05:23:28.809497Z"
    }
   },
   "cell_type": "code",
   "source": "df[total_charges.isnull()][['customerID', 'TotalCharges']]",
   "id": "3c4351b17ce9ad07",
   "execution_count": 9,
   "outputs": []
  },
  {
   "metadata": {
    "ExecuteTime": {
     "end_time": "2024-10-19T05:23:29.132141Z",
     "start_time": "2024-10-19T05:23:29.106927Z"
    }
   },
   "cell_type": "code",
   "source": [
    "df.TotalCharges = pd.to_numeric(df.TotalCharges, errors='coerce')\n",
    "df.TotalCharges = df.TotalCharges.fillna(0)\n",
    "df.TotalCharges"
   ],
   "id": "9a3dc87f20d8849e",
   "execution_count": 10,
   "outputs": []
  },
  {
   "metadata": {
    "ExecuteTime": {
     "end_time": "2024-10-19T05:23:29.900334Z",
     "start_time": "2024-10-19T05:23:29.728567Z"
    }
   },
   "cell_type": "code",
   "source": [
    "df.columns = df.columns.str.lower().str.replace(' ', '_')\n",
    "\n",
    "string_columns = list(df.dtypes[df.dtypes == 'object'].index)\n",
    "\n",
    "for col in string_columns:\n",
    "    df[col] = df[col].str.lower().str.replace(' ', '_')"
   ],
   "id": "8c35cb83f4c04bf2",
   "execution_count": 11,
   "outputs": []
  },
  {
   "metadata": {
    "ExecuteTime": {
     "end_time": "2024-10-19T05:23:29.924280Z",
     "start_time": "2024-10-19T05:23:29.913273Z"
    }
   },
   "cell_type": "code",
   "source": "df.churn = (df.churn == 'yes').astype(int)",
   "id": "2c846aad2a6ec4f8",
   "execution_count": 12,
   "outputs": []
  },
  {
   "metadata": {
    "ExecuteTime": {
     "end_time": "2024-10-19T05:23:31.065946Z",
     "start_time": "2024-10-19T05:23:30.106300Z"
    }
   },
   "cell_type": "code",
   "source": [
    "from sklearn.model_selection import train_test_split\n",
    "\n",
    "df_train_full, df_test = train_test_split(df, test_size=0.2, random_state=1)"
   ],
   "id": "d7021740a520be50",
   "execution_count": 13,
   "outputs": []
  },
  {
   "metadata": {
    "ExecuteTime": {
     "end_time": "2024-10-19T05:23:31.112083Z",
     "start_time": "2024-10-19T05:23:31.071197Z"
    }
   },
   "cell_type": "code",
   "source": "df_train_full.head()",
   "id": "675f3ee3e1bdaf4",
   "execution_count": 14,
   "outputs": []
  },
  {
   "metadata": {
    "ExecuteTime": {
     "end_time": "2024-10-19T05:23:31.138428Z",
     "start_time": "2024-10-19T05:23:31.116113Z"
    }
   },
   "cell_type": "code",
   "source": [
    "df_train, df_val = train_test_split(df_train_full, test_size=0.33, random_state=11)\n",
    "\n",
    "y_train = df_train.churn.values\n",
    "y_val = df_val.churn.values\n",
    "\n",
    "del df_train['churn']\n",
    "del df_val['churn']"
   ],
   "id": "61df575ca04856b9",
   "execution_count": 15,
   "outputs": []
  },
  {
   "metadata": {},
   "cell_type": "markdown",
   "source": "# Исследовательский анализ данных",
   "id": "e6a598d1ea219fdd"
  },
  {
   "metadata": {
    "ExecuteTime": {
     "end_time": "2024-10-19T05:23:31.172254Z",
     "start_time": "2024-10-19T05:23:31.142922Z"
    }
   },
   "cell_type": "code",
   "source": "df_train_full.isnull().sum()",
   "id": "78017b451e0d4051",
   "execution_count": 16,
   "outputs": []
  },
  {
   "metadata": {
    "ExecuteTime": {
     "end_time": "2024-10-19T05:23:31.201839Z",
     "start_time": "2024-10-19T05:23:31.174802Z"
    }
   },
   "cell_type": "code",
   "source": "df_train_full.churn.value_counts()",
   "id": "a4e9d5da3cf05913",
   "execution_count": 17,
   "outputs": []
  },
  {
   "metadata": {
    "ExecuteTime": {
     "end_time": "2024-10-19T05:23:31.217382Z",
     "start_time": "2024-10-19T05:23:31.206856Z"
    }
   },
   "cell_type": "code",
   "source": [
    "global_mean = df_train_full.churn.mean()\n",
    "round(global_mean, 3)"
   ],
   "id": "611b2385ea3f9141",
   "execution_count": 18,
   "outputs": []
  },
  {
   "metadata": {
    "ExecuteTime": {
     "end_time": "2024-10-19T05:23:31.228375Z",
     "start_time": "2024-10-19T05:23:31.220407Z"
    }
   },
   "cell_type": "code",
   "source": [
    "categorical = ['gender', 'seniorcitizen', 'partner', 'dependents',\n",
    "'phoneservice', 'multiplelines', 'internetservice',\n",
    "'onlinesecurity', 'onlinebackup', 'deviceprotection',\n",
    "'techsupport', 'streamingtv', 'streamingmovies',\n",
    "'contract', 'paperlessbilling', 'paymentmethod']\n",
    "\n",
    "numerical = ['tenure', 'monthlycharges', 'totalcharges']"
   ],
   "id": "23d5b2af58defd62",
   "execution_count": 19,
   "outputs": []
  },
  {
   "metadata": {
    "ExecuteTime": {
     "end_time": "2024-10-19T05:23:31.275157Z",
     "start_time": "2024-10-19T05:23:31.230592Z"
    }
   },
   "cell_type": "code",
   "source": "df_train_full[categorical].nunique()",
   "id": "76a68855da6573c6",
   "execution_count": 20,
   "outputs": []
  },
  {
   "metadata": {
    "ExecuteTime": {
     "end_time": "2024-10-19T05:24:59.560766Z",
     "start_time": "2024-10-19T05:24:59.526521Z"
    }
   },
   "cell_type": "code",
   "source": [
    "female_mean = df_train_full[df_train_full.gender == 'female'].churn.mean()\n",
    "print('gender == female:', round(female_mean, 3))\n",
    "\n",
    "male_mean = df_train_full[df_train_full.gender == 'male'].churn.mean()\n",
    "print('gender == male:', round(male_mean, 3))"
   ],
   "id": "a5af759539270990",
   "execution_count": 23,
   "outputs": []
  },
  {
   "metadata": {
    "ExecuteTime": {
     "end_time": "2024-10-19T05:27:07.490881Z",
     "start_time": "2024-10-19T05:27:07.453580Z"
    }
   },
   "cell_type": "code",
   "source": [
    "partner_yes = df_train_full[df_train_full.partner == 'yes'].churn.mean()\n",
    "print('partner == yes:', round(partner_yes, 3))\n",
    "\n",
    "partner_no = df_train_full[df_train_full.partner == 'no'].churn.mean()\n",
    "print('partner == no:', round(partner_no, 3))"
   ],
   "id": "d933c64f4467626b",
   "execution_count": 24,
   "outputs": []
  },
  {
   "metadata": {
    "ExecuteTime": {
     "end_time": "2024-10-19T11:53:28.663231Z",
     "start_time": "2024-10-19T11:53:28.624899Z"
    }
   },
   "cell_type": "code",
   "source": [
    "global_mean = df_train_full.churn.mean()\n",
    "\n",
    "df_group = df_train_full.groupby('gender').churn.agg(['mean'])\n",
    "df_group['diff'] = df_group['mean'] - global_mean\n",
    "df_group['risk'] = df_group['mean'] / global_mean\n",
    "\n",
    "df_group"
   ],
   "id": "e3ad45051d8e76f9",
   "execution_count": 27,
   "outputs": []
  },
  {
   "metadata": {
    "ExecuteTime": {
     "end_time": "2024-10-19T11:56:20.370376Z",
     "start_time": "2024-10-19T11:56:20.098744Z"
    }
   },
   "cell_type": "code",
   "source": [
    "from IPython.display import display\n",
    "\n",
    "for col in categorical:\n",
    "    df_group = df_train_full.groupby(col).churn.agg(['mean'])\n",
    "    df_group['diff'] = df_group['mean'] - global_mean\n",
    "    df_group['risk'] = df_group['mean'] / global_mean\n",
    "    \n",
    "    display(df_group)"
   ],
   "id": "139a4a66e32a8ce4",
   "execution_count": 28,
   "outputs": []
  },
  {
   "metadata": {},
   "cell_type": "markdown",
   "source": "# Взаимная информация",
   "id": "bb911b2a22516222"
  },
  {
   "metadata": {
    "ExecuteTime": {
     "end_time": "2024-10-19T12:04:46.171489Z",
     "start_time": "2024-10-19T12:04:45.889750Z"
    }
   },
   "cell_type": "code",
   "source": [
    "from sklearn.metrics import mutual_info_score\n",
    "\n",
    "def calculate_mi(series):\n",
    "    return mutual_info_score(series, df_train_full.churn)\n",
    "\n",
    "df_mi = df_train_full[categorical].apply(calculate_mi)\n",
    "df_mi = df_mi.sort_values(ascending=False).to_frame(name='MI')\n",
    "\n",
    "df_mi"
   ],
   "id": "f9dfa8749881b47a",
   "execution_count": 30,
   "outputs": []
  },
  {
   "metadata": {},
   "cell_type": "markdown",
   "source": "# Коэффициент корреляции",
   "id": "ab9b39cac0a2987"
  },
  {
   "metadata": {
    "ExecuteTime": {
     "end_time": "2024-10-19T12:10:15.169991Z",
     "start_time": "2024-10-19T12:10:15.080148Z"
    }
   },
   "cell_type": "code",
   "source": "df_train_full[numerical].corrwith(df_train_full.churn)",
   "id": "71ff425000ef365",
   "execution_count": 32,
   "outputs": []
  },
  {
   "metadata": {},
   "cell_type": "markdown",
   "source": "# Конструирование признаков",
   "id": "e43fa6c4773c45b9"
  },
  {
   "metadata": {
    "ExecuteTime": {
     "end_time": "2024-10-21T09:31:25.477659Z",
     "start_time": "2024-10-21T09:31:25.415535Z"
    }
   },
   "cell_type": "code",
   "source": "train_dict = df_train[categorical + numerical].to_dict(orient='records')",
   "id": "c2c42b50f71db915",
   "execution_count": 40,
   "outputs": []
  },
  {
   "metadata": {
    "ExecuteTime": {
     "end_time": "2024-10-21T09:31:32.040719Z",
     "start_time": "2024-10-21T09:31:32.035082Z"
    }
   },
   "cell_type": "code",
   "source": "train_dict[0]",
   "id": "ebbea66b3730dece",
   "execution_count": 42,
   "outputs": []
  },
  {
   "metadata": {
    "ExecuteTime": {
     "end_time": "2024-10-21T09:32:53.521317Z",
     "start_time": "2024-10-21T09:32:53.450323Z"
    }
   },
   "cell_type": "code",
   "source": [
    "from sklearn.feature_extraction import DictVectorizer\n",
    "\n",
    "dv = DictVectorizer(sparse=False)\n",
    "dv.fit(train_dict)"
   ],
   "id": "7add437b39230662",
   "execution_count": 43,
   "outputs": []
  },
  {
   "metadata": {
    "ExecuteTime": {
     "end_time": "2024-10-21T09:34:30.847638Z",
     "start_time": "2024-10-21T09:34:30.766916Z"
    }
   },
   "cell_type": "code",
   "source": "X_train = dv.transform(train_dict)",
   "id": "5e5c1843fb2055a9",
   "execution_count": 44,
   "outputs": []
  },
  {
   "metadata": {
    "ExecuteTime": {
     "end_time": "2024-10-21T09:35:21.149914Z",
     "start_time": "2024-10-21T09:35:21.143716Z"
    }
   },
   "cell_type": "code",
   "source": "X_train[0]",
   "id": "cdb1dd11f4b7b78c",
   "execution_count": 47,
   "outputs": []
  },
  {
   "metadata": {
    "ExecuteTime": {
     "end_time": "2024-10-21T09:36:21.421952Z",
     "start_time": "2024-10-21T09:36:21.415262Z"
    }
   },
   "cell_type": "code",
   "source": "dv.get_feature_names_out()",
   "id": "bc0d5f9d25a5d6fe",
   "execution_count": 49,
   "outputs": []
  },
  {
   "metadata": {},
   "cell_type": "markdown",
   "source": "# Машинное обучение для классификации",
   "id": "c80287815adb2944"
  },
  {
   "metadata": {},
   "cell_type": "markdown",
   "source": "## Обучение логистической регрессии",
   "id": "5e48d396c7be7f58"
  },
  {
   "metadata": {
    "ExecuteTime": {
     "end_time": "2024-10-21T09:49:18.263707Z",
     "start_time": "2024-10-21T09:49:17.927588Z"
    }
   },
   "cell_type": "code",
   "source": [
    "from sklearn.linear_model import LogisticRegression\n",
    "\n",
    "model = LogisticRegression(solver='liblinear', random_state=1)\n",
    "model.fit(X_train, y_train)"
   ],
   "id": "d8fec75fc53aa144",
   "execution_count": 50,
   "outputs": []
  },
  {
   "metadata": {
    "ExecuteTime": {
     "end_time": "2024-10-21T09:57:07.875187Z",
     "start_time": "2024-10-21T09:57:07.716100Z"
    }
   },
   "cell_type": "code",
   "source": [
    "val_dict = df_val[categorical + numerical].to_dict(orient='records')\n",
    "X_val = dv.transform(val_dict)\n"
   ],
   "id": "2f905454bf363b8d",
   "execution_count": 52,
   "outputs": []
  },
  {
   "metadata": {
    "ExecuteTime": {
     "end_time": "2024-10-21T09:57:16.808461Z",
     "start_time": "2024-10-21T09:57:16.799149Z"
    }
   },
   "cell_type": "code",
   "source": "y_pred = model.predict_proba(X_val)[:, 1]",
   "id": "e17401f5fd8df2b7",
   "execution_count": 54,
   "outputs": []
  },
  {
   "metadata": {
    "ExecuteTime": {
     "end_time": "2024-10-21T09:59:26.013027Z",
     "start_time": "2024-10-21T09:59:26.001839Z"
    }
   },
   "cell_type": "code",
   "source": "churn = y_pred >= 0.5",
   "id": "958c199b0d113ed6",
   "execution_count": 55,
   "outputs": []
  },
  {
   "metadata": {
    "ExecuteTime": {
     "end_time": "2024-10-21T10:00:10.928668Z",
     "start_time": "2024-10-21T10:00:10.916390Z"
    }
   },
   "cell_type": "code",
   "source": "(y_val == churn).mean()",
   "id": "78278dab099d6c3c",
   "execution_count": 56,
   "outputs": []
  },
  {
   "metadata": {},
   "cell_type": "markdown",
   "source": "## Интерпретация модели",
   "id": "d816e75f408b00d7"
  },
  {
   "metadata": {
    "ExecuteTime": {
     "end_time": "2024-10-21T10:15:19.681556Z",
     "start_time": "2024-10-21T10:15:19.668789Z"
    }
   },
   "cell_type": "code",
   "source": [
    "bias = model.intercept_[0]\n",
    "bias"
   ],
   "id": "4fe3028876a7e632",
   "execution_count": 57,
   "outputs": []
  },
  {
   "metadata": {
    "ExecuteTime": {
     "end_time": "2024-10-21T10:16:27.876432Z",
     "start_time": "2024-10-21T10:16:27.861874Z"
    }
   },
   "cell_type": "code",
   "source": [
    "w = dict(zip(dv.get_feature_names_out(), model.coef_[0].round(3)))\n",
    "w"
   ],
   "id": "25c0565da50e6611",
   "execution_count": 59,
   "outputs": []
  },
  {
   "metadata": {
    "ExecuteTime": {
     "end_time": "2024-10-21T10:24:55.515405Z",
     "start_time": "2024-10-21T10:24:55.448593Z"
    }
   },
   "cell_type": "code",
   "source": [
    "small_subset = ['contract', 'tenure', 'totalcharges']\n",
    "train_dict_small = df_train[small_subset].to_dict(orient='records')\n",
    "dv_small = DictVectorizer(sparse=False)\n",
    "dv_small.fit(train_dict_small)\n",
    "\n",
    "X_small_train = dv_small.transform(train_dict_small)"
   ],
   "id": "37b9c413635f752b",
   "execution_count": 71,
   "outputs": []
  },
  {
   "metadata": {
    "ExecuteTime": {
     "end_time": "2024-10-21T10:24:55.994518Z",
     "start_time": "2024-10-21T10:24:55.982211Z"
    }
   },
   "cell_type": "code",
   "source": "dv_small.get_feature_names_out()",
   "id": "8732fe3f6a79efd6",
   "execution_count": 72,
   "outputs": []
  },
  {
   "metadata": {
    "ExecuteTime": {
     "end_time": "2024-10-21T10:24:56.532670Z",
     "start_time": "2024-10-21T10:24:56.505060Z"
    }
   },
   "cell_type": "code",
   "source": [
    "model_small = LogisticRegression(solver='liblinear', random_state=1)\n",
    "model_small.fit(X_small_train, y_train)"
   ],
   "id": "e747071a120c6ec1",
   "execution_count": 73,
   "outputs": []
  },
  {
   "metadata": {
    "ExecuteTime": {
     "end_time": "2024-10-21T10:24:57.279381Z",
     "start_time": "2024-10-21T10:24:57.267545Z"
    }
   },
   "cell_type": "code",
   "source": "model_small.intercept_[0]",
   "id": "afa7ad120aecd4ce",
   "execution_count": 74,
   "outputs": []
  },
  {
   "metadata": {
    "ExecuteTime": {
     "end_time": "2024-10-21T10:24:57.767888Z",
     "start_time": "2024-10-21T10:24:57.752876Z"
    }
   },
   "cell_type": "code",
   "source": "dict(zip(dv_small.get_feature_names_out(),model_small.coef_[0].round(3)))",
   "id": "d9a95d47a6eea484",
   "execution_count": 75,
   "outputs": []
  },
  {
   "metadata": {},
   "cell_type": "markdown",
   "source": "## Использование модели",
   "id": "c0856a099d4df8a3"
  },
  {
   "metadata": {
    "ExecuteTime": {
     "end_time": "2024-10-21T10:42:09.476081Z",
     "start_time": "2024-10-21T10:42:09.464898Z"
    }
   },
   "cell_type": "code",
   "source": [
    "customer = {\n",
    "'customerid': '8879-zkjof',\n",
    "\n",
    "'gender': 'female',\n",
    "\n",
    "'seniorcitizen': 0,\n",
    "\n",
    "'partner': 'no',\n",
    "\n",
    "'dependents': 'no',\n",
    "\n",
    "'tenure': 41,\n",
    "\n",
    "'phoneservice': 'yes',\n",
    "\n",
    "'multiplelines': 'no',\n",
    "\n",
    "'internetservice': 'dsl',\n",
    "\n",
    "'onlinesecurity': 'yes',\n",
    "\n",
    "'onlinebackup': 'no',\n",
    "\n",
    "'deviceprotection': 'yes',\n",
    "\n",
    "'techsupport': 'yes',\n",
    "\n",
    "'streamingtv': 'yes',\n",
    "\n",
    "'streamingmovies': 'yes',\n",
    "\n",
    "'contract': 'one_year',\n",
    "    \n",
    "'paperlessbilling': 'yes',\n",
    "    \n",
    "'paymentmethod': 'bank_transfer_(automatic)',\n",
    "\n",
    "'monthlycharges': 79.85,\n",
    "    \n",
    "'totalcharges': 3320.75,\n",
    "\n",
    "}"
   ],
   "id": "d00cbb130f29d5c4",
   "execution_count": 76,
   "outputs": []
  },
  {
   "metadata": {
    "ExecuteTime": {
     "end_time": "2024-10-21T10:42:10.575116Z",
     "start_time": "2024-10-21T10:42:10.566788Z"
    }
   },
   "cell_type": "code",
   "source": "X_test = dv.transform([customer])",
   "id": "cb3fde1644c60c85",
   "execution_count": 77,
   "outputs": []
  },
  {
   "metadata": {
    "ExecuteTime": {
     "end_time": "2024-10-21T10:42:54.482675Z",
     "start_time": "2024-10-21T10:42:54.468532Z"
    }
   },
   "cell_type": "code",
   "source": "model.predict_proba(X_test)[0, 1]",
   "id": "ad73596dda7aa092",
   "execution_count": 78,
   "outputs": []
  },
  {
   "metadata": {
    "ExecuteTime": {
     "end_time": "2024-10-21T10:44:20.483432Z",
     "start_time": "2024-10-21T10:44:20.471336Z"
    }
   },
   "cell_type": "code",
   "source": [
    "customer = {\n",
    "'gender': 'female',\n",
    "\n",
    "'seniorcitizen': 1,\n",
    "\n",
    "'partner': 'no',\n",
    "\n",
    "'dependents': 'no',\n",
    "\n",
    "'phoneservice': 'yes',\n",
    "\n",
    "'multiplelines': 'yes',\n",
    "\n",
    "'internetservice': 'fiber_optic',\n",
    "\n",
    "'onlinesecurity': 'no',\n",
    "\n",
    "'onlinebackup': 'no',\n",
    "\n",
    "'deviceprotection': 'no',\n",
    "\n",
    "'techsupport': 'no',\n",
    "    \n",
    "'streamingtv': 'yes',\n",
    "\n",
    "'streamingmovies': 'no',\n",
    "\n",
    "'contract': 'month-to-month',\n",
    "\n",
    "'paperlessbilling': 'yes',\n",
    "\n",
    "'paymentmethod': 'electronic_check',\n",
    "\n",
    "'tenure': 1,\n",
    "\n",
    "'monthlycharges': 85.7,\n",
    "\n",
    "'totalcharges': 85.7\n",
    "}"
   ],
   "id": "74bb4467f4f3c4d5",
   "execution_count": 80,
   "outputs": []
  },
  {
   "metadata": {
    "ExecuteTime": {
     "end_time": "2024-10-21T10:44:21.046343Z",
     "start_time": "2024-10-21T10:44:21.031596Z"
    }
   },
   "cell_type": "code",
   "source": [
    "X_test = dv.transform([customer])\n",
    "model.predict_proba(X_test)[0, 1]"
   ],
   "id": "306cf0b26f241ce3",
   "execution_count": 81,
   "outputs": []
  },
  {
   "metadata": {},
   "cell_type": "code",
   "execution_count": null,
   "source": "",
   "id": "afe891f76a54d11c",
   "outputs": []
  }
 ],
 "metadata": {
  "kernelspec": {
   "display_name": "Python 3",
   "language": "python",
   "name": "python3"
  },
  "language_info": {
   "codemirror_mode": {
    "name": "ipython",
    "version": 2
   },
   "file_extension": ".py",
   "mimetype": "text/x-python",
   "name": "python",
   "nbconvert_exporter": "python",
   "pygments_lexer": "ipython2",
   "version": "2.7.6"
  }
 },
 "nbformat": 4,
 "nbformat_minor": 5
}
