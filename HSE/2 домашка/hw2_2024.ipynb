{
 "cells": [
  {
   "cell_type": "markdown",
   "metadata": {
    "id": "tBrDXMdDy-Qn"
   },
   "source": [
    "# HSE 2024: Mathematical Methods for Data Analysis\n",
    "\n",
    "## Homework 2"
   ]
  },
  {
   "cell_type": "markdown",
   "metadata": {
    "id": "RXXi5K1mf41d"
   },
   "source": [
    "# Attention!\n",
    "\n",
    "* For tasks where <ins>text answer</ins> is required **Russian language** is **allowed**.\n",
    "* If a task asks you to describe something (make coclusions) then **text answer** is **mandatory** and **is** part of the task\n",
    "* **Do not** upload the dataset (titanic.csv) to the grading system (we already have it)\n",
    "* We **only** accept **ipynb** notebooks. If you use Google Colab then you'll have to download the notebook before passing the homework\n",
    "* **Do not** use python loops instead of NumPy vector operations over NumPy vectors - it significantly decreases performance (see why https://blog.paperspace.com/numpy-optimization-vectorization-and-broadcasting/), will be punished with -0.25 for **every** task.\n",
    "Loops are only allowed in part 1 (Tasks 1 - 4).\n",
    "* Some tasks contain tests. They only test you solution on a simple example, thus, passing the test does **not** guarantee you the full grade for the task.\n",
    "\n",
    "If the task asks for an explanation of something, it means that a written answer is required, which is part of the task and is assessed\n",
    "\n",
    "We only accept ipynb notebooks. If you use Google Colab, you need to download the notebook before submitting your homework"
   ]
  },
  {
   "cell_type": "code",
   "metadata": {
    "id": "mSR-a9vVy-Qp",
    "ExecuteTime": {
     "end_time": "2024-10-23T19:49:05.257856Z",
     "start_time": "2024-10-23T19:49:05.245493Z"
    }
   },
   "source": [
    "import pandas as pd\n",
    "import numpy as np\n",
    "import matplotlib.pyplot as plt\n",
    "import seaborn as sns\n",
    "import sklearn\n",
    "from sklearn import datasets\n",
    "from sklearn.model_selection import GridSearchCV\n",
    "from sklearn.model_selection import train_test_split\n",
    "from sklearn.linear_model import Ridge\n",
    "from sklearn.preprocessing import StandardScaler, LabelEncoder\n",
    "from sklearn.linear_model import LinearRegression, Ridge, Lasso, ElasticNet\n",
    "from sklearn.metrics import mean_squared_error, r2_score\n",
    "import statsmodels.api as sm\n",
    "from statsmodels.regression.linear_model import OLSResults\n",
    "from math import sqrt\n",
    "import random\n",
    "import sys\n",
    "\n",
    "import warnings\n",
    "warnings.filterwarnings(\"ignore\")\n",
    "\n",
    "%matplotlib inline\n",
    "\n",
    "sns.set(style=\"darkgrid\")"
   ],
   "execution_count": 130,
   "outputs": []
  },
  {
   "cell_type": "markdown",
   "metadata": {
    "id": "HUjuv9Qty-Qq"
   },
   "source": [
    "### Data\n",
    "\n",
    "For this homework we will use a dataset of tracks from the streaming service Spotify"
   ]
  },
  {
   "cell_type": "markdown",
   "metadata": {
    "id": "pHSjHiIDOgHP"
   },
   "source": [
    "**Описание данных**\n",
    "\n",
    "- **track_id:** The Spotify ID for the track\n",
    "- **artists:** The artists' names who performed the track. If there is more than one artist, they are separated by a ;\n",
    "- **album_name:** The album name in which the track appears\n",
    "- **track_name:** Name of the track\n",
    "- **popularity:** The popularity of a track is a value between 0 and 100, with 100 being the most popular. The popularity is calculated by algorithm and is based, in the most part, on the total number of plays the track has had and how recent those plays are. Generally speaking, songs that are being played a lot now will have a higher popularity than songs that were played a lot in the past. Duplicate tracks (e.g. the same track from a single and an album) are rated independently. Artist and album popularity is derived mathematically from track popularity.\n",
    "- **duration_ms:** The track length in milliseconds\n",
    "- **explicit:** Whether or not the track has explicit lyrics (true = yes it does; false = no it does not OR unknown)\n",
    "- **danceability:** Danceability describes how suitable a track is for dancing based on a combination of musical elements including tempo, rhythm stability, beat strength, and overall regularity. A value of 0.0 is least danceable and 1.0 is most danceable\n",
    "- **key:** The key the track is in. Integers map to pitches using standard Pitch Class notation. E.g. 0 = C, 1 = C♯/D♭, 2 = D, and so on. If no key was detected, the value is -1\n",
    "- **loudness:** The overall loudness of a track in decibels (dB)\n",
    "- **mode:** Mode indicates the modality (major or minor) of a track, the type of scale from which its melodic content is derived. Major is represented by 1 and minor is 0\n",
    "- **speechiness:** Speechiness detects the presence of spoken words in a track. The more exclusively speech-like the recording (e.g. talk show, audio book, poetry), the closer to 1.0 the attribute value. Values above 0.66 describe tracks that are probably made entirely of spoken words. Values between 0.33 and 0.66 describe tracks that may contain both music and speech, either in sections or layered, including such cases as rap music. Values below 0.33 most likely represent music and other non-speech-like tracks\n",
    "- **acousticness:** A confidence measure from 0.0 to 1.0 of whether the track is acoustic. 1.0 represents high confidence the track is acoustic\n",
    "- **instrumentalness:** Predicts whether a track contains no vocals. \"Ooh\" and \"aah\" sounds are treated as instrumental in this context. Rap or spoken word tracks are clearly \"vocal\". The closer the instrumentalness value is to 1.0, the greater likelihood the track contains no vocal content\n",
    "- **liveness:** Detects the presence of an audience in the recording. Higher liveness values represent an increased probability that the track was performed live. A value above 0.8 provides strong likelihood that the track is live\n",
    "- **valence:** A measure from 0.0 to 1.0 describing the musical positiveness conveyed by a track. Tracks with high valence sound more positive (e.g. happy, cheerful, euphoric), while tracks with low valence sound more negative (e.g. sad, depressed, angry)\n",
    "- **tempo:** The overall estimated tempo of a track in beats per minute (BPM). In musical terminology, tempo is the speed or pace of a given piece and derives directly from the average beat duration\n",
    "- **time_signature:** An estimated time signature. The time signature (meter) is a notational convention to specify how many beats are in each bar (or measure). The time signature ranges from 3 to 7 indicating time signatures of 3/4, to 7/4.\n",
    "- **track_genre:** The genre in which the track belongs\n",
    "\n",
    "**Target variable**\n",
    "- **energy:** Energy is a measure from 0.0 to 1.0 and represents a perceptual measure of intensity and activity. Typically, energetic tracks feel fast, loud, and noisy. For example, death metal has high energy, while a Bach prelude scores low on the scale"
   ]
  },
  {
   "cell_type": "code",
   "metadata": {
    "id": "tHWSWTXDy-Qq",
    "ExecuteTime": {
     "end_time": "2024-10-23T19:49:05.803065Z",
     "start_time": "2024-10-23T19:49:05.428951Z"
    }
   },
   "source": [
    "data = pd.read_csv('dataset.csv')\n",
    "\n",
    "y = data['energy']\n",
    "X = data.drop(['energy'], axis=1)\n",
    "columns = X.columns\n"
   ],
   "execution_count": 131,
   "outputs": []
  },
  {
   "cell_type": "markdown",
   "metadata": {
    "id": "K81w8s35y-Qq"
   },
   "source": [
    "## Linear Regression"
   ]
  },
  {
   "cell_type": "markdown",
   "metadata": {
    "id": "cYgEN-FMy-Qr"
   },
   "source": [
    "#### 0. [0.25 points] Code the categorical features. Explain the method you have chosen."
   ]
  },
  {
   "cell_type": "code",
   "metadata": {
    "id": "-IrSlQaWy-Qr",
    "ExecuteTime": {
     "end_time": "2024-10-23T19:49:05.834071Z",
     "start_time": "2024-10-23T19:49:05.805681Z"
    }
   },
   "source": "data.info()",
   "execution_count": 132,
   "outputs": []
  },
  {
   "metadata": {
    "ExecuteTime": {
     "end_time": "2024-10-23T19:49:05.863292Z",
     "start_time": "2024-10-23T19:49:05.836570Z"
    }
   },
   "cell_type": "code",
   "source": "data.isna().sum()",
   "execution_count": 133,
   "outputs": []
  },
  {
   "metadata": {
    "ExecuteTime": {
     "end_time": "2024-10-23T19:49:05.917831Z",
     "start_time": "2024-10-23T19:49:05.865327Z"
    }
   },
   "cell_type": "code",
   "source": "data.dropna()",
   "execution_count": 134,
   "outputs": []
  },
  {
   "metadata": {
    "ExecuteTime": {
     "end_time": "2024-10-23T19:49:05.943050Z",
     "start_time": "2024-10-23T19:49:05.919294Z"
    }
   },
   "cell_type": "code",
   "source": [
    "num_col = X.select_dtypes([np.number]).columns\n",
    "print(num_col)\n",
    "cat_col = X.select_dtypes(include=['object']).columns\n",
    "cat_col\n"
   ],
   "execution_count": 135,
   "outputs": []
  },
  {
   "metadata": {
    "ExecuteTime": {
     "end_time": "2024-10-23T19:49:06.017937Z",
     "start_time": "2024-10-23T19:49:05.944619Z"
    }
   },
   "cell_type": "code",
   "source": [
    "for i in cat_col:\n",
    "    a = X[i].unique()\n",
    "    print(i)\n",
    "    print(len(a))\n",
    "    print(a)"
   ],
   "execution_count": 136,
   "outputs": []
  },
  {
   "metadata": {},
   "cell_type": "markdown",
   "source": "Я решил закодировать только переменную track_genre, так как остальные переменные имеют большое кол-во разных значений и поэтому наша модель может из-за этого переобучиться"
  },
  {
   "metadata": {
    "ExecuteTime": {
     "end_time": "2024-10-23T19:49:06.297726Z",
     "start_time": "2024-10-23T19:49:06.018968Z"
    }
   },
   "cell_type": "code",
   "source": [
    "from sklearn.preprocessing import OneHotEncoder\n",
    "\n",
    "encoder = OneHotEncoder(sparse=False)\n",
    "data_one = encoder.fit_transform(X[['track_genre']])\n",
    "genre_columns = encoder.get_feature_names_out(['track_genre'])\n",
    "print(genre_columns)\n",
    "X = X.join(pd.DataFrame(data_one, columns=encoder.get_feature_names_out(['track_genre'])))\n",
    "\n",
    "X.head(10)"
   ],
   "execution_count": 137,
   "outputs": []
  },
  {
   "cell_type": "markdown",
   "metadata": {
    "id": "7dVwP45Gy-Qr"
   },
   "source": [
    "#### 1. [0.25 points] Split the data into train and test with a ratio of 80:20 and random_state=42."
   ]
  },
  {
   "cell_type": "code",
   "metadata": {
    "id": "U7z8TIh5y-Qs",
    "ExecuteTime": {
     "end_time": "2024-10-23T19:49:06.513247Z",
     "start_time": "2024-10-23T19:49:06.300672Z"
    }
   },
   "source": "X_train, X_test, y_train, y_test = train_test_split(X, y, test_size=0.2, random_state=42)",
   "execution_count": 138,
   "outputs": []
  },
  {
   "cell_type": "markdown",
   "metadata": {
    "id": "7daIQRfKy-Qs",
    "tags": []
   },
   "source": [
    "#### 2. [0.75 points] Train models on train, excluding categorical features, using the StatsModels library and apply it to test; use $RMSE$ and $R^2$ as quality metrics. Try also applying linear regression implementations from sklearn:\n",
    "\n",
    "* [`LinearRegression`](http://scikit-learn.org/stable/modules/generated/sklearn.linear_model.LinearRegression.html);\n",
    "* [`Ridge`](http://scikit-learn.org/stable/modules/generated/sklearn.linear_model.Ridge.html) with $\\alpha = 0.03$;\n",
    "* [`Lasso`](http://scikit-learn.org/stable/modules/generated/sklearn.linear_model.Lasso.html) with $\\alpha = 0.05$\n",
    "\n",
    "Don't forget to scale your data using StandardScaler before training your models!"
   ]
  },
  {
   "cell_type": "code",
   "metadata": {
    "id": "Bkbr5iFCy-Qs",
    "ExecuteTime": {
     "end_time": "2024-10-23T19:49:06.704996Z",
     "start_time": "2024-10-23T19:49:06.515453Z"
    }
   },
   "source": [
    "scaler = StandardScaler()\n",
    "\n",
    "X_train_scaled = scaler.fit_transform(X_train[num_col])\n",
    "X_test_scaled = scaler.fit_transform(X_test[num_col])\n",
    "\n",
    "model_1 = LinearRegression()\n",
    "model_1.fit(X_train_scaled, y_train)\n",
    "y_pred_1 = model_1.predict(X_test_scaled)\n",
    "print('Test RMSE = %.3f on Linear Regression' % mean_squared_error(y_test, y_pred_1, squared=False))\n",
    "print('R^2 = %.3f on Linear Regression' % model_1.score(X_test_scaled, y_test))\n",
    "print()\n",
    "\n",
    "model_2 = Ridge(alpha=0.03)\n",
    "model_2.fit(X_train_scaled, y_train)\n",
    "y_pred_2 = model_2.predict(X_test_scaled)\n",
    "print('Test RMSE = %.3f on Ridge with alpha = 0.03' % mean_squared_error(y_test, y_pred_2, squared=False))\n",
    "print('R^2 = %.3f on Ridge with alpha = 0.03' % model_2.score(X_test_scaled, y_test))\n",
    "print()\n",
    "\n",
    "\n",
    "model_3 = Lasso(alpha=0.05)\n",
    "model_3.fit(X_train_scaled, y_train)\n",
    "y_pred_3 = model_3.predict(X_test_scaled)\n",
    "print('Test RMSE = %.3f on Lasso with alpha = 0.05' % mean_squared_error(y_test, y_pred_3, squared=False))\n",
    "print('R^2 = %.3f on Lasso with alpha = 0.05' % model_3.score(X_test_scaled, y_test))\n",
    "print()\n"
   ],
   "execution_count": 139,
   "outputs": []
  },
  {
   "cell_type": "markdown",
   "metadata": {
    "id": "RWWvUdxROgHP"
   },
   "source": [
    "#### 3. [0.25 points] Repeat the steps from the previous point, adding categorical features. Comment on the changes in the quality metrics values"
   ]
  },
  {
   "cell_type": "code",
   "metadata": {
    "id": "-Opop8b6OgHQ",
    "ExecuteTime": {
     "end_time": "2024-10-23T19:49:08.645914Z",
     "start_time": "2024-10-23T19:49:06.708011Z"
    }
   },
   "source": [
    "scaler1 = StandardScaler()\n",
    "\n",
    "X_train_scaled = scaler1.fit_transform(X_train.select_dtypes([np.number]))\n",
    "X_test_scaled = scaler1.fit_transform(X_test.select_dtypes([np.number]))\n",
    "\n",
    "model_1 = LinearRegression()\n",
    "model_1.fit(X_train_scaled, y_train)\n",
    "y_pred_1 = model_1.predict(X_test_scaled)\n",
    "print('Test RMSE = %.3f on Linear Regression' % mean_squared_error(y_test, y_pred_1, squared=False))\n",
    "print('R^2 = %.3f on Linear Regression' % model_1.score(X_test_scaled, y_test))\n",
    "print()\n",
    "\n",
    "model_2 = Ridge(alpha=0.03)\n",
    "model_2.fit(X_train_scaled, y_train)\n",
    "y_pred_2 = model_2.predict(X_test_scaled)\n",
    "print('Test RMSE = %.3f on Ridge with alpha = 0.03' % mean_squared_error(y_test, y_pred_2, squared=False))\n",
    "print('R^2 = %.3f on Ridge with alpha = 0.03' % model_2.score(X_test_scaled, y_test))\n",
    "print(model_2)\n",
    "\n",
    "\n",
    "model_3 = Lasso(alpha=0.05)\n",
    "model_3.fit(X_train_scaled, y_train)\n",
    "y_pred_3 = model_3.predict(X_test_scaled)\n",
    "print('Test RMSE = %.3f on Lasso with alpha = 0.05' % mean_squared_error(y_test, y_pred_3, squared=False))\n",
    "print('R^2 = %.3f on Lasso with alpha = 0.05' % model_3.score(X_test_scaled, y_test))\n",
    "print()\n"
   ],
   "execution_count": 140,
   "outputs": []
  },
  {
   "metadata": {},
   "cell_type": "markdown",
   "source": "Как видим результат у линейной регрессии не особо впечатляющий, а вызвано это тем, что модель переобучилась из-за большого числа признаков, в то время как Ridge показал лучший результат, а Lasso такой же, так как они являются  регуляризирующими функциями"
  },
  {
   "cell_type": "markdown",
   "metadata": {
    "id": "69JOftKRy-Qt"
   },
   "source": [
    "#### 4. [1 point] Examine the parameter values ​​of the models obtained from StatsModels and check which weights and in which models turned out to be zero. Comment on the significance of the coefficients, the overall significance of the models and other factors from the resulting tables"
   ]
  },
  {
   "cell_type": "code",
   "metadata": {
    "id": "Np1biYQ7y-Qt",
    "ExecuteTime": {
     "end_time": "2024-10-23T19:49:08.654224Z",
     "start_time": "2024-10-23T19:49:08.646923Z"
    }
   },
   "source": [
    "linear_zeros = np.sum(model_1.coef_ == 0)\n",
    "ridge_zeros = np.sum(model_2.coef_ == 0)\n",
    "lasso_zeros = np.sum(model_3.coef_ == 0)\n",
    "print(\"Zero weights in Linear:\", ridge_zeros)\n",
    "print(\"Zero weights in Ridge:\", ridge_zeros)\n",
    "print(\"Zero weights in Lasso:\", lasso_zeros)"
   ],
   "execution_count": 141,
   "outputs": []
  },
  {
   "cell_type": "markdown",
   "metadata": {
    "id": "yLcvGlUZy-Qt"
   },
   "source": [
    "#### 5. [1 point] Implement one of the feature selection algorithms (Elimination by P-value, Forward elimination, Backward elimination), draw conclusions."
   ]
  },
  {
   "cell_type": "code",
   "metadata": {
    "id": "TnrbRbkwy-Qt",
    "ExecuteTime": {
     "end_time": "2024-10-23T19:49:08.665254Z",
     "start_time": "2024-10-23T19:49:08.656236Z"
    }
   },
   "source": [
    "# your code here\n",
    "#╰( ͡° ͜ʖ ͡° )つ──☆*:・ﾟ"
   ],
   "execution_count": 142,
   "outputs": []
  },
  {
   "cell_type": "markdown",
   "metadata": {
    "id": "df0eQLdNy-Qt"
   },
   "source": [
    "#### 6. [1 point] Find the best (RMSE) $\\alpha$ for Lasso regression using 4-fold cross-validation. You should choose a value from the logarithmic range $[10^{-4}, 10^{3}]$."
   ]
  },
  {
   "cell_type": "code",
   "metadata": {
    "id": "JPoT3YHqy-Qt",
    "ExecuteTime": {
     "end_time": "2024-10-23T19:49:33.050850Z",
     "start_time": "2024-10-23T19:49:08.668258Z"
    }
   },
   "source": [
    "alphas = np.logspace(-4, 3, 20)\n",
    "searcher = GridSearchCV(Lasso(), [{\"alpha\": alphas}], scoring=\"neg_root_mean_squared_error\", cv=4)\n",
    "searcher.fit(X_train_scaled, y_train)\n",
    "\n",
    "best_alpha = searcher.best_params_[\"alpha\"]\n",
    "print(\"Best alpha = %.4f\" % best_alpha)\n",
    "\n",
    "plt.plot(alphas, -searcher.cv_results_[\"mean_test_score\"])\n",
    "plt.xscale(\"log\")\n",
    "plt.xlabel(\"alpha\")\n",
    "plt.ylabel(\"CV score\")"
   ],
   "execution_count": 143,
   "outputs": []
  },
  {
   "cell_type": "markdown",
   "metadata": {
    "id": "Q1PKinJUy-Qt"
   },
   "source": [
    "## Gradient Descent\n",
    "\n",
    "#### 7. [3.5 points] Implement Ridge regression for MSE loss trained using gradient descent.\n",
    "\n",
    "All computations must be vectorized, and Python loops can only be used for gradient descent iterations. The stopping criteria must be (simultaneously):\n",
    "\n",
    "* checking the absolute norm of the difference in weights on two adjacent iterations (e.g., less than some small number of the order of $10^{-6}$, specified by the `tolerance` parameter);\n",
    "\n",
    "* reaching the maximum number of iterations (e.g., 10000, specified by the `max_iter` parameter).\n",
    "\n",
    "You need to do:\n",
    "\n",
    "* Full gradient descent:\n",
    "\n",
    "$$\n",
    "w_{k + 1} = w_{k} - \\eta_{k} \\nabla_{w} Q(w_{k}).\n",
    "$$\n",
    "\n",
    "* Stochastic Gradient Descent:\n",
    "\n",
    "$$\n",
    "w_{k + 1} = w_{k} - \\eta_{k} \\nabla_{w} q_{i_{k}}(w_{k}).\n",
    "$$\n",
    "\n",
    "$\\nabla_{w} q_{i_{k}}(w_{k}) \\, $ is an estimate of the gradient over a set of objects chosen at random.\n",
    "\n",
    "* Moment of method:\n",
    "\n",
    "$$\n",
    "h_0 = 0, \\\\\n",
    "h_{k + 1} = \\alpha h_{k} + \\eta_k \\nabla_{w} Q(w_{k}), \\\\\n",
    "w_{k + 1} = w_{k} - h_{k + 1}.\n",
    "$$\n",
    "\n",
    "* Adagrad method:\n",
    "\n",
    "$$\n",
    "G_0 = 0, \\\\\n",
    "G_{k + 1} = G_{k} + (\\nabla_{w} Q(w_{k+1}))^2, \\\\\n",
    "w_{k + 1} = w_{k} - \\eta * \\frac{\\nabla_{w} Q(w_{k+1})}{\\sqrt{G_{k+1} + \\epsilon}}.\n",
    "$$\n",
    "\n",
    "To verify that the optimization process is actually running, we will use the `loss_history` class attribute. After calling the fit method, it should contain the loss function values ​​for all iterations starting from the first (up to the first step along the antigradient).\n",
    "\n",
    "You need to initialize the weights with a random vector from a normal distribution. Below is a template that should contain code implementing all the model variants."
   ]
  },
  {
   "cell_type": "code",
   "metadata": {
    "id": "oI39UzCLy-Qu",
    "ExecuteTime": {
     "end_time": "2024-10-23T19:49:33.067957Z",
     "start_time": "2024-10-23T19:49:33.052655Z"
    }
   },
   "source": [
    "from sklearn.base import BaseEstimator\n",
    "\n",
    "class LinReg(BaseEstimator):\n",
    "    def __init__(self, delta=1.0, gd_type='Momentum',\n",
    "                 tolerance=1e-4, max_iter=1000, w0=None, eta=1e-2, alpha=1e-2):\n",
    "        \"\"\"\n",
    "        gd_type: str\n",
    "            'GradientDescent', 'StochasticDescent', 'Momentum', 'Adagrad'\n",
    "        delta: float\n",
    "            proportion of object in a batch (for stochastic GD)\n",
    "        tolerance: float\n",
    "            for stopping gradient descent\n",
    "        max_iter: int\n",
    "            maximum number of steps in gradient descent\n",
    "        w0: np.array of shape (d)\n",
    "            init weights\n",
    "        eta: float\n",
    "            learning rate\n",
    "        alpha: float\n",
    "            momentum coefficient\n",
    "        \"\"\"\n",
    "\n",
    "        self.delta = delta\n",
    "        self.gd_type = gd_type\n",
    "        self.tolerance = tolerance\n",
    "        self.max_iter = max_iter\n",
    "        self.w0 = w0\n",
    "        self.alpha = alpha\n",
    "        self.w = None\n",
    "        self.eta = eta\n",
    "        self.loss_history = None # list of loss function values at each training iteration\n",
    "        self.epsilon = 1e-8\n",
    "\n",
    "    def fit(self, X, y):\n",
    "        \"\"\"\n",
    "        X: np.array of shape (l, d)\n",
    "        y: np.array of shape (l)\n",
    "        ---\n",
    "        output: self\n",
    "        \"\"\"\n",
    "        self.loss_history = []\n",
    "        \n",
    "        l, d = X.shape\n",
    "        self.w = np.random.randn(d) if self.w0 is None else self.w0\n",
    "        \n",
    "        momentum = np.zeros(d)\n",
    "        G = np.zeros(d)\n",
    "        n_splits = 10 # на сколько частей делится выборка при стох. град. спуске\n",
    "        batch_size = l // n_splits\n",
    "        for i in range(self.max_iter):\n",
    "            if self.gd_type == 'GradientDescent':\n",
    "                grad = self.calc_gradient(X, y)\n",
    "                self.w -= self.eta * grad\n",
    "                \n",
    "            elif self.gd_type == 'StochasticDescent':\n",
    "                for j in range(0, l, batch_size):\n",
    "                    X_batch = X[j:j + batch_size]\n",
    "                    y_batch = y[j:j + batch_size]\n",
    "                    grad = self.calc_gradient(X_batch, y_batch)\n",
    "                    self.w -= self.eta * grad\n",
    "                \n",
    "            elif self.gd_type == 'Momentum':\n",
    "                grad = self.calc_gradient(X, y)\n",
    "                momentum = self.alpha * momentum + self.eta * grad\n",
    "                self.w -= momentum\n",
    "            \n",
    "            elif self.gd_type == 'Adagrad':\n",
    "                grad = self.calc_gradient(X, y)\n",
    "                G += grad**2\n",
    "                self.w -= (self.eta / (np.sqrt(G + self.epsilon))) * grad\n",
    "            \n",
    "            \n",
    "            loss = self.calc_loss(X, y)\n",
    "            self.loss_history.append(loss)\n",
    "        \n",
    "            if i > 0 and np.linalg.norm(self.loss_history[-2] - loss) < self.tolerance:\n",
    "                break\n",
    "        \n",
    "        return self\n",
    "\n",
    "    def predict(self, X):\n",
    "        if self.w is None:\n",
    "            raise Exception('Not trained yet')\n",
    "        return X.dot(self.w)\n",
    "\n",
    "    def calc_gradient(self, X, y):\n",
    "        \"\"\"\"\n",
    "        X: np.array of shape (l, d) (l can be equal to 1 if stochastic)\n",
    "        y: np.array of shape (l)\n",
    "        ---\n",
    "        output: np.array of shape (d)\n",
    "        \"\"\"\n",
    "        l = X.shape[0]\n",
    "        y_pred = X.dot(self.w)\n",
    "        grad = -2 / l * X.T.dot(y - y_pred)  # Gradient of MSE\n",
    "        return grad\n",
    "\n",
    "    def calc_loss(self, X, y):\n",
    "        \"\"\"\n",
    "        X: np.array of shape (l, d)\n",
    "        y: np.array of shape (l)\n",
    "        ---\n",
    "        output: float\n",
    "        \"\"\"\n",
    "        y_pred = X.dot(self.w)\n",
    "        loss = np.mean((y - y_pred) ** 2)  # MSE loss\n",
    "        return loss\n",
    "        "
   ],
   "execution_count": 144,
   "outputs": []
  },
  {
   "cell_type": "markdown",
   "metadata": {
    "id": "1QQJEjGVy-Qu"
   },
   "source": [
    "#### 8. [1 point] Train and validate \"manual\" models on the same data, compare the quality with models from Sklearn and StatsModels. Investigate the influence of the `max_iter` and `alpha` parameters on the optimization process. Does it meet your expectations?"
   ]
  },
  {
   "cell_type": "code",
   "metadata": {
    "id": "rIJNcxt_y-Qu",
    "ExecuteTime": {
     "end_time": "2024-10-23T19:49:43.086162Z",
     "start_time": "2024-10-23T19:49:33.068988Z"
    }
   },
   "source": [
    "model_1 = LinReg(gd_type='GradientDescent')\n",
    "model_1.fit(X_train_scaled, y_train)\n",
    "y_pred_1 = model_1.predict(X_test_scaled)\n",
    "\n",
    "y_mean = np.mean(y_test)\n",
    "ss_res = np.sum((y_test - y_pred_1) ** 2)\n",
    "ss_tot = np.sum((y_test - y_mean) ** 2)\n",
    "r2 = 1 - (ss_res / ss_tot)\n",
    "\n",
    "print('Test RMSE = %.3f on GradientDescent' % mean_squared_error(y_test, y_pred_1, squared=False))\n",
    "print('R^2 = %.3f on GradientDescent' % r2)\n",
    "print()\n"
   ],
   "execution_count": 145,
   "outputs": []
  },
  {
   "metadata": {
    "ExecuteTime": {
     "end_time": "2024-10-23T19:49:50.529525Z",
     "start_time": "2024-10-23T19:49:43.087704Z"
    }
   },
   "cell_type": "code",
   "source": [
    "model_2 = LinReg(gd_type='StochasticDescent')\n",
    "model_2.fit(X_train_scaled, y_train)\n",
    "y_pred_2 = model_2.predict(X_test_scaled)\n",
    "\n",
    "y_mean = np.mean(y_test)\n",
    "ss_res = np.sum((y_test - y_pred_2) ** 2)\n",
    "ss_tot = np.sum((y_test - y_mean) ** 2)\n",
    "r2 = 1 - (ss_res / ss_tot)\n",
    "\n",
    "print('Test RMSE = %.3f on StochasticDescent' % mean_squared_error(y_test, y_pred_2, squared=False))\n",
    "print('R^2 = %.3f on StochasticDescent' % r2)\n",
    "print()"
   ],
   "execution_count": 146,
   "outputs": []
  },
  {
   "metadata": {
    "ExecuteTime": {
     "end_time": "2024-10-23T19:50:01.156067Z",
     "start_time": "2024-10-23T19:49:50.531568Z"
    }
   },
   "cell_type": "code",
   "source": [
    "model_3= LinReg(gd_type='Momentum')\n",
    "model_3.fit(X_train_scaled, y_train)\n",
    "y_pred_3 = model_3.predict(X_test_scaled)\n",
    "\n",
    "y_mean = np.mean(y_test)\n",
    "ss_res = np.sum((y_test - y_pred_3) ** 2)\n",
    "ss_tot = np.sum((y_test - y_mean) ** 2)\n",
    "r2 = 1 - (ss_res / ss_tot)\n",
    "\n",
    "print('Test RMSE = %.3f on Momentum' % mean_squared_error(y_test, y_pred_3, squared=False))\n",
    "print('R^2 = %.3f on Momentum' % r2)\n",
    "print()"
   ],
   "execution_count": 147,
   "outputs": []
  },
  {
   "metadata": {
    "ExecuteTime": {
     "end_time": "2024-10-23T19:50:22.328859Z",
     "start_time": "2024-10-23T19:50:01.157079Z"
    }
   },
   "cell_type": "code",
   "source": [
    "model_4 = LinReg(gd_type='Adagrad')\n",
    "model_4.fit(X_train_scaled, y_train)\n",
    "y_pred_4 = model_4.predict(X_test_scaled)\n",
    "\n",
    "y_mean = np.mean(y_test)\n",
    "ss_res = np.sum((y_test - y_pred_4) ** 2)\n",
    "ss_tot = np.sum((y_test - y_mean) ** 2)\n",
    "r2 = 1 - (ss_res / ss_tot)\n",
    "\n",
    "print('Test RMSE = %.3f on Adagrad' % mean_squared_error(y_test, y_pred_4, squared=False))\n",
    "print('R^2 = %.3f on Adagrad' % r2)\n",
    "print()"
   ],
   "execution_count": 148,
   "outputs": []
  },
  {
   "metadata": {},
   "cell_type": "markdown",
   "source": "Можем наблюдать, что результат намного ниже, чем у scikit-learn"
  },
  {
   "cell_type": "markdown",
   "metadata": {
    "id": "bqYtVqv-y-Qu"
   },
   "source": [
    "#### 9. [1 point] Plot graphs of the loss function values ​​as a function of the iteration number for all models (full gradient descent, stochastic gc, Momentum, and Adagrad). Draw conclusions about the convergence rate of various modifications of gradient descent.\n",
    "\n",
    "Don't forget about what a *nice* graph should look like!"
   ]
  },
  {
   "cell_type": "code",
   "metadata": {
    "id": "Xbwhu8BSy-Qu",
    "ExecuteTime": {
     "end_time": "2024-10-23T19:50:43.295018Z",
     "start_time": "2024-10-23T19:50:22.330339Z"
    }
   },
   "source": [
    "model_1 = LinReg(gd_type='GradientDescent', max_iter=200)\n",
    "model_1.fit(X_train_scaled, y_train)\n",
    "\n",
    "model_2 = LinReg(gd_type='StochasticDescent', max_iter=200)\n",
    "model_2.fit(X_train_scaled, y_train)\n",
    "\n",
    "model_3 = LinReg(gd_type='Momentum', max_iter=200)\n",
    "model_3.fit(X_train_scaled, y_train)\n",
    "\n",
    "model_4 = LinReg(gd_type='Adagrad', max_iter=200)\n",
    "model_4.fit(X_train_scaled, y_train)\n",
    "\n",
    "plt.plot(model_1.loss_history, label='Full Gradient Descent')\n",
    "plt.plot(model_2.loss_history, label='Stochastic Gradient Descent')\n",
    "plt.plot(model_3.loss_history, label='Momentum')\n",
    "plt.plot(model_4.loss_history, label='Adagrad')\n",
    "\n",
    "plt.xlabel('Iterations')\n",
    "plt.ylabel('Loss')\n",
    "plt.title('Convergence of Different Gradient Descent Methods')\n",
    "plt.legend()\n",
    "plt.grid(True)\n",
    "plt.show()"
   ],
   "execution_count": 149,
   "outputs": []
  },
  {
   "metadata": {},
   "cell_type": "markdown",
   "source": "Из графика видим, что быстрее всех справляется с задачей стохастический градиентный спуск, а медленнее всех adagrad"
  },
  {
   "metadata": {
    "ExecuteTime": {
     "end_time": "2024-10-23T19:51:51.818499Z",
     "start_time": "2024-10-23T19:50:43.297248Z"
    }
   },
   "cell_type": "code",
   "source": [
    "model_1 = LinReg(gd_type='GradientDescent', max_iter=2000)\n",
    "model_1.fit(X_train_scaled, y_train)\n",
    "\n",
    "model_2 = LinReg(gd_type='StochasticDescent', max_iter=2000)\n",
    "model_2.fit(X_train_scaled, y_train)\n",
    "\n",
    "model_3 = LinReg(gd_type='Momentum', max_iter=2000)\n",
    "model_3.fit(X_train_scaled, y_train)\n",
    "\n",
    "model_4 = LinReg(gd_type='Adagrad', max_iter=2000)\n",
    "model_4.fit(X_train_scaled, y_train)\n",
    "\n",
    "plt.plot(model_1.loss_history, label='Full Gradient Descent')\n",
    "plt.plot(model_2.loss_history, label='Stochastic Gradient Descent')\n",
    "plt.plot(model_3.loss_history, label='Momentum')\n",
    "plt.plot(model_4.loss_history, label='Adagrad')\n",
    "\n",
    "plt.xlabel('Iterations')\n",
    "plt.ylabel('Loss')\n",
    "plt.title('Convergence of Different Gradient Descent Methods')\n",
    "plt.legend()\n",
    "plt.grid(True)\n",
    "plt.show()"
   ],
   "execution_count": 150,
   "outputs": []
  },
  {
   "metadata": {},
   "cell_type": "markdown",
   "source": "Как видим при большем количестве итераций, adagrad значительно проигрывает остальным методам, или я его неправильно реализовал)"
  },
  {
   "metadata": {
    "ExecuteTime": {
     "end_time": "2024-10-23T19:51:51.823443Z",
     "start_time": "2024-10-23T19:51:51.819511Z"
    }
   },
   "cell_type": "code",
   "source": "",
   "execution_count": 150,
   "outputs": []
  }
 ],
 "metadata": {
  "colab": {
   "provenance": []
  },
  "kernelspec": {
   "display_name": "Python 3 (ipykernel)",
   "language": "python",
   "name": "python3"
  },
  "language_info": {
   "codemirror_mode": {
    "name": "ipython",
    "version": 3
   },
   "file_extension": ".py",
   "mimetype": "text/x-python",
   "name": "python",
   "nbconvert_exporter": "python",
   "pygments_lexer": "ipython3",
   "version": "3.10.9"
  }
 },
 "nbformat": 4,
 "nbformat_minor": 0
}
