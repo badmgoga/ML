{
  "cells": [
    {
      "cell_type": "markdown",
      "metadata": {
        "id": "qYPEJMSSggNV"
      },
      "source": [
        "# HSE 2024: Mathematical Methods for Data Analysis\n",
        "\n",
        "## Homework 4\n",
        "\n",
        "**Warning 1**: You have 10 days for this assignemnt.  **it is better to start early (!)**\n",
        "\n",
        "**Warning 2**: it is critical to describe and explain what you are doing and why, use markdown cells\n",
        "\n",
        "\n",
        "### Contents\n",
        "\n",
        "#### Decision Trees - 7 points\n",
        "* [Task 1](#task1) (0.5 points)\n",
        "* [Task 2](#task2) (0.5 points)\n",
        "* [Task 3](#task3) (2 points)\n",
        "* [Task 4](#task4) (0.5 points)\n",
        "* [Task 5](#task5) (0.5 points)\n",
        "* [Task 6](#task6) (2 points)\n",
        "* [Task 7](#task7) (0.5 points)\n",
        "* [Task 8](#task8) (0.5 points)\n",
        "\n",
        "#### Ensembles - 3 points\n",
        "* [Task 1](#task2_1) (1 point)\n",
        "* [Task 2](#task2_2) (0.7 points)\n",
        "* [Task 3](#task2_3) (0.5 points)\n",
        "* [Task 4](#task2_4) (0.7 points)\n",
        "* [Task 5](#task2_5) (0.1 points)"
      ]
    },
    {
      "cell_type": "code",
      "execution_count": 10,
      "metadata": {
        "ExecuteTime": {
          "end_time": "2024-11-19T16:18:01.730229Z",
          "start_time": "2024-11-19T16:18:01.033264Z"
        },
        "id": "sXmYXjcrggNZ"
      },
      "outputs": [],
      "source": [
        "import matplotlib.pyplot as plt\n",
        "import numpy as np\n",
        "import pandas as pd\n",
        "\n",
        "plt.rcParams['figure.figsize'] = (11, 5)\n",
        "%matplotlib inline"
      ]
    },
    {
      "cell_type": "markdown",
      "metadata": {
        "id": "VlQz2VsuggNc"
      },
      "source": [
        "# Part 1. Decision Tree Regressor"
      ]
    },
    {
      "cell_type": "markdown",
      "metadata": {
        "id": "QaJfuorwggNd"
      },
      "source": [
        "In this task you will be implementing decision tree for the regression by hand."
      ]
    },
    {
      "cell_type": "markdown",
      "metadata": {
        "id": "21glQoTeggNe"
      },
      "source": [
        "### Task 1 <a id=\"task1\"></a> (0.5 points)\n",
        "\n",
        "Here you should implement the function `H()` which calculates impurity criterion. We will be training regression tree, and will take mean absolute deviation as impurity criterion.\n",
        "\n",
        "* You cannot use loops\n",
        "* If `y` is empty, the function should return 0"
      ]
    },
    {
      "cell_type": "code",
      "execution_count": null,
      "metadata": {
        "ExecuteTime": {
          "end_time": "2023-11-09T17:46:40.732847Z",
          "start_time": "2023-11-09T17:46:40.729241Z"
        },
        "id": "E_m6SEKXggNf"
      },
      "outputs": [],
      "source": [
        "def H(y):\n",
        "    \"\"\"\n",
        "    Calculate impurity criterion\n",
        "\n",
        "    Parameters\n",
        "    ----------\n",
        "    y : np.array\n",
        "        array of objects target values in the node\n",
        "\n",
        "    Returns\n",
        "    -------\n",
        "    H(R) : float\n",
        "        Impurity in the node (measuread by variance)\n",
        "    \"\"\"\n",
        "    if len(y) == 0:\n",
        "        return 0.0\n",
        "\n",
        "    m = np.mean(y)\n",
        "    res = np.mean((y - m) ** 2)\n",
        "    return res\n",
        "\n"
      ]
    },
    {
      "cell_type": "code",
      "execution_count": null,
      "metadata": {
        "ExecuteTime": {
          "end_time": "2023-11-09T17:46:40.875430Z",
          "start_time": "2023-11-09T17:46:40.737694Z"
        },
        "id": "UCUe2JYmggNg"
      },
      "outputs": [],
      "source": [
        "# Test the function\n",
        "assert np.allclose(H(np.array([4, 2, 2, 2])), 0.75)\n",
        "assert np.allclose(H(np.array([])), 0.0)"
      ]
    },
    {
      "cell_type": "markdown",
      "metadata": {
        "id": "1LYurHFOggNh"
      },
      "source": [
        "### Task 2 <a id=\"task2\"></a>  (0.5 points)\n",
        "\n",
        "To find the best split in the node we need to calculate the cost function. Denote:\n",
        "- `R` all the object in the node\n",
        "- `j` index of the feature selected for the split\n",
        "- `t` threshold\n",
        "- `R_l` and `R_r` objects in the left and right child nodes correspondingly\n",
        "\n",
        "We get the following cost function:\n",
        "\n",
        "$$\n",
        "Q(R, j, t) =\\frac{|R_\\ell|}{|R|}H(R_\\ell) + \\frac{|R_r|}{|R|}H(R_r) \\to \\min_{j, t},\n",
        "$$\n",
        "\n",
        "Implement the function `Q`, which should calculate value of the cost function for a given feature and threshold."
      ]
    },
    {
      "cell_type": "code",
      "execution_count": null,
      "metadata": {
        "ExecuteTime": {
          "end_time": "2023-11-09T17:46:40.877419Z",
          "start_time": "2023-11-09T17:46:40.877407Z"
        },
        "id": "XZWt9GbdggNi"
      },
      "outputs": [],
      "source": [
        "def Q(X, y, j, t):\n",
        "    \"\"\"\n",
        "    Calculate cost function\n",
        "    Parameters\n",
        "    ----------\n",
        "    X : ndarray\n",
        "        array of objects in the node\n",
        "    y : ndarray\n",
        "        array of target values in the node\n",
        "    j : int\n",
        "        feature index (column in X)\n",
        "    t : float\n",
        "        threshold\n",
        "\n",
        "    Returns\n",
        "    -------\n",
        "    Q : float\n",
        "        Value of the cost function\n",
        "    \"\"\"\n",
        "    left_mask = X[:, j] <= t\n",
        "    right_mask = ~left_mask\n",
        "\n",
        "\n",
        "    R_l, R_r = y[left_mask], y[right_mask]\n",
        "\n",
        "    n_l = len(R_l)\n",
        "    n_r = len(R_r)\n",
        "\n",
        "\n",
        "\n",
        "    n_R = len(R_l) + len(R_r)\n",
        "\n",
        "    Q = n_l * H(R_l) / n_R + n_r * H(R_r) / n_R\n",
        "    return Q"
      ]
    },
    {
      "cell_type": "markdown",
      "metadata": {
        "id": "jJPiu58KggNj"
      },
      "source": [
        "### Task 3 <a id=\"task3\"></a>  (2 points)\n",
        "\n",
        "Now, let's implement `MyDecisionTreeRegressor` class. More specifically, you need to implement the following methods:\n",
        "\n",
        "- `best_split`\n",
        "- `grow_tree`\n",
        "- `get_prediction`\n",
        "\n",
        "Also, please add `min_samples_leaf` parameter to your class\n",
        "\n",
        "Read docstrings for more details. Do not forget to use function `Q` implemented above, when finding the `best_split`"
      ]
    },
    {
      "cell_type": "code",
      "execution_count": null,
      "metadata": {
        "ExecuteTime": {
          "end_time": "2023-11-09T17:46:40.878647Z",
          "start_time": "2023-11-09T17:46:40.878635Z"
        },
        "id": "Jb4R9reEggNk"
      },
      "outputs": [],
      "source": [
        "class Node(object):\n",
        "    \"\"\"\n",
        "    Class for a decision tree node.\n",
        "\n",
        "    Parameters\n",
        "    ----------\n",
        "    right : Node() or None\n",
        "        Right child\n",
        "    left : Node() or None\n",
        "        Left child\n",
        "    threshold: float\n",
        "\n",
        "    column: int\n",
        "\n",
        "    depth: int\n",
        "\n",
        "    prediction: float\n",
        "        prediction of the target value in the node\n",
        "        (average values calculated on a train dataset)\n",
        "    is_terminal:bool\n",
        "        indicates whether it is a terminal node (leaf) or not\n",
        "    \"\"\"\n",
        "    def __init__(self):\n",
        "        self.right = None\n",
        "        self.left = None\n",
        "        self.threshold = None\n",
        "        self.column = None\n",
        "        self.depth = None\n",
        "        self.is_terminal = False\n",
        "        self.prediction = None\n",
        "\n",
        "    def __repr__(self):\n",
        "        if self.is_terminal:\n",
        "            node_desc = 'Pred: {:.2f}'.format(self.prediction)\n",
        "        else:\n",
        "            node_desc = 'Col {}, t {:.2f}, Pred: {:.2f}'. \\\n",
        "            format(self.column, self.threshold, self.prediction)\n",
        "        return node_desc"
      ]
    },
    {
      "cell_type": "code",
      "execution_count": null,
      "metadata": {
        "ExecuteTime": {
          "end_time": "2023-11-09T17:46:40.879812Z",
          "start_time": "2023-11-09T17:46:40.879801Z"
        },
        "id": "cA_q7rPVggNl"
      },
      "outputs": [],
      "source": [
        "from sklearn.base import BaseEstimator, RegressorMixin\n",
        "from sklearn.utils.validation import check_X_y, check_array, check_is_fitted\n",
        "\n",
        "class MyDecisionTreeRegressor(RegressorMixin, BaseEstimator):\n",
        "    \"\"\"\n",
        "    Class for a Decision Tree Regressor.\n",
        "\n",
        "    Parameters\n",
        "    ----------\n",
        "    max_depth : int\n",
        "        Max depth of a decision tree.\n",
        "    min_samples_split : int\n",
        "        Minimal number of samples (objects) in a node to make a split.\n",
        "    min_samples_leaf: int\n",
        "        Minimum number of samples (objects) in left and right branches after splitting the current node\n",
        "    \"\"\"\n",
        "    def __init__(self, max_depth=3, min_samples_split=2, min_samples_leaf=1):\n",
        "        self.max_depth = max_depth\n",
        "        self.min_samples_split = min_samples_split\n",
        "        self.min_samples_leaf = min_samples_leaf\n",
        "\n",
        "    def best_split(self, X, y):\n",
        "        \"\"\"\n",
        "        Find the best split in terms of Q of data in a given decision tree node.\n",
        "        Try all features and thresholds.\n",
        "\n",
        "        Parameters\n",
        "        ----------\n",
        "        X : ndarray, shape (n_objects, n_features)\n",
        "            Objects in the parent node\n",
        "        y : ndarray, shape (n_objects, )\n",
        "            1D array with the object labels.\n",
        "\n",
        "        Returns\n",
        "        -------\n",
        "        best_split_column : int\n",
        "            Index of the best split column\n",
        "        best_threshold : float\n",
        "            The best split condition.\n",
        "        X_left : ndarray, shape (n_objects_l, n_features)\n",
        "            Objects in the left child\n",
        "        y_left : ndarray, shape (n_objects_l, )\n",
        "            Objects labels in the left child.\n",
        "        X_right : ndarray, shape (n_objects_r, n_features)\n",
        "            Objects in the right child\n",
        "        y_right : ndarray, shape (n_objects_r, )\n",
        "            Objects labels in the right child.\n",
        "        \"\"\"\n",
        "        if np.any(np.isnan(X)) or np.any(np.isnan(y)):\n",
        "            raise ValueError(\"Input contains NaN.\")\n",
        "        # To store best split parameters\n",
        "        best_split_column = None\n",
        "        best_threshold = None\n",
        "        # without splitting\n",
        "        best_cost = H(y)\n",
        "\n",
        "        best_information_gain = -999\n",
        "\n",
        "        # For each column in X ...\n",
        "        for split_column in range(X.shape[1]):\n",
        "\n",
        "            # Select values of the column\n",
        "            x_col = X[:, split_column]\n",
        "            # x_col = [2.6, 1.3, 0.5, ...] (example)\n",
        "\n",
        "            # For each value in the column ...\n",
        "            for i_x in range(0, len(x_col)):\n",
        "                threshold = x_col[i_x]\n",
        "\n",
        "                information_gain = best_cost\n",
        "                information_gain -= Q(X, y, split_column, threshold)\n",
        "\n",
        "                # Is this information_gain the best?\n",
        "                if information_gain > best_information_gain:\n",
        "                    best_split_column = split_column\n",
        "                    best_threshold = threshold\n",
        "                    best_information_gain = information_gain\n",
        "\n",
        "        # If no split available\n",
        "        if best_information_gain == -999:\n",
        "            return None, None, None, None, None, None\n",
        "\n",
        "        # Take the best split parameters and make this split\n",
        "        x_col = X[:, best_split_column]\n",
        "        X_left = X[x_col <= best_threshold, :]\n",
        "        y_left = y[x_col <= best_threshold]\n",
        "        X_right = X[x_col > best_threshold, :]\n",
        "        y_right = y[x_col > best_threshold]\n",
        "\n",
        "        return best_split_column, best_threshold, X_left, y_left, X_right, y_right\n",
        "\n",
        "    def is_terminal(self, node, y):\n",
        "        \"\"\"\n",
        "        Check terminality conditions based on `max_depth`,\n",
        "        `min_samples_split` parameters for a given node.\n",
        "\n",
        "        Parameters\n",
        "        ----------\n",
        "        node : Node,\n",
        "\n",
        "        y : ndarray, shape (n_objects, )\n",
        "            Object labels.\n",
        "\n",
        "        Returns\n",
        "        -------\n",
        "        Is_termial : bool\n",
        "            If True, node is terminal\n",
        "        \"\"\"\n",
        "        if node.depth >= self.max_depth:\n",
        "            return True\n",
        "        if len(y) < self.min_samples_split:\n",
        "            return True\n",
        "        if len(np.unique(y)) == 1:\n",
        "            return True\n",
        "        return False\n",
        "\n",
        "    def grow_tree(self, node, X, y):\n",
        "        \"\"\"\n",
        "        Reccurently grow the tree from the `node` using a `X` and `y` as a dataset:\n",
        "         - check terminality conditions\n",
        "         - find best split if node is not terminal\n",
        "         - add child nodes to the node\n",
        "         - call the function recursively for the added child nodes\n",
        "\n",
        "        Parameters\n",
        "        ----------\n",
        "        node : Node() object\n",
        "            Current node of the decision tree.\n",
        "        X : ndarray, shape (n_objects, n_features)\n",
        "            Objects\n",
        "        y : ndarray, shape (n_objects)\n",
        "            Labels\n",
        "        \"\"\"\n",
        "\n",
        "        if self.is_terminal(node, y):\n",
        "            node.is_terminal =True\n",
        "            return\n",
        "\n",
        "        split_column, threshold, X_left, y_left, X_right, y_right = self.best_split(X, y) # Make a split\n",
        "        # split_column = 2 (exmaple) column index of the split\n",
        "        # threshold = 2.74 (example) split_column > threshold\n",
        "\n",
        "        # Check additional termination conditions\n",
        "        if split_column is None:\n",
        "            node.is_terminal = True\n",
        "            return\n",
        "        if len(X_left) < self.min_samples_leaf or len(X_right) < self.min_samples_leaf:  # min_samples_leaf check\n",
        "            node.is_terminal = True\n",
        "            return\n",
        "\n",
        "\n",
        "        # Add split parameters into the current node\n",
        "        node.column = split_column\n",
        "        node.threshold = threshold\n",
        "\n",
        "        # Create a left child of the current node\n",
        "        node.left = Node()\n",
        "        node.left.depth = node.depth + 1\n",
        "        node.left.probas = self.node_probabilities(y_left)\n",
        "\n",
        "        # Create a right child of the current node\n",
        "        node.right = Node()\n",
        "        node.right.depth = node.depth + 1\n",
        "        node.right.probas = self.node_probabilities(y_right)\n",
        "\n",
        "        # Make splits for the left and right nodes\n",
        "        self.grow_tree(node.right, X_right, y_right)\n",
        "        self.grow_tree(node.left, X_left, y_left)\n",
        "\n",
        "\n",
        "    def fit(self, X, y):\n",
        "        \"\"\"\n",
        "        Fit the Decision Tree Regressor.\n",
        "\n",
        "        Parameters\n",
        "        ----------\n",
        "        X : ndarray, shape (n_samples, n_features)\n",
        "            The input samples.\n",
        "        y : ndarray, shape (n_samples,) or (n_samples, n_outputs)\n",
        "            The target values.\n",
        "        Returns\n",
        "        -------\n",
        "        self : object\n",
        "            Returns self.\n",
        "        \"\"\"\n",
        "        X, y = check_X_y(X, y, accept_sparse=False, force_all_finite='allow-nan')\n",
        "        if np.any(np.isnan(X)) or np.any(np.isnan(y)):\n",
        "            raise ValueError(\"Input contains NaN, which is not supported by MyDecisionTreeRegressor.\")\n",
        "\n",
        "        self.is_fitted_ = True\n",
        "\n",
        "        # Initialize the tree (root node)\n",
        "        self.tree_ = Node()\n",
        "        self.tree_.depth = 1\n",
        "        self.tree_.prediction = np.mean(y)\n",
        "\n",
        "        # Grow the tree\n",
        "        self.grow_tree(self.tree_, X, y)\n",
        "        return self\n",
        "\n",
        "    def get_prediction(self, node, x):\n",
        "        \"\"\"\n",
        "        Get prediction for an object `x`\n",
        "            - Return prediction of the `node` if it is terminal\n",
        "            - Otherwise, recursively call the function to get\n",
        "            predictions of the proper child\n",
        "\n",
        "        Parameters\n",
        "        ----------\n",
        "        node : Node() object\n",
        "            Current node of the decision tree.\n",
        "        x : ndarray, shape (n_features,)\n",
        "            Array of feature values of one object.\n",
        "        Returns\n",
        "        -------\n",
        "        y_pred : float\n",
        "            Prediction for an object x\n",
        "        \"\"\"\n",
        "        if node.is_terminal == True:     # If it is a leaf (terminal node, no childs)\n",
        "            return node.prediction                          # Return probas of the terminal node\n",
        "            # node.probas = [0.9, 0.1] (example)\n",
        "\n",
        "        # Run to the current node's childs\n",
        "        # Check split condition. If yes, go to the right child\n",
        "        if x[node.column] > node.threshold:\n",
        "            # Right child\n",
        "            y_pred = self.get_prediction(node.right, x)\n",
        "            # probas = [0.9, 0.1] (example)\n",
        "        else:\n",
        "            # Left child\n",
        "            y_pred = self.get_prediction(node.left, x)\n",
        "            # probas = [0.9, 0.1] (example)\n",
        "\n",
        "        return y_pred\n",
        "\n",
        "    def predict(self, X):\n",
        "        \"\"\"\n",
        "        Get prediction for each object in X\n",
        "\n",
        "        Parameters\n",
        "        ----------\n",
        "        X : ndarray, shape (n_samples, n_features)\n",
        "            The input samples.\n",
        "        Returns\n",
        "        -------\n",
        "        y : ndarray, shape (n_samples,)\n",
        "            Returns predictions.\n",
        "        \"\"\"\n",
        "        # Check input and that `fit` had been called\n",
        "        X = check_array(X, accept_sparse=False, force_all_finite=\"allow-nan\")\n",
        "\n",
        "        if np.any(np.isnan(X)):\n",
        "            raise ValueError(\"Input contains NaN, which is not supported by MyDecisionTreeRegressor.\")\n",
        "\n",
        "        check_is_fitted(self, 'is_fitted_')\n",
        "\n",
        "        # Get predictions\n",
        "        y_predicted = []\n",
        "        for x in X:\n",
        "            y_curr = self.get_prediction(self.tree_, x)\n",
        "            y_predicted.append(y_curr)\n",
        "        return np.array(y_predicted)\n",
        "\n",
        "    def node_probabilities(self, y):\n",
        "        \"\"\"\n",
        "        Estimate probabilities of classes in data.\n",
        "\n",
        "        Parameters\n",
        "        ----------\n",
        "        y : numpy.array, shape = (n_objects)\n",
        "            1D array with the object labels.\n",
        "            For the classification labels are integers in {0, 1, 2, ...}.\n",
        "\n",
        "        Returns\n",
        "        -------\n",
        "        probas : numpy.array, shape = (n_objects, n_classes)\n",
        "            2D array with predicted probabilities of each class.\n",
        "            Example:\n",
        "                y_predicted_proba = [[0.1, 0.9],\n",
        "                                     [0.8, 0.2],\n",
        "                                     [0.0, 1.0],\n",
        "                                     ...]\n",
        "        \"\"\"\n",
        "\n",
        "        # To store probas\n",
        "        probas = []\n",
        "\n",
        "        classes = np.unique(y)\n",
        "\n",
        "        # For each class in data ...\n",
        "        for one_class in classes:\n",
        "\n",
        "            # Estimate probability of the class\n",
        "            class_proba = 1. * (y == one_class).sum() / len(y)\n",
        "            # class_proba = 0.8 (example)\n",
        "\n",
        "            # Store the probability\n",
        "            probas.append(class_proba)\n",
        "\n",
        "        return probas"
      ]
    },
    {
      "cell_type": "code",
      "execution_count": null,
      "metadata": {
        "ExecuteTime": {
          "end_time": "2023-11-09T17:46:40.880754Z",
          "start_time": "2023-11-09T17:46:40.880743Z"
        },
        "id": "rlFF6LD6ggNp",
        "colab": {
          "base_uri": "https://localhost:8080/",
          "height": 333
        },
        "outputId": "c36b3024-bf9e-4e33-ee69-aa77a875cec0"
      },
      "outputs": [
        {
          "output_type": "error",
          "ename": "ValueError",
          "evalue": "Input contains NaN.",
          "traceback": [
            "\u001b[0;31m---------------------------------------------------------------------------\u001b[0m",
            "\u001b[0;31mValueError\u001b[0m                                Traceback (most recent call last)",
            "\u001b[0;32m<ipython-input-28-95efca96ee0e>\u001b[0m in \u001b[0;36m<cell line: 10>\u001b[0;34m()\u001b[0m\n\u001b[1;32m      8\u001b[0m \u001b[0;32mfrom\u001b[0m \u001b[0msklearn\u001b[0m\u001b[0;34m.\u001b[0m\u001b[0mutils\u001b[0m\u001b[0;34m.\u001b[0m\u001b[0mestimator_checks\u001b[0m \u001b[0;32mimport\u001b[0m \u001b[0mcheck_estimator\u001b[0m\u001b[0;34m\u001b[0m\u001b[0;34m\u001b[0m\u001b[0m\n\u001b[1;32m      9\u001b[0m \u001b[0;34m\u001b[0m\u001b[0m\n\u001b[0;32m---> 10\u001b[0;31m \u001b[0mcheck_estimator\u001b[0m\u001b[0;34m(\u001b[0m\u001b[0mMyDecisionTreeRegressor\u001b[0m\u001b[0;34m(\u001b[0m\u001b[0;34m)\u001b[0m\u001b[0;34m)\u001b[0m\u001b[0;34m\u001b[0m\u001b[0;34m\u001b[0m\u001b[0m\n\u001b[0m",
            "\u001b[0;32m/usr/local/lib/python3.10/dist-packages/sklearn/utils/estimator_checks.py\u001b[0m in \u001b[0;36mcheck_estimator\u001b[0;34m(estimator, generate_only)\u001b[0m\n\u001b[1;32m    648\u001b[0m     \u001b[0;32mfor\u001b[0m \u001b[0mestimator\u001b[0m\u001b[0;34m,\u001b[0m \u001b[0mcheck\u001b[0m \u001b[0;32min\u001b[0m \u001b[0mchecks_generator\u001b[0m\u001b[0;34m(\u001b[0m\u001b[0;34m)\u001b[0m\u001b[0;34m:\u001b[0m\u001b[0;34m\u001b[0m\u001b[0;34m\u001b[0m\u001b[0m\n\u001b[1;32m    649\u001b[0m         \u001b[0;32mtry\u001b[0m\u001b[0;34m:\u001b[0m\u001b[0;34m\u001b[0m\u001b[0;34m\u001b[0m\u001b[0m\n\u001b[0;32m--> 650\u001b[0;31m             \u001b[0mcheck\u001b[0m\u001b[0;34m(\u001b[0m\u001b[0mestimator\u001b[0m\u001b[0;34m)\u001b[0m\u001b[0;34m\u001b[0m\u001b[0;34m\u001b[0m\u001b[0m\n\u001b[0m\u001b[1;32m    651\u001b[0m         \u001b[0;32mexcept\u001b[0m \u001b[0mSkipTest\u001b[0m \u001b[0;32mas\u001b[0m \u001b[0mexception\u001b[0m\u001b[0;34m:\u001b[0m\u001b[0;34m\u001b[0m\u001b[0;34m\u001b[0m\u001b[0m\n\u001b[1;32m    652\u001b[0m             \u001b[0;31m# SkipTest is thrown when pandas can't be imported, or by checks\u001b[0m\u001b[0;34m\u001b[0m\u001b[0;34m\u001b[0m\u001b[0m\n",
            "\u001b[0;32m/usr/local/lib/python3.10/dist-packages/sklearn/utils/_testing.py\u001b[0m in \u001b[0;36mwrapper\u001b[0;34m(*args, **kwargs)\u001b[0m\n\u001b[1;32m    158\u001b[0m             \u001b[0;32mwith\u001b[0m \u001b[0mwarnings\u001b[0m\u001b[0;34m.\u001b[0m\u001b[0mcatch_warnings\u001b[0m\u001b[0;34m(\u001b[0m\u001b[0;34m)\u001b[0m\u001b[0;34m:\u001b[0m\u001b[0;34m\u001b[0m\u001b[0;34m\u001b[0m\u001b[0m\n\u001b[1;32m    159\u001b[0m                 \u001b[0mwarnings\u001b[0m\u001b[0;34m.\u001b[0m\u001b[0msimplefilter\u001b[0m\u001b[0;34m(\u001b[0m\u001b[0;34m\"ignore\"\u001b[0m\u001b[0;34m,\u001b[0m \u001b[0mself\u001b[0m\u001b[0;34m.\u001b[0m\u001b[0mcategory\u001b[0m\u001b[0;34m)\u001b[0m\u001b[0;34m\u001b[0m\u001b[0;34m\u001b[0m\u001b[0m\n\u001b[0;32m--> 160\u001b[0;31m                 \u001b[0;32mreturn\u001b[0m \u001b[0mfn\u001b[0m\u001b[0;34m(\u001b[0m\u001b[0;34m*\u001b[0m\u001b[0margs\u001b[0m\u001b[0;34m,\u001b[0m \u001b[0;34m**\u001b[0m\u001b[0mkwargs\u001b[0m\u001b[0;34m)\u001b[0m\u001b[0;34m\u001b[0m\u001b[0;34m\u001b[0m\u001b[0m\n\u001b[0m\u001b[1;32m    161\u001b[0m \u001b[0;34m\u001b[0m\u001b[0m\n\u001b[1;32m    162\u001b[0m         \u001b[0;32mreturn\u001b[0m \u001b[0mwrapper\u001b[0m\u001b[0;34m\u001b[0m\u001b[0;34m\u001b[0m\u001b[0m\n",
            "\u001b[0;32m/usr/local/lib/python3.10/dist-packages/sklearn/utils/estimator_checks.py\u001b[0m in \u001b[0;36mcheck_fit_score_takes_y\u001b[0;34m(name, estimator_orig)\u001b[0m\n\u001b[1;32m   1899\u001b[0m         \u001b[0mfunc\u001b[0m \u001b[0;34m=\u001b[0m \u001b[0mgetattr\u001b[0m\u001b[0;34m(\u001b[0m\u001b[0mestimator\u001b[0m\u001b[0;34m,\u001b[0m \u001b[0mfunc_name\u001b[0m\u001b[0;34m,\u001b[0m \u001b[0;32mNone\u001b[0m\u001b[0;34m)\u001b[0m\u001b[0;34m\u001b[0m\u001b[0;34m\u001b[0m\u001b[0m\n\u001b[1;32m   1900\u001b[0m         \u001b[0;32mif\u001b[0m \u001b[0mfunc\u001b[0m \u001b[0;32mis\u001b[0m \u001b[0;32mnot\u001b[0m \u001b[0;32mNone\u001b[0m\u001b[0;34m:\u001b[0m\u001b[0;34m\u001b[0m\u001b[0;34m\u001b[0m\u001b[0m\n\u001b[0;32m-> 1901\u001b[0;31m             \u001b[0mfunc\u001b[0m\u001b[0;34m(\u001b[0m\u001b[0mX\u001b[0m\u001b[0;34m,\u001b[0m \u001b[0my\u001b[0m\u001b[0;34m)\u001b[0m\u001b[0;34m\u001b[0m\u001b[0;34m\u001b[0m\u001b[0m\n\u001b[0m\u001b[1;32m   1902\u001b[0m             \u001b[0margs\u001b[0m \u001b[0;34m=\u001b[0m \u001b[0;34m[\u001b[0m\u001b[0mp\u001b[0m\u001b[0;34m.\u001b[0m\u001b[0mname\u001b[0m \u001b[0;32mfor\u001b[0m \u001b[0mp\u001b[0m \u001b[0;32min\u001b[0m \u001b[0msignature\u001b[0m\u001b[0;34m(\u001b[0m\u001b[0mfunc\u001b[0m\u001b[0;34m)\u001b[0m\u001b[0;34m.\u001b[0m\u001b[0mparameters\u001b[0m\u001b[0;34m.\u001b[0m\u001b[0mvalues\u001b[0m\u001b[0;34m(\u001b[0m\u001b[0;34m)\u001b[0m\u001b[0;34m]\u001b[0m\u001b[0;34m\u001b[0m\u001b[0;34m\u001b[0m\u001b[0m\n\u001b[1;32m   1903\u001b[0m             \u001b[0;32mif\u001b[0m \u001b[0margs\u001b[0m\u001b[0;34m[\u001b[0m\u001b[0;36m0\u001b[0m\u001b[0;34m]\u001b[0m \u001b[0;34m==\u001b[0m \u001b[0;34m\"self\"\u001b[0m\u001b[0;34m:\u001b[0m\u001b[0;34m\u001b[0m\u001b[0;34m\u001b[0m\u001b[0m\n",
            "\u001b[0;32m/usr/local/lib/python3.10/dist-packages/sklearn/base.py\u001b[0m in \u001b[0;36mscore\u001b[0;34m(self, X, y, sample_weight)\u001b[0m\n\u001b[1;32m    847\u001b[0m \u001b[0;34m\u001b[0m\u001b[0m\n\u001b[1;32m    848\u001b[0m         \u001b[0my_pred\u001b[0m \u001b[0;34m=\u001b[0m \u001b[0mself\u001b[0m\u001b[0;34m.\u001b[0m\u001b[0mpredict\u001b[0m\u001b[0;34m(\u001b[0m\u001b[0mX\u001b[0m\u001b[0;34m)\u001b[0m\u001b[0;34m\u001b[0m\u001b[0;34m\u001b[0m\u001b[0m\n\u001b[0;32m--> 849\u001b[0;31m         \u001b[0;32mreturn\u001b[0m \u001b[0mr2_score\u001b[0m\u001b[0;34m(\u001b[0m\u001b[0my\u001b[0m\u001b[0;34m,\u001b[0m \u001b[0my_pred\u001b[0m\u001b[0;34m,\u001b[0m \u001b[0msample_weight\u001b[0m\u001b[0;34m=\u001b[0m\u001b[0msample_weight\u001b[0m\u001b[0;34m)\u001b[0m\u001b[0;34m\u001b[0m\u001b[0;34m\u001b[0m\u001b[0m\n\u001b[0m\u001b[1;32m    850\u001b[0m \u001b[0;34m\u001b[0m\u001b[0m\n\u001b[1;32m    851\u001b[0m     \u001b[0;32mdef\u001b[0m \u001b[0m_more_tags\u001b[0m\u001b[0;34m(\u001b[0m\u001b[0mself\u001b[0m\u001b[0;34m)\u001b[0m\u001b[0;34m:\u001b[0m\u001b[0;34m\u001b[0m\u001b[0;34m\u001b[0m\u001b[0m\n",
            "\u001b[0;32m/usr/local/lib/python3.10/dist-packages/sklearn/utils/_param_validation.py\u001b[0m in \u001b[0;36mwrapper\u001b[0;34m(*args, **kwargs)\u001b[0m\n\u001b[1;32m    211\u001b[0m                     )\n\u001b[1;32m    212\u001b[0m                 ):\n\u001b[0;32m--> 213\u001b[0;31m                     \u001b[0;32mreturn\u001b[0m \u001b[0mfunc\u001b[0m\u001b[0;34m(\u001b[0m\u001b[0;34m*\u001b[0m\u001b[0margs\u001b[0m\u001b[0;34m,\u001b[0m \u001b[0;34m**\u001b[0m\u001b[0mkwargs\u001b[0m\u001b[0;34m)\u001b[0m\u001b[0;34m\u001b[0m\u001b[0;34m\u001b[0m\u001b[0m\n\u001b[0m\u001b[1;32m    214\u001b[0m             \u001b[0;32mexcept\u001b[0m \u001b[0mInvalidParameterError\u001b[0m \u001b[0;32mas\u001b[0m \u001b[0me\u001b[0m\u001b[0;34m:\u001b[0m\u001b[0;34m\u001b[0m\u001b[0;34m\u001b[0m\u001b[0m\n\u001b[1;32m    215\u001b[0m                 \u001b[0;31m# When the function is just a wrapper around an estimator, we allow\u001b[0m\u001b[0;34m\u001b[0m\u001b[0;34m\u001b[0m\u001b[0m\n",
            "\u001b[0;32m/usr/local/lib/python3.10/dist-packages/sklearn/metrics/_regression.py\u001b[0m in \u001b[0;36mr2_score\u001b[0;34m(y_true, y_pred, sample_weight, multioutput, force_finite)\u001b[0m\n\u001b[1;32m   1202\u001b[0m     \u001b[0mdtype\u001b[0m \u001b[0;34m=\u001b[0m \u001b[0m_find_matching_floating_dtype\u001b[0m\u001b[0;34m(\u001b[0m\u001b[0my_true\u001b[0m\u001b[0;34m,\u001b[0m \u001b[0my_pred\u001b[0m\u001b[0;34m,\u001b[0m \u001b[0msample_weight\u001b[0m\u001b[0;34m,\u001b[0m \u001b[0mxp\u001b[0m\u001b[0;34m=\u001b[0m\u001b[0mxp\u001b[0m\u001b[0;34m)\u001b[0m\u001b[0;34m\u001b[0m\u001b[0;34m\u001b[0m\u001b[0m\n\u001b[1;32m   1203\u001b[0m \u001b[0;34m\u001b[0m\u001b[0m\n\u001b[0;32m-> 1204\u001b[0;31m     _, y_true, y_pred, multioutput = _check_reg_targets(\n\u001b[0m\u001b[1;32m   1205\u001b[0m         \u001b[0my_true\u001b[0m\u001b[0;34m,\u001b[0m \u001b[0my_pred\u001b[0m\u001b[0;34m,\u001b[0m \u001b[0mmultioutput\u001b[0m\u001b[0;34m,\u001b[0m \u001b[0mdtype\u001b[0m\u001b[0;34m=\u001b[0m\u001b[0mdtype\u001b[0m\u001b[0;34m,\u001b[0m \u001b[0mxp\u001b[0m\u001b[0;34m=\u001b[0m\u001b[0mxp\u001b[0m\u001b[0;34m\u001b[0m\u001b[0;34m\u001b[0m\u001b[0m\n\u001b[1;32m   1206\u001b[0m     )\n",
            "\u001b[0;32m/usr/local/lib/python3.10/dist-packages/sklearn/metrics/_regression.py\u001b[0m in \u001b[0;36m_check_reg_targets\u001b[0;34m(y_true, y_pred, multioutput, dtype, xp)\u001b[0m\n\u001b[1;32m    111\u001b[0m     \u001b[0mcheck_consistent_length\u001b[0m\u001b[0;34m(\u001b[0m\u001b[0my_true\u001b[0m\u001b[0;34m,\u001b[0m \u001b[0my_pred\u001b[0m\u001b[0;34m)\u001b[0m\u001b[0;34m\u001b[0m\u001b[0;34m\u001b[0m\u001b[0m\n\u001b[1;32m    112\u001b[0m     \u001b[0my_true\u001b[0m \u001b[0;34m=\u001b[0m \u001b[0mcheck_array\u001b[0m\u001b[0;34m(\u001b[0m\u001b[0my_true\u001b[0m\u001b[0;34m,\u001b[0m \u001b[0mensure_2d\u001b[0m\u001b[0;34m=\u001b[0m\u001b[0;32mFalse\u001b[0m\u001b[0;34m,\u001b[0m \u001b[0mdtype\u001b[0m\u001b[0;34m=\u001b[0m\u001b[0mdtype\u001b[0m\u001b[0;34m)\u001b[0m\u001b[0;34m\u001b[0m\u001b[0;34m\u001b[0m\u001b[0m\n\u001b[0;32m--> 113\u001b[0;31m     \u001b[0my_pred\u001b[0m \u001b[0;34m=\u001b[0m \u001b[0mcheck_array\u001b[0m\u001b[0;34m(\u001b[0m\u001b[0my_pred\u001b[0m\u001b[0;34m,\u001b[0m \u001b[0mensure_2d\u001b[0m\u001b[0;34m=\u001b[0m\u001b[0;32mFalse\u001b[0m\u001b[0;34m,\u001b[0m \u001b[0mdtype\u001b[0m\u001b[0;34m=\u001b[0m\u001b[0mdtype\u001b[0m\u001b[0;34m)\u001b[0m\u001b[0;34m\u001b[0m\u001b[0;34m\u001b[0m\u001b[0m\n\u001b[0m\u001b[1;32m    114\u001b[0m \u001b[0;34m\u001b[0m\u001b[0m\n\u001b[1;32m    115\u001b[0m     \u001b[0;32mif\u001b[0m \u001b[0my_true\u001b[0m\u001b[0;34m.\u001b[0m\u001b[0mndim\u001b[0m \u001b[0;34m==\u001b[0m \u001b[0;36m1\u001b[0m\u001b[0;34m:\u001b[0m\u001b[0;34m\u001b[0m\u001b[0;34m\u001b[0m\u001b[0m\n",
            "\u001b[0;32m/usr/local/lib/python3.10/dist-packages/sklearn/utils/validation.py\u001b[0m in \u001b[0;36mcheck_array\u001b[0;34m(array, accept_sparse, accept_large_sparse, dtype, order, copy, force_writeable, force_all_finite, ensure_2d, allow_nd, ensure_min_samples, ensure_min_features, estimator, input_name)\u001b[0m\n\u001b[1;32m   1062\u001b[0m \u001b[0;34m\u001b[0m\u001b[0m\n\u001b[1;32m   1063\u001b[0m         \u001b[0;32mif\u001b[0m \u001b[0mforce_all_finite\u001b[0m\u001b[0;34m:\u001b[0m\u001b[0;34m\u001b[0m\u001b[0;34m\u001b[0m\u001b[0m\n\u001b[0;32m-> 1064\u001b[0;31m             _assert_all_finite(\n\u001b[0m\u001b[1;32m   1065\u001b[0m                 \u001b[0marray\u001b[0m\u001b[0;34m,\u001b[0m\u001b[0;34m\u001b[0m\u001b[0;34m\u001b[0m\u001b[0m\n\u001b[1;32m   1066\u001b[0m                 \u001b[0minput_name\u001b[0m\u001b[0;34m=\u001b[0m\u001b[0minput_name\u001b[0m\u001b[0;34m,\u001b[0m\u001b[0;34m\u001b[0m\u001b[0;34m\u001b[0m\u001b[0m\n",
            "\u001b[0;32m/usr/local/lib/python3.10/dist-packages/sklearn/utils/validation.py\u001b[0m in \u001b[0;36m_assert_all_finite\u001b[0;34m(X, allow_nan, msg_dtype, estimator_name, input_name)\u001b[0m\n\u001b[1;32m    121\u001b[0m         \u001b[0;32mreturn\u001b[0m\u001b[0;34m\u001b[0m\u001b[0;34m\u001b[0m\u001b[0m\n\u001b[1;32m    122\u001b[0m \u001b[0;34m\u001b[0m\u001b[0m\n\u001b[0;32m--> 123\u001b[0;31m     _assert_all_finite_element_wise(\n\u001b[0m\u001b[1;32m    124\u001b[0m         \u001b[0mX\u001b[0m\u001b[0;34m,\u001b[0m\u001b[0;34m\u001b[0m\u001b[0;34m\u001b[0m\u001b[0m\n\u001b[1;32m    125\u001b[0m         \u001b[0mxp\u001b[0m\u001b[0;34m=\u001b[0m\u001b[0mxp\u001b[0m\u001b[0;34m,\u001b[0m\u001b[0;34m\u001b[0m\u001b[0;34m\u001b[0m\u001b[0m\n",
            "\u001b[0;32m/usr/local/lib/python3.10/dist-packages/sklearn/utils/validation.py\u001b[0m in \u001b[0;36m_assert_all_finite_element_wise\u001b[0;34m(X, xp, allow_nan, msg_dtype, estimator_name, input_name)\u001b[0m\n\u001b[1;32m    170\u001b[0m                 \u001b[0;34m\"#estimators-that-handle-nan-values\"\u001b[0m\u001b[0;34m\u001b[0m\u001b[0;34m\u001b[0m\u001b[0m\n\u001b[1;32m    171\u001b[0m             )\n\u001b[0;32m--> 172\u001b[0;31m         \u001b[0;32mraise\u001b[0m \u001b[0mValueError\u001b[0m\u001b[0;34m(\u001b[0m\u001b[0mmsg_err\u001b[0m\u001b[0;34m)\u001b[0m\u001b[0;34m\u001b[0m\u001b[0;34m\u001b[0m\u001b[0m\n\u001b[0m\u001b[1;32m    173\u001b[0m \u001b[0;34m\u001b[0m\u001b[0m\n\u001b[1;32m    174\u001b[0m \u001b[0;34m\u001b[0m\u001b[0m\n",
            "\u001b[0;31mValueError\u001b[0m: Input contains NaN."
          ]
        }
      ],
      "source": [
        "\"\"\"from sklearn.utils.estimator_checks import parametrize_with_checks\n",
        "\n",
        "@parametrize_with_checks([MyDecisionTreeRegressor()])\n",
        "def test_my_estimator(estimator, check):\n",
        "    check(estimator)\"\"\"\n",
        "\n",
        "# check yourself\n",
        "from sklearn.utils.estimator_checks import check_estimator\n",
        "\n",
        "check_estimator(MyDecisionTreeRegressor())"
      ]
    },
    {
      "cell_type": "markdown",
      "metadata": {
        "id": "hCd7ExyXggNq"
      },
      "source": [
        "### Task 4 <a id=\"task4\"></a>  (0.5 points)\n",
        "\n",
        "Load boston dataset and split it on the train ($75\\%$) and test ($25\\%$). Fit Decision Tree of **depth 1 and 2** (root node has **depth 0**) and make the following plot for every case :\n",
        "\n",
        "- Scatter plot of the traning points for each splitted feature (selected for split feature on the x-axis, target variable on the y-axis). Show the resulting thresholds\n",
        "\n",
        "After that, fit analogical model from sklearn and visual it\n",
        "\n",
        "Compare `MAE` on train and test. Have trees overfitted?"
      ]
    },
    {
      "cell_type": "code",
      "execution_count": null,
      "metadata": {
        "ExecuteTime": {
          "end_time": "2024-11-19T16:18:29.395938Z",
          "start_time": "2024-11-19T16:18:29.353524Z"
        },
        "id": "MAJNj5bYggNq"
      },
      "outputs": [],
      "source": [
        "df = pd.read_csv('boston_house_prices.csv')\n",
        "df.head()"
      ]
    },
    {
      "cell_type": "code",
      "execution_count": null,
      "metadata": {
        "ExecuteTime": {
          "end_time": "2024-11-19T16:09:32.433252Z",
          "start_time": "2024-11-19T16:09:31.514421Z"
        },
        "id": "N7MKrlCOggNr"
      },
      "outputs": [],
      "source": [
        "# YOUR CODE HERE"
      ]
    },
    {
      "cell_type": "markdown",
      "metadata": {
        "id": "vnmf5Cv4ggNr"
      },
      "source": [
        "### Task 5 <a id=\"task5\"></a>  (0.5 points)\n",
        "\n",
        "Keep working with boston dataset.\n",
        "- Use `GridSearchCV` to find the best hyperparameters among [`max_depth`, `min_samples_leaf`] on 5-Fold cross-validation\n",
        "- Train the model with the best set of hyperparameters on the whole train dataset.\n",
        "- Report `MAE` on test dataset and hyperparameters of the best estimator."
      ]
    },
    {
      "cell_type": "code",
      "execution_count": null,
      "metadata": {
        "ExecuteTime": {
          "end_time": "2023-11-09T17:46:40.884202Z",
          "start_time": "2023-11-09T17:46:40.884125Z"
        },
        "id": "3WWrfvxyggNs"
      },
      "outputs": [],
      "source": [
        "# YOUR CODE HERE"
      ]
    },
    {
      "cell_type": "markdown",
      "metadata": {
        "id": "7I2_UZRrggNs"
      },
      "source": [
        "### Task 6 <a id=\"task6\"></a>  (2 points)\n",
        "\n",
        "Recall definition of bias and variance:\n",
        "$$\n",
        "\\text{Bias}^2 = \\mathbb{E}_{p(x, y)} \\left[  (f(x) - \\mathbb{E}_{\\mathbb{X}}a_{\\mathbb{X}}(x))^2 \\right] \\\\\n",
        "\\text{Variance} = \\mathbb{E}_{p(x, y)} \\left[  \\mathbb{V}_{\\mathbb{X}}( a_{\\mathbb{X}}(x))  \\right]\n",
        "$$\n",
        "\n",
        "We wil now use the following algorithm to estimate bias and variance:\n",
        "\n",
        "1. Use bootsrap to create `n_iter` samples from the original dataset: $X_1, \\dots, X_{n_iter}$\n",
        "2. For each bootstrapped sample define out-of-bag (OOB) sample $Z_1, \\dots, Z_{n_iter}$, which contain all the observations, which did not appear in the corresponding boostraped sample\n",
        "3. Fit the model on $X_i$s and compute predictions on $Z_i$s\n",
        "4. For a given *object* $n$:\n",
        "     - bias^2: squared difference between true value $y_n$ and average prediction (average over the algorithms, for which $n$ was in OOB)\n",
        "     - variance: variance of the prediction (predictions of the algorithms, for which $n$ was in OOB)\n",
        "5. Average bias^2 and variance over all the points\n",
        "    \n",
        "**Implement `get_bias_variance` function, using the algorithm above**\n",
        "\n",
        "*Note:*  You can only use 1 loop (for bootsrap iterations). All other operations should be vectorized."
      ]
    },
    {
      "cell_type": "code",
      "execution_count": null,
      "metadata": {
        "ExecuteTime": {
          "end_time": "2023-11-09T17:46:40.887222Z",
          "start_time": "2023-11-09T17:46:40.887195Z"
        },
        "id": "bv-S8ljNggNt"
      },
      "outputs": [],
      "source": [
        "def get_bias_variance(estimator, x, y, n_iter):\n",
        "    \"\"\"\n",
        "    Calculate bias and variance of the `estimator`.\n",
        "    Using a given dataset and bootstrap with `n_iter` samples.\n",
        "\n",
        "    Parameters\n",
        "    ----------\n",
        "    x : ndarray, shape (n_samples, n_features)\n",
        "        The input samples.\n",
        "    y : ndarray, shape (n_samples, n_features)\n",
        "        The input samples.\n",
        "    n_iter: int\n",
        "        Number of samples in\n",
        "    Returns\n",
        "    -------\n",
        "    bias2 : float,\n",
        "        Estiamted squared bias\n",
        "    variance : float,\n",
        "        Estiamted variance\n",
        "    \"\"\"\n",
        "\n",
        "    # YOUR CODE HERE"
      ]
    },
    {
      "cell_type": "code",
      "execution_count": null,
      "metadata": {
        "ExecuteTime": {
          "end_time": "2023-11-09T17:46:40.888721Z",
          "start_time": "2023-11-09T17:46:40.888706Z"
        },
        "id": "hBft6-v0ggNu"
      },
      "outputs": [],
      "source": [
        "# Test\n",
        "estimator = MyDecisionTreeRegressor(max_depth=8, min_samples_split=15)\n",
        "\n",
        "get_bias_variance(estimator, X_train.values, y_train, 10)"
      ]
    },
    {
      "cell_type": "markdown",
      "metadata": {
        "id": "Y5Vdzb6sggNv"
      },
      "source": [
        "### Task 7 <a id=\"task7\"></a>  (0.5 points)\n",
        "\n",
        "Compute bias and variance for the trees with different min_samples_split. Plot how bias and variance change as min_samples_split increases.\n",
        "\n",
        "Comment on what you observe, how does your result correspond to theory?"
      ]
    },
    {
      "cell_type": "code",
      "execution_count": null,
      "metadata": {
        "ExecuteTime": {
          "end_time": "2023-11-09T17:46:40.889695Z",
          "start_time": "2023-11-09T17:46:40.889683Z"
        },
        "id": "jXiVvbsBggNv"
      },
      "outputs": [],
      "source": [
        "# YOUR CODE HERE"
      ]
    },
    {
      "cell_type": "markdown",
      "metadata": {
        "id": "NY-F_9W4ggNv"
      },
      "source": [
        "``` your comments here```"
      ]
    },
    {
      "cell_type": "markdown",
      "metadata": {
        "id": "EboPl6PQggNw"
      },
      "source": [
        "### Task 8 <a id=\"task8\"></a>  (0.5 points)\n",
        "\n",
        "Let's try to reduce variance with bagging. Use `sklearn.ensemble.BaggingRegressor` to get an ensemble and compute its bias and variance.\n",
        "\n",
        "Answer the following questions:\n",
        " - How bagging should affect bias and variance in theory?\n",
        " - How bias and variance change (if they change) compared to an individual tree in you experiments?\n",
        " - Do your results align with the theory? Why?"
      ]
    },
    {
      "cell_type": "code",
      "execution_count": null,
      "metadata": {
        "ExecuteTime": {
          "end_time": "2023-11-09T17:46:40.891228Z",
          "start_time": "2023-11-09T17:46:40.891211Z"
        },
        "id": "rh2186p9ggNw"
      },
      "outputs": [],
      "source": [
        "from sklearn.ensemble import BaggingRegressor\n",
        "\n",
        "# YOUR CODE HERE"
      ]
    },
    {
      "cell_type": "markdown",
      "metadata": {
        "id": "Yb3-7MZpggNx"
      },
      "source": [
        "```your comments here```"
      ]
    },
    {
      "cell_type": "markdown",
      "metadata": {
        "id": "IlO1zcldggNx"
      },
      "source": [
        "# Part 2. More Ensembles"
      ]
    },
    {
      "cell_type": "markdown",
      "metadata": {
        "id": "YvNF3jD3ggNx"
      },
      "source": [
        "In this part we will be working with [Billionaires Statistics Dataset](https://www.kaggle.com/datasets/nelgiriyewithana/billionaires-statistics-dataset) to solve a classification task."
      ]
    },
    {
      "cell_type": "code",
      "execution_count": 11,
      "metadata": {
        "ExecuteTime": {
          "end_time": "2024-11-13T21:46:27.145107Z",
          "start_time": "2024-11-13T21:46:27.101156Z"
        },
        "id": "KzWqg_FwggNy",
        "colab": {
          "base_uri": "https://localhost:8080/",
          "height": 359
        },
        "outputId": "29f366ec-7a9e-4a79-c601-14f86f3ce7d7"
      },
      "outputs": [
        {
          "output_type": "execute_result",
          "data": {
            "text/plain": [
              "   rank  finalWorth               category                personName   age  \\\n",
              "0     1      211000       Fashion & Retail  Bernard Arnault & family  74.0   \n",
              "1     2      180000             Automotive                 Elon Musk  51.0   \n",
              "2     3      114000             Technology                Jeff Bezos  59.0   \n",
              "3     4      107000             Technology             Larry Ellison  78.0   \n",
              "4     5      106000  Finance & Investments            Warren Buffett  92.0   \n",
              "\n",
              "         country    city              source             industries  \\\n",
              "0         France   Paris                LVMH       Fashion & Retail   \n",
              "1  United States  Austin       Tesla, SpaceX             Automotive   \n",
              "2  United States  Medina              Amazon             Technology   \n",
              "3  United States   Lanai              Oracle             Technology   \n",
              "4  United States   Omaha  Berkshire Hathaway  Finance & Investments   \n",
              "\n",
              "  countryOfCitizenship  ... cpi_change_country           gdp_country  \\\n",
              "0               France  ...                1.1   $2,715,518,274,227    \n",
              "1        United States  ...                7.5  $21,427,700,000,000    \n",
              "2        United States  ...                7.5  $21,427,700,000,000    \n",
              "3        United States  ...                7.5  $21,427,700,000,000    \n",
              "4        United States  ...                7.5  $21,427,700,000,000    \n",
              "\n",
              "  gross_tertiary_education_enrollment  \\\n",
              "0                                65.6   \n",
              "1                                88.2   \n",
              "2                                88.2   \n",
              "3                                88.2   \n",
              "4                                88.2   \n",
              "\n",
              "  gross_primary_education_enrollment_country life_expectancy_country  \\\n",
              "0                                      102.5                    82.5   \n",
              "1                                      101.8                    78.5   \n",
              "2                                      101.8                    78.5   \n",
              "3                                      101.8                    78.5   \n",
              "4                                      101.8                    78.5   \n",
              "\n",
              "  tax_revenue_country_country total_tax_rate_country population_country  \\\n",
              "0                        24.2                   60.7         67059887.0   \n",
              "1                         9.6                   36.6        328239523.0   \n",
              "2                         9.6                   36.6        328239523.0   \n",
              "3                         9.6                   36.6        328239523.0   \n",
              "4                         9.6                   36.6        328239523.0   \n",
              "\n",
              "  latitude_country longitude_country  \n",
              "0        46.227638          2.213749  \n",
              "1        37.090240        -95.712891  \n",
              "2        37.090240        -95.712891  \n",
              "3        37.090240        -95.712891  \n",
              "4        37.090240        -95.712891  \n",
              "\n",
              "[5 rows x 34 columns]"
            ],
            "text/html": [
              "\n",
              "  <div id=\"df-036d9910-34fa-407d-a5a4-1607c5165881\" class=\"colab-df-container\">\n",
              "    <div>\n",
              "<style scoped>\n",
              "    .dataframe tbody tr th:only-of-type {\n",
              "        vertical-align: middle;\n",
              "    }\n",
              "\n",
              "    .dataframe tbody tr th {\n",
              "        vertical-align: top;\n",
              "    }\n",
              "\n",
              "    .dataframe thead th {\n",
              "        text-align: right;\n",
              "    }\n",
              "</style>\n",
              "<table border=\"1\" class=\"dataframe\">\n",
              "  <thead>\n",
              "    <tr style=\"text-align: right;\">\n",
              "      <th></th>\n",
              "      <th>rank</th>\n",
              "      <th>finalWorth</th>\n",
              "      <th>category</th>\n",
              "      <th>personName</th>\n",
              "      <th>age</th>\n",
              "      <th>country</th>\n",
              "      <th>city</th>\n",
              "      <th>source</th>\n",
              "      <th>industries</th>\n",
              "      <th>countryOfCitizenship</th>\n",
              "      <th>...</th>\n",
              "      <th>cpi_change_country</th>\n",
              "      <th>gdp_country</th>\n",
              "      <th>gross_tertiary_education_enrollment</th>\n",
              "      <th>gross_primary_education_enrollment_country</th>\n",
              "      <th>life_expectancy_country</th>\n",
              "      <th>tax_revenue_country_country</th>\n",
              "      <th>total_tax_rate_country</th>\n",
              "      <th>population_country</th>\n",
              "      <th>latitude_country</th>\n",
              "      <th>longitude_country</th>\n",
              "    </tr>\n",
              "  </thead>\n",
              "  <tbody>\n",
              "    <tr>\n",
              "      <th>0</th>\n",
              "      <td>1</td>\n",
              "      <td>211000</td>\n",
              "      <td>Fashion &amp; Retail</td>\n",
              "      <td>Bernard Arnault &amp; family</td>\n",
              "      <td>74.0</td>\n",
              "      <td>France</td>\n",
              "      <td>Paris</td>\n",
              "      <td>LVMH</td>\n",
              "      <td>Fashion &amp; Retail</td>\n",
              "      <td>France</td>\n",
              "      <td>...</td>\n",
              "      <td>1.1</td>\n",
              "      <td>$2,715,518,274,227</td>\n",
              "      <td>65.6</td>\n",
              "      <td>102.5</td>\n",
              "      <td>82.5</td>\n",
              "      <td>24.2</td>\n",
              "      <td>60.7</td>\n",
              "      <td>67059887.0</td>\n",
              "      <td>46.227638</td>\n",
              "      <td>2.213749</td>\n",
              "    </tr>\n",
              "    <tr>\n",
              "      <th>1</th>\n",
              "      <td>2</td>\n",
              "      <td>180000</td>\n",
              "      <td>Automotive</td>\n",
              "      <td>Elon Musk</td>\n",
              "      <td>51.0</td>\n",
              "      <td>United States</td>\n",
              "      <td>Austin</td>\n",
              "      <td>Tesla, SpaceX</td>\n",
              "      <td>Automotive</td>\n",
              "      <td>United States</td>\n",
              "      <td>...</td>\n",
              "      <td>7.5</td>\n",
              "      <td>$21,427,700,000,000</td>\n",
              "      <td>88.2</td>\n",
              "      <td>101.8</td>\n",
              "      <td>78.5</td>\n",
              "      <td>9.6</td>\n",
              "      <td>36.6</td>\n",
              "      <td>328239523.0</td>\n",
              "      <td>37.090240</td>\n",
              "      <td>-95.712891</td>\n",
              "    </tr>\n",
              "    <tr>\n",
              "      <th>2</th>\n",
              "      <td>3</td>\n",
              "      <td>114000</td>\n",
              "      <td>Technology</td>\n",
              "      <td>Jeff Bezos</td>\n",
              "      <td>59.0</td>\n",
              "      <td>United States</td>\n",
              "      <td>Medina</td>\n",
              "      <td>Amazon</td>\n",
              "      <td>Technology</td>\n",
              "      <td>United States</td>\n",
              "      <td>...</td>\n",
              "      <td>7.5</td>\n",
              "      <td>$21,427,700,000,000</td>\n",
              "      <td>88.2</td>\n",
              "      <td>101.8</td>\n",
              "      <td>78.5</td>\n",
              "      <td>9.6</td>\n",
              "      <td>36.6</td>\n",
              "      <td>328239523.0</td>\n",
              "      <td>37.090240</td>\n",
              "      <td>-95.712891</td>\n",
              "    </tr>\n",
              "    <tr>\n",
              "      <th>3</th>\n",
              "      <td>4</td>\n",
              "      <td>107000</td>\n",
              "      <td>Technology</td>\n",
              "      <td>Larry Ellison</td>\n",
              "      <td>78.0</td>\n",
              "      <td>United States</td>\n",
              "      <td>Lanai</td>\n",
              "      <td>Oracle</td>\n",
              "      <td>Technology</td>\n",
              "      <td>United States</td>\n",
              "      <td>...</td>\n",
              "      <td>7.5</td>\n",
              "      <td>$21,427,700,000,000</td>\n",
              "      <td>88.2</td>\n",
              "      <td>101.8</td>\n",
              "      <td>78.5</td>\n",
              "      <td>9.6</td>\n",
              "      <td>36.6</td>\n",
              "      <td>328239523.0</td>\n",
              "      <td>37.090240</td>\n",
              "      <td>-95.712891</td>\n",
              "    </tr>\n",
              "    <tr>\n",
              "      <th>4</th>\n",
              "      <td>5</td>\n",
              "      <td>106000</td>\n",
              "      <td>Finance &amp; Investments</td>\n",
              "      <td>Warren Buffett</td>\n",
              "      <td>92.0</td>\n",
              "      <td>United States</td>\n",
              "      <td>Omaha</td>\n",
              "      <td>Berkshire Hathaway</td>\n",
              "      <td>Finance &amp; Investments</td>\n",
              "      <td>United States</td>\n",
              "      <td>...</td>\n",
              "      <td>7.5</td>\n",
              "      <td>$21,427,700,000,000</td>\n",
              "      <td>88.2</td>\n",
              "      <td>101.8</td>\n",
              "      <td>78.5</td>\n",
              "      <td>9.6</td>\n",
              "      <td>36.6</td>\n",
              "      <td>328239523.0</td>\n",
              "      <td>37.090240</td>\n",
              "      <td>-95.712891</td>\n",
              "    </tr>\n",
              "  </tbody>\n",
              "</table>\n",
              "<p>5 rows × 34 columns</p>\n",
              "</div>\n",
              "    <div class=\"colab-df-buttons\">\n",
              "\n",
              "  <div class=\"colab-df-container\">\n",
              "    <button class=\"colab-df-convert\" onclick=\"convertToInteractive('df-036d9910-34fa-407d-a5a4-1607c5165881')\"\n",
              "            title=\"Convert this dataframe to an interactive table.\"\n",
              "            style=\"display:none;\">\n",
              "\n",
              "  <svg xmlns=\"http://www.w3.org/2000/svg\" height=\"24px\" viewBox=\"0 -960 960 960\">\n",
              "    <path d=\"M120-120v-720h720v720H120Zm60-500h600v-160H180v160Zm220 220h160v-160H400v160Zm0 220h160v-160H400v160ZM180-400h160v-160H180v160Zm440 0h160v-160H620v160ZM180-180h160v-160H180v160Zm440 0h160v-160H620v160Z\"/>\n",
              "  </svg>\n",
              "    </button>\n",
              "\n",
              "  <style>\n",
              "    .colab-df-container {\n",
              "      display:flex;\n",
              "      gap: 12px;\n",
              "    }\n",
              "\n",
              "    .colab-df-convert {\n",
              "      background-color: #E8F0FE;\n",
              "      border: none;\n",
              "      border-radius: 50%;\n",
              "      cursor: pointer;\n",
              "      display: none;\n",
              "      fill: #1967D2;\n",
              "      height: 32px;\n",
              "      padding: 0 0 0 0;\n",
              "      width: 32px;\n",
              "    }\n",
              "\n",
              "    .colab-df-convert:hover {\n",
              "      background-color: #E2EBFA;\n",
              "      box-shadow: 0px 1px 2px rgba(60, 64, 67, 0.3), 0px 1px 3px 1px rgba(60, 64, 67, 0.15);\n",
              "      fill: #174EA6;\n",
              "    }\n",
              "\n",
              "    .colab-df-buttons div {\n",
              "      margin-bottom: 4px;\n",
              "    }\n",
              "\n",
              "    [theme=dark] .colab-df-convert {\n",
              "      background-color: #3B4455;\n",
              "      fill: #D2E3FC;\n",
              "    }\n",
              "\n",
              "    [theme=dark] .colab-df-convert:hover {\n",
              "      background-color: #434B5C;\n",
              "      box-shadow: 0px 1px 3px 1px rgba(0, 0, 0, 0.15);\n",
              "      filter: drop-shadow(0px 1px 2px rgba(0, 0, 0, 0.3));\n",
              "      fill: #FFFFFF;\n",
              "    }\n",
              "  </style>\n",
              "\n",
              "    <script>\n",
              "      const buttonEl =\n",
              "        document.querySelector('#df-036d9910-34fa-407d-a5a4-1607c5165881 button.colab-df-convert');\n",
              "      buttonEl.style.display =\n",
              "        google.colab.kernel.accessAllowed ? 'block' : 'none';\n",
              "\n",
              "      async function convertToInteractive(key) {\n",
              "        const element = document.querySelector('#df-036d9910-34fa-407d-a5a4-1607c5165881');\n",
              "        const dataTable =\n",
              "          await google.colab.kernel.invokeFunction('convertToInteractive',\n",
              "                                                    [key], {});\n",
              "        if (!dataTable) return;\n",
              "\n",
              "        const docLinkHtml = 'Like what you see? Visit the ' +\n",
              "          '<a target=\"_blank\" href=https://colab.research.google.com/notebooks/data_table.ipynb>data table notebook</a>'\n",
              "          + ' to learn more about interactive tables.';\n",
              "        element.innerHTML = '';\n",
              "        dataTable['output_type'] = 'display_data';\n",
              "        await google.colab.output.renderOutput(dataTable, element);\n",
              "        const docLink = document.createElement('div');\n",
              "        docLink.innerHTML = docLinkHtml;\n",
              "        element.appendChild(docLink);\n",
              "      }\n",
              "    </script>\n",
              "  </div>\n",
              "\n",
              "\n",
              "<div id=\"df-a5db4ae7-f031-4b70-9c2a-924677f27c34\">\n",
              "  <button class=\"colab-df-quickchart\" onclick=\"quickchart('df-a5db4ae7-f031-4b70-9c2a-924677f27c34')\"\n",
              "            title=\"Suggest charts\"\n",
              "            style=\"display:none;\">\n",
              "\n",
              "<svg xmlns=\"http://www.w3.org/2000/svg\" height=\"24px\"viewBox=\"0 0 24 24\"\n",
              "     width=\"24px\">\n",
              "    <g>\n",
              "        <path d=\"M19 3H5c-1.1 0-2 .9-2 2v14c0 1.1.9 2 2 2h14c1.1 0 2-.9 2-2V5c0-1.1-.9-2-2-2zM9 17H7v-7h2v7zm4 0h-2V7h2v10zm4 0h-2v-4h2v4z\"/>\n",
              "    </g>\n",
              "</svg>\n",
              "  </button>\n",
              "\n",
              "<style>\n",
              "  .colab-df-quickchart {\n",
              "      --bg-color: #E8F0FE;\n",
              "      --fill-color: #1967D2;\n",
              "      --hover-bg-color: #E2EBFA;\n",
              "      --hover-fill-color: #174EA6;\n",
              "      --disabled-fill-color: #AAA;\n",
              "      --disabled-bg-color: #DDD;\n",
              "  }\n",
              "\n",
              "  [theme=dark] .colab-df-quickchart {\n",
              "      --bg-color: #3B4455;\n",
              "      --fill-color: #D2E3FC;\n",
              "      --hover-bg-color: #434B5C;\n",
              "      --hover-fill-color: #FFFFFF;\n",
              "      --disabled-bg-color: #3B4455;\n",
              "      --disabled-fill-color: #666;\n",
              "  }\n",
              "\n",
              "  .colab-df-quickchart {\n",
              "    background-color: var(--bg-color);\n",
              "    border: none;\n",
              "    border-radius: 50%;\n",
              "    cursor: pointer;\n",
              "    display: none;\n",
              "    fill: var(--fill-color);\n",
              "    height: 32px;\n",
              "    padding: 0;\n",
              "    width: 32px;\n",
              "  }\n",
              "\n",
              "  .colab-df-quickchart:hover {\n",
              "    background-color: var(--hover-bg-color);\n",
              "    box-shadow: 0 1px 2px rgba(60, 64, 67, 0.3), 0 1px 3px 1px rgba(60, 64, 67, 0.15);\n",
              "    fill: var(--button-hover-fill-color);\n",
              "  }\n",
              "\n",
              "  .colab-df-quickchart-complete:disabled,\n",
              "  .colab-df-quickchart-complete:disabled:hover {\n",
              "    background-color: var(--disabled-bg-color);\n",
              "    fill: var(--disabled-fill-color);\n",
              "    box-shadow: none;\n",
              "  }\n",
              "\n",
              "  .colab-df-spinner {\n",
              "    border: 2px solid var(--fill-color);\n",
              "    border-color: transparent;\n",
              "    border-bottom-color: var(--fill-color);\n",
              "    animation:\n",
              "      spin 1s steps(1) infinite;\n",
              "  }\n",
              "\n",
              "  @keyframes spin {\n",
              "    0% {\n",
              "      border-color: transparent;\n",
              "      border-bottom-color: var(--fill-color);\n",
              "      border-left-color: var(--fill-color);\n",
              "    }\n",
              "    20% {\n",
              "      border-color: transparent;\n",
              "      border-left-color: var(--fill-color);\n",
              "      border-top-color: var(--fill-color);\n",
              "    }\n",
              "    30% {\n",
              "      border-color: transparent;\n",
              "      border-left-color: var(--fill-color);\n",
              "      border-top-color: var(--fill-color);\n",
              "      border-right-color: var(--fill-color);\n",
              "    }\n",
              "    40% {\n",
              "      border-color: transparent;\n",
              "      border-right-color: var(--fill-color);\n",
              "      border-top-color: var(--fill-color);\n",
              "    }\n",
              "    60% {\n",
              "      border-color: transparent;\n",
              "      border-right-color: var(--fill-color);\n",
              "    }\n",
              "    80% {\n",
              "      border-color: transparent;\n",
              "      border-right-color: var(--fill-color);\n",
              "      border-bottom-color: var(--fill-color);\n",
              "    }\n",
              "    90% {\n",
              "      border-color: transparent;\n",
              "      border-bottom-color: var(--fill-color);\n",
              "    }\n",
              "  }\n",
              "</style>\n",
              "\n",
              "  <script>\n",
              "    async function quickchart(key) {\n",
              "      const quickchartButtonEl =\n",
              "        document.querySelector('#' + key + ' button');\n",
              "      quickchartButtonEl.disabled = true;  // To prevent multiple clicks.\n",
              "      quickchartButtonEl.classList.add('colab-df-spinner');\n",
              "      try {\n",
              "        const charts = await google.colab.kernel.invokeFunction(\n",
              "            'suggestCharts', [key], {});\n",
              "      } catch (error) {\n",
              "        console.error('Error during call to suggestCharts:', error);\n",
              "      }\n",
              "      quickchartButtonEl.classList.remove('colab-df-spinner');\n",
              "      quickchartButtonEl.classList.add('colab-df-quickchart-complete');\n",
              "    }\n",
              "    (() => {\n",
              "      let quickchartButtonEl =\n",
              "        document.querySelector('#df-a5db4ae7-f031-4b70-9c2a-924677f27c34 button');\n",
              "      quickchartButtonEl.style.display =\n",
              "        google.colab.kernel.accessAllowed ? 'block' : 'none';\n",
              "    })();\n",
              "  </script>\n",
              "</div>\n",
              "    </div>\n",
              "  </div>\n"
            ],
            "application/vnd.google.colaboratory.intrinsic+json": {
              "type": "dataframe",
              "variable_name": "X"
            }
          },
          "metadata": {},
          "execution_count": 11
        }
      ],
      "source": [
        "from sklearn.preprocessing import LabelEncoder\n",
        "\n",
        "df = pd.read_csv('Billionaires Statistics Dataset.csv')\n",
        "\n",
        "le = LabelEncoder()\n",
        "y = le.fit_transform(df['selfMade'])\n",
        "X = df.drop('selfMade', axis=1)\n",
        "X.head(5)"
      ]
    },
    {
      "cell_type": "markdown",
      "metadata": {
        "id": "5SakH-ymggNz"
      },
      "source": [
        "### Task 1 <a id=\"task2_1\"></a> (1 point)\n",
        "\n",
        "Let's start with data preprocessing.\n",
        "\n",
        "0. Drop columns, which are not usefull (e.g. a lot of missing values). Motivate your choice.\n",
        "1. Split dataset into train and test\n",
        "2. You've probably noticed that we have both categorical and numerical columns. Here is what you need to do with them:\n",
        "    - Categorical: Fill missing values and apply one-hot-encoding (if there are more than 10 unique values in a column, use `min_frequency` and/or `max_categories` parameter)\n",
        "    - Numeric: Fill missing values\n",
        "    \n",
        "Use `ColumnTranformer` to define a single transformer for all the columns in the dataset. It takes as input a list of tuples\n",
        "\n",
        "```\n",
        "ColumnTransformer([\n",
        "    ('name1', transform1, column_names1),\n",
        "    ('name2', transform2, column_names2)\n",
        "])\n",
        "```\n",
        "\n",
        "Pay attention to an argument `remainder='passthrough'`. [Here](https://scikit-learn.org/stable/modules/compose.html#column-transformer) you can find some examples of how to use column transformer.\n",
        "    \n",
        "Since we want to apply 2 transformations to categorical feature, it is very convenient to combine them into a `Pipeline`:\n",
        "\n",
        "```\n",
        "double_tranform = make_pipeline(\n",
        "                        transform_1,\n",
        "                        transform_2\n",
        "                        )\n",
        "```\n",
        "\n",
        "P.S. Choose your favourite way to fill missing values.\n",
        "\n",
        "*Hint* Categorical column usually have `dtype = 'object'`. This may help to obtain list of categorical and numerical columns on the dataset."
      ]
    },
    {
      "cell_type": "code",
      "execution_count": 12,
      "metadata": {
        "id": "m1-nK5qjggN0",
        "colab": {
          "base_uri": "https://localhost:8080/"
        },
        "outputId": "56d95000-8ba6-4938-e98a-ee1e7937307d"
      },
      "outputs": [
        {
          "output_type": "execute_result",
          "data": {
            "text/plain": [
              "['organization', 'title', 'state', 'residenceStateRegion']"
            ]
          },
          "metadata": {},
          "execution_count": 12
        }
      ],
      "source": [
        "from sklearn.pipeline import make_pipeline\n",
        "from sklearn.compose import ColumnTransformer\n",
        "from sklearn.preprocessing import OneHotEncoder\n",
        "from sklearn.impute import SimpleImputer\n",
        "\n",
        "\n",
        "threshold = 0.5\n",
        "missing_col = [col for col in X.columns if X[col].isnull().mean() > threshold]\n",
        "X = X.drop(columns=missing_col)\n",
        "missing_col\n"
      ]
    },
    {
      "cell_type": "code",
      "source": [
        "from sklearn.model_selection import train_test_split\n",
        "\n",
        "X_train, X_test, y_train, y_test = train_test_split(X, y, test_size = 0.2, random_state = 42)"
      ],
      "metadata": {
        "id": "UIfpUf-r9q0d"
      },
      "execution_count": 13,
      "outputs": []
    },
    {
      "cell_type": "code",
      "source": [
        "categorical_cols = X.select_dtypes(include=['object']).columns\n",
        "numeric_cols = X.select_dtypes(include=['number']).columns"
      ],
      "metadata": {
        "id": "MUjdYwTo9q4u"
      },
      "execution_count": 14,
      "outputs": []
    },
    {
      "cell_type": "code",
      "source": [
        "cat_transformer = make_pipeline(\n",
        "    SimpleImputer(strategy='most_frequent'),\n",
        "    OneHotEncoder(handle_unknown='ignore', min_frequency=0.01, max_categories=10)\n",
        ")\n",
        "\n",
        "num_transformer = make_pipeline(\n",
        "    SimpleImputer(strategy='mean')\n",
        ")"
      ],
      "metadata": {
        "id": "RmuoIFaN9UNN"
      },
      "execution_count": 15,
      "outputs": []
    },
    {
      "cell_type": "code",
      "source": [
        "column_transformer = ColumnTransformer(\n",
        "    transformers=[\n",
        "        ('cat', cat_transformer, categorical_cols),\n",
        "        ('num', num_transformer, numeric_cols)\n",
        "    ],\n",
        "    remainder='passthrough'\n",
        ")\n"
      ],
      "metadata": {
        "id": "XhVTLa1ZEurv"
      },
      "execution_count": 16,
      "outputs": []
    },
    {
      "cell_type": "code",
      "source": [
        "# Transform the data\n",
        "X_train = column_transformer.fit_transform(X_train)\n",
        "X_test = column_transformer.transform(X_test)"
      ],
      "metadata": {
        "id": "z9xTPqkd9OC8"
      },
      "execution_count": 17,
      "outputs": []
    },
    {
      "cell_type": "markdown",
      "metadata": {
        "id": "lw_nJDghggN0"
      },
      "source": [
        "### Task 2 <a id=\"task2_2\"></a> (0.7 points)\n",
        "\n",
        "Fit and compare 5 different models (use sklearn): Gradient Boosting, Random Forest, Decision Tree, SVM, Logitics Regression\n",
        "    \n",
        "* Choose one classification metric and justify your choice .\n",
        "* Compare the models using score on cross validation. Mind the class balance when choosing the cross validation. (You can read more about different CV strategies [here](https://scikit-learn.org/stable/modules/cross_validation.html#stratified-k-fold))\n",
        "* Which model has the best performance? Which models overfit or underfit?"
      ]
    },
    {
      "cell_type": "code",
      "source": [
        "from sklearn.metrics import accuracy_score, precision_score, recall_score, f1_score, confusion_matrix\n",
        "\n",
        "def show_score(y_true, y_pred):\n",
        "    print(\"Accuracy:\", accuracy_score(y_true, y_pred))\n",
        "    print(\"Precision:\", precision_score(y_true, y_pred))\n",
        "    print(\"Recall:\", recall_score(y_true, y_pred))\n",
        "    print(\"F1 Score:\", f1_score(y_true, y_pred))\n",
        "    print(\"Confusion Matrix:\\n\", confusion_matrix(y_true, y_pred))"
      ],
      "metadata": {
        "id": "cjycmcwdPucU"
      },
      "execution_count": 18,
      "outputs": []
    },
    {
      "cell_type": "code",
      "execution_count": 19,
      "metadata": {
        "id": "n3ZkiY8HggN1",
        "colab": {
          "base_uri": "https://localhost:8080/"
        },
        "outputId": "e133410c-40da-4624-c5c2-7cd46e9b2b5b"
      },
      "outputs": [
        {
          "output_type": "stream",
          "name": "stdout",
          "text": [
            "Accuracy: 0.8049242424242424\n",
            "Precision: 0.8295165394402035\n",
            "Recall: 0.9005524861878453\n",
            "F1 Score: 0.8635761589403973\n",
            "Confusion Matrix:\n",
            " [[ 99  67]\n",
            " [ 36 326]]\n"
          ]
        }
      ],
      "source": [
        "from sklearn.ensemble import GradientBoostingClassifier\n",
        "\n",
        "gb_model = GradientBoostingClassifier(n_estimators=100, learning_rate=0.1, max_depth=3, random_state=42)\n",
        "\n",
        "gb_model.fit(X_train, y_train)\n",
        "\n",
        "gb_pred = gb_model.predict(X_test)\n",
        "\n",
        "show_score(y_test, gb_pred)"
      ]
    },
    {
      "cell_type": "code",
      "source": [
        "from sklearn.model_selection import cross_val_score\n",
        "gb_scores = cross_val_score(gb_model, X_train, y_train, cv=5)\n",
        "print(\"Средняя точность у GradientBoosting:\", gb_scores.mean())"
      ],
      "metadata": {
        "colab": {
          "base_uri": "https://localhost:8080/"
        },
        "id": "Rzi2-SETIeEu",
        "outputId": "4896a4b5-2bc0-4400-fffb-27e0a4708cae"
      },
      "execution_count": 20,
      "outputs": [
        {
          "output_type": "stream",
          "name": "stdout",
          "text": [
            "Средняя точность у GradientBoosting: 0.7869248092501093\n"
          ]
        }
      ]
    },
    {
      "cell_type": "code",
      "source": [
        "from sklearn.ensemble import RandomForestClassifier\n",
        "\n",
        "rf_model = RandomForestClassifier(n_estimators=100, max_depth=None, random_state=42)\n",
        "\n",
        "rf_model.fit(X_train, y_train)\n",
        "\n",
        "rf_pred = rf_model.predict(X_test)\n",
        "\n",
        "show_score(y_test, rf_pred)"
      ],
      "metadata": {
        "colab": {
          "base_uri": "https://localhost:8080/"
        },
        "id": "fXC49IKFLEK-",
        "outputId": "3dd03868-b627-4125-cc7f-a521c9480868"
      },
      "execution_count": 21,
      "outputs": [
        {
          "output_type": "stream",
          "name": "stdout",
          "text": [
            "Accuracy: 0.8011363636363636\n",
            "Precision: 0.8204488778054863\n",
            "Recall: 0.9088397790055248\n",
            "F1 Score: 0.8623853211009175\n",
            "Confusion Matrix:\n",
            " [[ 94  72]\n",
            " [ 33 329]]\n"
          ]
        }
      ]
    },
    {
      "cell_type": "code",
      "source": [
        "rf_scores = cross_val_score(rf_model, X_train, y_train, cv=5)\n",
        "print(\"Средняя точность у RandomForest:\", rf_scores.mean())"
      ],
      "metadata": {
        "colab": {
          "base_uri": "https://localhost:8080/"
        },
        "id": "deqGQPUrLEPT",
        "outputId": "32fa0cc7-2fc0-4973-81b0-c0b4ef4b9c2b"
      },
      "execution_count": 22,
      "outputs": [
        {
          "output_type": "stream",
          "name": "stdout",
          "text": [
            "Средняя точность у RandomForest: 0.782195556451884\n"
          ]
        }
      ]
    },
    {
      "cell_type": "code",
      "source": [
        "from sklearn.tree import DecisionTreeClassifier\n",
        "\n",
        "dt_model = DecisionTreeClassifier(max_depth=3, random_state=42)\n",
        "\n",
        "dt_model.fit(X_train, y_train)\n",
        "\n",
        "dt_pred = dt_model.predict(X_test)\n",
        "\n",
        "show_score(y_test, dt_pred)"
      ],
      "metadata": {
        "colab": {
          "base_uri": "https://localhost:8080/"
        },
        "id": "4sE3nOH6MSyW",
        "outputId": "575d5d74-ba58-4a40-95ce-7277b4b3f66f"
      },
      "execution_count": 32,
      "outputs": [
        {
          "output_type": "stream",
          "name": "stdout",
          "text": [
            "Accuracy: 0.7443181818181818\n",
            "Precision: 0.7399577167019028\n",
            "Recall: 0.9668508287292817\n",
            "F1 Score: 0.8383233532934131\n",
            "Confusion Matrix:\n",
            " [[ 43 123]\n",
            " [ 12 350]]\n"
          ]
        }
      ]
    },
    {
      "cell_type": "code",
      "source": [
        "rf_scores = cross_val_score(rf_model, X_train, y_train, cv=5)\n",
        "print(\"Средняя точность у DecisionTree:\", rf_scores.mean())"
      ],
      "metadata": {
        "colab": {
          "base_uri": "https://localhost:8080/"
        },
        "id": "pv6DZmeWMS2F",
        "outputId": "623f674f-7130-4d24-e268-b6db41fec292"
      },
      "execution_count": 31,
      "outputs": [
        {
          "output_type": "stream",
          "name": "stdout",
          "text": [
            "Средняя точность у DecisionTree: 0.782195556451884\n"
          ]
        }
      ]
    },
    {
      "cell_type": "code",
      "source": [
        "from sklearn.svm import SVC\n",
        "\n",
        "svm_model = SVC(kernel='rbf', C=1.0, gamma='scale', random_state=42)\n",
        "\n",
        "svm_model.fit(X_train, y_train)\n",
        "\n",
        "svm_pred = svm_model.predict(X_test)\n",
        "\n",
        "show_score(y_test, svm_pred)"
      ],
      "metadata": {
        "id": "JGT8NS0VMS53",
        "colab": {
          "base_uri": "https://localhost:8080/"
        },
        "outputId": "348432c0-009a-4e58-87f9-217a843bc7f6"
      },
      "execution_count": 26,
      "outputs": [
        {
          "output_type": "stream",
          "name": "stdout",
          "text": [
            "Accuracy: 0.6856060606060606\n",
            "Precision: 0.6856060606060606\n",
            "Recall: 1.0\n",
            "F1 Score: 0.8134831460674158\n",
            "Confusion Matrix:\n",
            " [[  0 166]\n",
            " [  0 362]]\n"
          ]
        }
      ]
    },
    {
      "cell_type": "code",
      "source": [
        "svm_scores = cross_val_score(svm_model, X_train, y_train, cv=5)\n",
        "print(\"Средняя точность у DecisionTree:\", svm_scores.mean())"
      ],
      "metadata": {
        "id": "gS7XilXnMS9m",
        "colab": {
          "base_uri": "https://localhost:8080/"
        },
        "outputId": "78f94bdb-b959-48c9-a841-ee0e80122278"
      },
      "execution_count": 28,
      "outputs": [
        {
          "output_type": "stream",
          "name": "stdout",
          "text": [
            "Средняя точность у DecisionTree: 0.6865539533685142\n"
          ]
        }
      ]
    },
    {
      "cell_type": "code",
      "source": [
        "from sklearn.linear_model import LogisticRegression\n",
        "\n",
        "log_model = LogisticRegression(max_iter=1000, random_state=42)\n",
        "\n",
        "log_model.fit(X_train, y_train)\n",
        "\n",
        "log_pred = log_model.predict(X_test)\n",
        "\n",
        "show_score(y_test, log_pred)"
      ],
      "metadata": {
        "id": "Tkgt-EowMTBn",
        "colab": {
          "base_uri": "https://localhost:8080/"
        },
        "outputId": "caaeee4b-bafa-4b92-cf3b-e4de1f7f2903"
      },
      "execution_count": 33,
      "outputs": [
        {
          "output_type": "stream",
          "name": "stdout",
          "text": [
            "Accuracy: 0.6856060606060606\n",
            "Precision: 0.6856060606060606\n",
            "Recall: 1.0\n",
            "F1 Score: 0.8134831460674158\n",
            "Confusion Matrix:\n",
            " [[  0 166]\n",
            " [  0 362]]\n"
          ]
        }
      ]
    },
    {
      "cell_type": "code",
      "source": [
        "log_scores = cross_val_score(log_model, X_train, y_train, cv=5)\n",
        "print(\"Средняя точность у DecisionTree:\", log_scores.mean())"
      ],
      "metadata": {
        "colab": {
          "base_uri": "https://localhost:8080/"
        },
        "id": "_VTN7-aOmvkx",
        "outputId": "a8c3fcbe-cfa0-478f-cb20-cd8d18f866a9"
      },
      "execution_count": 34,
      "outputs": [
        {
          "output_type": "stream",
          "name": "stdout",
          "text": [
            "Средняя точность у DecisionTree: 0.6865539533685142\n"
          ]
        }
      ]
    },
    {
      "cell_type": "markdown",
      "metadata": {
        "id": "2T6uTwKlggN1"
      },
      "source": [
        "```your comments here```"
      ]
    },
    {
      "cell_type": "markdown",
      "metadata": {
        "id": "JQmmPO8mggN2"
      },
      "source": [
        "### Task 3 <a id=\"task2_3\"></a> (0.5 points)\n",
        "\n",
        "More Gradient Boosting. You will have to take one of the three popular boosting implementations (xgboost, lightgbm, catboost). Select hyperparameters (number of trees, learning rate, depth) on cross-validation and compare with the methods from the previous task."
      ]
    },
    {
      "cell_type": "code",
      "execution_count": null,
      "metadata": {
        "id": "VgdTOuntggN2"
      },
      "outputs": [],
      "source": [
        "# YOUR CODE HERE"
      ]
    },
    {
      "cell_type": "markdown",
      "metadata": {
        "id": "eCI4jJQGggN3"
      },
      "source": [
        "```your comments here```"
      ]
    },
    {
      "cell_type": "markdown",
      "metadata": {
        "id": "bAooafhRggN3"
      },
      "source": [
        "### Task 4 <a id=\"task2_4\"></a> (0.7 points)\n",
        "\n",
        "Now let's train more fancy ensembles:\n",
        "\n",
        "* Bagging with decision trees as base estimators\n",
        "* Bagging with gradient boosting (with large amount of trees, >100) as base estimators\n",
        "* [Voting classifier](https://scikit-learn.org/stable/modules/generated/sklearn.ensemble.VotingClassifier.html#sklearn.ensemble.VotingClassifier)\n",
        "* [Stacking Classifier](https://scikit-learn.org/stable/modules/generated/sklearn.ensemble.StackingClassifier.html#sklearn.ensemble.StackingClassifier) with Logistic Regression as a final model\n",
        "* [Stacking Classifier](https://scikit-learn.org/stable/modules/generated/sklearn.ensemble.StackingClassifier.html#sklearn.ensemble.StackingClassifier) with Gradeint Boosting as a final model\n",
        "\n",
        "\n",
        "If not stated in the task, feel free to tune / choose hyperparameters and base models.\n",
        "\n",
        "Answer the questions:\n",
        "* Which model has the best performance?\n",
        "* Does bagging reduce overfiting of the gradient boosting with large amount of trees?\n",
        "* What is the difference between voting and staking?"
      ]
    },
    {
      "cell_type": "code",
      "execution_count": null,
      "metadata": {
        "id": "N9qejdz-ggOD"
      },
      "outputs": [],
      "source": [
        "# YOUR CODE HERE"
      ]
    },
    {
      "cell_type": "markdown",
      "metadata": {
        "id": "rtbfPT24ggOD"
      },
      "source": [
        "```your comments here```"
      ]
    },
    {
      "cell_type": "markdown",
      "metadata": {
        "id": "Rx84kGPiggOE"
      },
      "source": [
        "### Task 5 <a id=\"task2_5\"></a> (0.1 points)\n",
        "\n",
        "Report the test score for the best model, that you were able to train."
      ]
    },
    {
      "cell_type": "code",
      "execution_count": null,
      "metadata": {
        "id": "XSmuo0XhggOE"
      },
      "outputs": [],
      "source": [
        "# YOUR CODE HERE"
      ]
    }
  ],
  "metadata": {
    "hide_input": false,
    "kernelspec": {
      "display_name": "Python 3 (ipykernel)",
      "language": "python",
      "name": "python3"
    },
    "language_info": {
      "codemirror_mode": {
        "name": "ipython",
        "version": 3
      },
      "file_extension": ".py",
      "mimetype": "text/x-python",
      "name": "python",
      "nbconvert_exporter": "python",
      "pygments_lexer": "ipython3",
      "version": "3.9.13"
    },
    "toc": {
      "base_numbering": 1,
      "nav_menu": {},
      "number_sections": true,
      "sideBar": true,
      "skip_h1_title": false,
      "title_cell": "Table of Contents",
      "title_sidebar": "Contents",
      "toc_cell": false,
      "toc_position": {},
      "toc_section_display": true,
      "toc_window_display": false
    },
    "colab": {
      "provenance": []
    }
  },
  "nbformat": 4,
  "nbformat_minor": 0
}