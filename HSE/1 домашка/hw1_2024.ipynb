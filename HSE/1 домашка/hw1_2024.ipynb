{
 "cells": [
  {
   "cell_type": "markdown",
   "metadata": {},
   "source": [
    "# HSE 2024: Mathematical Methods for Data Analysis\n",
    "\n",
    "## Homework 1"
   ]
  },
  {
   "cell_type": "markdown",
   "metadata": {},
   "source": [
    "### Attention!\n",
    "* For tasks where <ins>text answer</ins> is required **Russian language** is **allowed**.\n",
    "* If a task asks you to describe something (make coclusions) then **text answer** is **mandatory** and **is** part of the task\n",
    "* **Do not** upload the dataset (titanic.csv) to the grading system (we already have it)\n",
    "* We **only** accept **ipynb** notebooks. If you use Google Colab then you'll have to download the notebook before passing the homework\n",
    "* **Do not** use python loops instead of NumPy vector operations over NumPy vectors - it significantly decreases performance (see why https://blog.paperspace.com/numpy-optimization-vectorization-and-broadcasting/), will be punished with -0.25 for **every** task. \n",
    "Loops are only allowed in part 1 (Tasks 1 - 4). \n",
    "* Some tasks contain tests. They only test you solution on a simple example, thus, passing the test does **not** guarantee you the full grade for the task. "
   ]
  },
  {
   "cell_type": "code",
   "metadata": {
    "ExecuteTime": {
     "end_time": "2024-10-03T20:51:54.123130Z",
     "start_time": "2024-10-03T20:51:54.112307Z"
    }
   },
   "source": [
    "%matplotlib inline\n",
    "import numpy as np\n",
    "import pandas as pd\n",
    "import matplotlib.pyplot as plt\n",
    "import seaborn as sns"
   ],
   "execution_count": 46,
   "outputs": []
  },
  {
   "cell_type": "markdown",
   "metadata": {},
   "source": [
    "# 1. Python (2 points) "
   ]
  },
  {
   "cell_type": "markdown",
   "metadata": {},
   "source": [
    "**Task 1** (0.5 points)<br/> \n",
    "Enter nonzero numbers `a`,  `r` and `N`. Find the first `N` members of geometric progression with the first member `a` and factor `r`, without using formula for the product."
   ]
  },
  {
   "cell_type": "code",
   "metadata": {
    "ExecuteTime": {
     "end_time": "2024-10-03T20:51:54.759713Z",
     "start_time": "2024-10-03T20:51:54.746638Z"
    }
   },
   "source": [
    "def find_product(a,r,N):\n",
    "    arr_product = [a]\n",
    "    for i in range(1, N):\n",
    "        arr_product.append(arr_product[i - 1] * r)\n",
    "    return arr_product\n",
    "\n",
    "a = 2\n",
    "r = 3\n",
    "N = 3\n",
    "print(find_product(a,r,N))"
   ],
   "execution_count": 47,
   "outputs": []
  },
  {
   "cell_type": "markdown",
   "metadata": {},
   "source": [
    "**Task 2** (0.5 points) <br/> \n",
    "Enter an integer number `N`. Check if it is a palindrome number. It means that it can be read equally from left to right and from right to back. "
   ]
  },
  {
   "cell_type": "code",
   "metadata": {
    "ExecuteTime": {
     "end_time": "2024-10-03T20:51:54.839332Z",
     "start_time": "2024-10-03T20:51:54.829475Z"
    }
   },
   "source": [
    "def check_palindrome(N):\n",
    "    l = str(N)\n",
    "    return l == l[::-1]\n",
    "\n",
    "for N in [3, 81, 111, 113, 810, 2022, 4774, 51315, 611816]:\n",
    "    print(N, check_palindrome(N))"
   ],
   "execution_count": 48,
   "outputs": []
  },
  {
   "cell_type": "markdown",
   "metadata": {},
   "source": [
    "**Task 3** (0.5 points) <br/> \n",
    "Find the first `N` palindrome numbers starting from 1000 (you may use the function from the precious task)."
   ]
  },
  {
   "cell_type": "code",
   "metadata": {
    "ExecuteTime": {
     "end_time": "2024-10-03T20:51:54.984160Z",
     "start_time": "2024-10-03T20:51:54.969086Z"
    }
   },
   "source": [
    "def find_palindromes(N):\n",
    "    k = 1000\n",
    "    palindromes = []\n",
    "    while len(palindromes) < N:\n",
    "        if check_palindrome(k):\n",
    "            palindromes.append(k)\n",
    "        k += 1\n",
    "    return palindromes\n",
    "\n",
    "print(find_palindromes(5))\n",
    "print(find_palindromes(10))\n",
    "print(find_palindromes(20))"
   ],
   "execution_count": 49,
   "outputs": []
  },
  {
   "cell_type": "markdown",
   "metadata": {},
   "source": [
    "**Task 4** (0.5 points) <br/> \n",
    "There are numbers: `a`, `b`, `c`. Without using functions `min`, `max` and other functions, find the minimum number."
   ]
  },
  {
   "cell_type": "code",
   "metadata": {
    "ExecuteTime": {
     "end_time": "2024-10-03T20:51:55.046424Z",
     "start_time": "2024-10-03T20:51:55.031056Z"
    }
   },
   "source": [
    "from random import randint\n",
    "def find_min(a, b, c):\n",
    "    if a <= b and a <= c:\n",
    "        return a\n",
    "    if b <= a and b <= c:\n",
    "        return b\n",
    "    return c\n",
    "\n",
    "for i in range(10):\n",
    "    \n",
    "    a = randint(-100, 100)\n",
    "    b = randint(-100, 100)\n",
    "    c = randint(-100, 100)\n",
    "    \n",
    "    print(a, b, c, '\\tMinimum:', find_min(a, b, c))"
   ],
   "execution_count": 50,
   "outputs": []
  },
  {
   "cell_type": "markdown",
   "metadata": {},
   "source": [
    "# 2. Numpy (4 points)"
   ]
  },
  {
   "cell_type": "markdown",
   "metadata": {},
   "source": [
    "**Task 1** (0.5 points) <br/>\n",
    "Create a random array (`np.random.rand()`) with length of 17 and with sum of its elements equals to 6."
   ]
  },
  {
   "cell_type": "code",
   "metadata": {
    "ExecuteTime": {
     "end_time": "2024-10-03T20:51:55.178887Z",
     "start_time": "2024-10-03T20:51:55.166921Z"
    }
   },
   "source": [
    "rand_array = np.random.rand(17)\n",
    "\n",
    "my_array = rand_array * (6 / np.sum(rand_array))\n",
    "print(f'Length: {len(my_array)}')\n",
    "print(f'Sum of elements: {np.sum(my_array)}')"
   ],
   "execution_count": 51,
   "outputs": []
  },
  {
   "cell_type": "markdown",
   "metadata": {},
   "source": [
    "**Task 2** (0.5 points) <br/>\n",
    "Create two random arrays $a$ and $b$ with the same length. \n",
    "\n",
    "Calculate the following distances between the arrays **without using special funcrion. You may only use basic numpy operations (`np.linalg.*` and other high-level ones are prohibited).**:\n",
    "\n",
    "* Manhattan Distance\n",
    "$$ d(a, b) = \\sum_i |a_i - b_i| $$\n",
    "* Euclidean Distance\n",
    "$$ d(a, b) = \\sqrt{\\sum_i (a_i - b_i)^2} $$\n",
    "* Chebyshev Distance\n",
    "$$ d(a, b) = \\underset{i}{max} |a_i - b_i| $$\n",
    "* Cosine Distance\n",
    "$$ d(a, b) = 1 - \\frac{a^\\top b}{||a||_2\\cdot||b||_2} $$\n"
   ]
  },
  {
   "cell_type": "code",
   "metadata": {
    "ExecuteTime": {
     "end_time": "2024-10-03T20:51:55.286101Z",
     "start_time": "2024-10-03T20:51:55.270070Z"
    }
   },
   "source": [
    "def calculate_manhattan(a, b):    \n",
    "    distance = np.sum(np.abs(a - b))\n",
    "    return distance\n",
    "\n",
    "\n",
    "def calculate_euclidean(a, b):    \n",
    "    distance = np.sqrt(np.sum((a - b) ** 2))\n",
    "    return distance\n",
    "\n",
    "def calculate_chebyshev(a, b):    \n",
    "    distance = np.max(np.abs(a - b))\n",
    "    return distance\n",
    "\n",
    "def calculate_cosine(a, b):    \n",
    "    dot_product = np.sum(a * b)\n",
    "    norm_a = np.sqrt(np.sum(a ** 2))\n",
    "    norm_b = np.sqrt(np.sum(b ** 2))\n",
    "    distance = 1 - dot_product / (norm_a * norm_b)\n",
    "    return distance"
   ],
   "execution_count": 52,
   "outputs": []
  },
  {
   "cell_type": "code",
   "metadata": {
    "ExecuteTime": {
     "end_time": "2024-10-03T20:51:55.511553Z",
     "start_time": "2024-10-03T20:51:55.480838Z"
    }
   },
   "source": [
    "n = 10  \n",
    "a = np.random.rand(n)\n",
    "b = np.random.rand(n)\n",
    "print(f'Manhattan distance: {calculate_manhattan(a, b)}')\n",
    "print(f'Euclidean distance: {calculate_euclidean(a, b)}')\n",
    "print(f'Chebyshev distance: {calculate_chebyshev(a, b)}')\n",
    "print(f'Cosine distance: {calculate_cosine(a, b)}')"
   ],
   "execution_count": 53,
   "outputs": []
  },
  {
   "cell_type": "markdown",
   "metadata": {},
   "source": [
    "**Task 3** (0.5 points) <br/>\n",
    "Create a random array (`np.random.randint()`) with length of 76. Transform the array so that \n",
    "* Maximum element(s) value is -1\n",
    "* Minimum element(s) value is -4\n",
    "* Other values are in interval (-4; -1) with keeping the order"
   ]
  },
  {
   "cell_type": "code",
   "metadata": {
    "ExecuteTime": {
     "end_time": "2024-10-03T20:51:55.617380Z",
     "start_time": "2024-10-03T20:51:55.598619Z"
    }
   },
   "source": [
    "def transform(array):\n",
    "    minim = np.min(array)\n",
    "    maxim = np.max(array)\n",
    "    if minim >= 0:\n",
    "        array -= minim\n",
    "    else:\n",
    "        array += minim\n",
    "    array = array / (maxim - minim) * 3\n",
    "    array -= 1\n",
    "    # Изменяем макс и мин элементы списка на -1 и -4 для точности\n",
    "    array[array == np.max(array)] = -1\n",
    "    array[array == np.min(array)] = -4\n",
    "    return array"
   ],
   "execution_count": 54,
   "outputs": []
  },
  {
   "cell_type": "code",
   "metadata": {
    "ExecuteTime": {
     "end_time": "2024-10-03T20:51:55.704353Z",
     "start_time": "2024-10-03T20:51:55.692747Z"
    }
   },
   "source": [
    "a = -100\n",
    "b = 100\n",
    "my_array = np.random.randint(a, b, size=76)\n",
    "my_array = transform(my_array)\n",
    "print(f'Min: {np.min(my_array)}')\n",
    "print(f'Max: {np.max(my_array)}')\n",
    "print('Array:')\n",
    "print(my_array)"
   ],
   "execution_count": 55,
   "outputs": []
  },
  {
   "cell_type": "markdown",
   "metadata": {},
   "source": [
    "**Task 4** (0.5 points) <br/>\n",
    "Create an array with shape of $8 \\times 5$ with integers from [-7, 43]. Print a column that contains the maximum element of the array."
   ]
  },
  {
   "cell_type": "code",
   "metadata": {
    "ExecuteTime": {
     "end_time": "2024-10-03T20:51:55.859571Z",
     "start_time": "2024-10-03T20:51:55.840867Z"
    }
   },
   "source": [
    "my_array = np.random.randint(-7, 44, size=(8, 5))\n",
    "a = np.argmax(my_array)\n",
    "selected_column = a % 5\n",
    "print('Shape: ', my_array.shape)\n",
    "print('Array:')\n",
    "print(my_array)\n",
    "print('Наибольший элемент:', np.max(my_array))\n",
    "print('Если нумерация столбцов начинается с 1:')\n",
    "print(f'Selected column: {selected_column + 1}')"
   ],
   "execution_count": 56,
   "outputs": []
  },
  {
   "cell_type": "markdown",
   "metadata": {},
   "source": [
    "**Task 5** (0.5 points) <br/>\n",
    "\n",
    "Replace all missing values in the following array with median."
   ]
  },
  {
   "cell_type": "code",
   "metadata": {
    "ExecuteTime": {
     "end_time": "2024-10-03T20:51:55.931433Z",
     "start_time": "2024-10-03T20:51:55.914252Z"
    }
   },
   "source": [
    "arr = np.random.rand(10)\n",
    "idx = np.random.randint(0, 10, 4)\n",
    "arr[idx] = np.nan\n",
    "\n",
    "print('Array:')\n",
    "print(arr)"
   ],
   "execution_count": 57,
   "outputs": []
  },
  {
   "cell_type": "code",
   "metadata": {
    "ExecuteTime": {
     "end_time": "2024-10-03T20:51:56.098785Z",
     "start_time": "2024-10-03T20:51:56.089216Z"
    }
   },
   "source": [
    "def replace_missing(arr):\n",
    "    corr = arr[~np.isnan(arr)]\n",
    "    med = np.median(corr)\n",
    "    arr[np.isnan(arr)] = med\n",
    "    return arr"
   ],
   "execution_count": 58,
   "outputs": []
  },
  {
   "cell_type": "code",
   "metadata": {
    "ExecuteTime": {
     "end_time": "2024-10-03T20:51:56.178947Z",
     "start_time": "2024-10-03T20:51:56.169363Z"
    }
   },
   "source": [
    "arr = replace_missing(arr)\n",
    "print('Array with no missing values:')\n",
    "print(arr)"
   ],
   "execution_count": 59,
   "outputs": []
  },
  {
   "cell_type": "markdown",
   "metadata": {},
   "source": [
    "**Task 6** (0.5 points) <br/>\n",
    "Create a function which takes an image ```X``` (3D array of the shape (n, m, 3)) as an input and returns the mean for all 3 channels (a vector of shape 3)."
   ]
  },
  {
   "cell_type": "code",
   "metadata": {
    "ExecuteTime": {
     "end_time": "2024-10-03T20:51:56.271916Z",
     "start_time": "2024-10-03T20:51:56.262467Z"
    }
   },
   "source": [
    "def mean_channel(X):\n",
    "    mean_vector = np.mean(X, axis=(0, 1))\n",
    "    return mean_vector"
   ],
   "execution_count": 60,
   "outputs": []
  },
  {
   "cell_type": "code",
   "metadata": {
    "ExecuteTime": {
     "end_time": "2024-10-03T20:51:56.335503Z",
     "start_time": "2024-10-03T20:51:56.316951Z"
    }
   },
   "source": [
    "n = 19\n",
    "m = 23\n",
    "X =  np.random.randint(-11, 8, size=(n, m, 3))\n",
    "print(f'Vector of means: {mean_channel(X)}')"
   ],
   "execution_count": 61,
   "outputs": []
  },
  {
   "cell_type": "markdown",
   "metadata": {},
   "source": [
    "### **Task 7** (1 points) <br/>\n",
    "Create a function which takes a 3D matrix ```X``` as an input and returns all its unique vertical (first axis) layers.\n",
    "\n",
    "Sample input:\n",
    "\n",
    "     ([[[1, 2, 3],\n",
    "        [1, 2, 3],\n",
    "        [1, 2, 3]],\n",
    "\n",
    "       [[4, 5, 6],\n",
    "        [4, 5, 7]\n",
    "        [4, 5, 6]],\n",
    "\n",
    "       [[7, 8, 9],\n",
    "        [7, 8, 9]\n",
    "        [7, 8, 9]]])\n",
    "        \n",
    "Sample output:\n",
    "\n",
    "     ([[[1, 2, 3],\n",
    "        [1, 2, 3]],\n",
    "\n",
    "       [[4, 5, 6],\n",
    "        [4, 5, 7]],\n",
    "\n",
    "       [[7, 8, 9],\n",
    "        [7, 8, 9]]])"
   ]
  },
  {
   "cell_type": "code",
   "metadata": {
    "ExecuteTime": {
     "end_time": "2024-10-03T20:51:56.487287Z",
     "start_time": "2024-10-03T20:51:56.478390Z"
    }
   },
   "source": [
    "def get_unique_columns(X):\n",
    "    \n",
    "    # Use numpy's unique function along axis 0 (first axis)\n",
    "    unique_layers = np.unique(X, axis=0)\n",
    "    return X_unique"
   ],
   "execution_count": 62,
   "outputs": []
  },
  {
   "cell_type": "code",
   "metadata": {
    "ExecuteTime": {
     "end_time": "2024-10-03T20:51:56.622616Z",
     "start_time": "2024-10-03T20:51:56.541109Z"
    }
   },
   "source": [
    "X =  np.random.randint(4, 6, size=(n, 3, 3))\n",
    "print('Matrix:')\n",
    "print(X)\n",
    "print('Unique columns:')\n",
    "get_unique_columns(X)"
   ],
   "execution_count": 63,
   "outputs": []
  },
  {
   "cell_type": "markdown",
   "metadata": {},
   "source": [
    "# 3. Pandas & Visualization (4 points)\n"
   ]
  },
  {
   "cell_type": "markdown",
   "metadata": {},
   "source": [
    "You are going to work with *Titanic* dataset which contains information about passengers of Titanic:\n",
    "- **Survived** - 1 - survived, 0 - died (0); **Target variable**\n",
    "- **pclass** - passengers's class;\n",
    "- **sex** - passengers's sex\n",
    "- **Age** - passengers's age in years\n",
    "- **sibsp**    - is the passenger someones siblings   \n",
    "- **parch**    - is the passenger someones child or parent\n",
    "- **ticket** - ticket number    \n",
    "- **fare** - ticket price    \n",
    "- **cabin** - cabin number\n",
    "- **embarked** - port of Embarkation; C = Cherbourg, Q = Queenstown, S = Southampton\n",
    "\n",
    "**Note** for all visualizations use matplotlib or seaborn but NOT plotly! Plotly's graphics sometimes vanish after saving. In this case the task wont't be graded.\n",
    "\n",
    "**Note** support all your answers with necessary code, computations, vizualization, and explanation. Answers without code and explanation won't be graded.\n",
    "\n",
    "**Task 0** (0 points) \\\n",
    "Load the dataset and print first 5 rows"
   ]
  },
  {
   "cell_type": "code",
   "metadata": {
    "ExecuteTime": {
     "end_time": "2024-10-03T20:51:56.735198Z",
     "start_time": "2024-10-03T20:51:56.684850Z"
    }
   },
   "source": [
    "df = pd.read_csv('titanic.csv')\n",
    "df"
   ],
   "execution_count": 64,
   "outputs": []
  },
  {
   "cell_type": "markdown",
   "metadata": {},
   "source": [
    "**Task 1** (1 points) <br/>\n",
    "Answer the following questions:\n",
    "    \n",
    "    * Are there any missing values? In what columns?\n",
    "    * What is the percentage of survived passengers? Are the classes balanced?\n",
    "    * Were there more males or females?\n",
    "    * What what the least popular port of embarkation?\n",
    "    * How many classes (pclass) were there on Tinanic?\n",
    "    * What is the overall average ticket fare? And for every class?\n",
    "Please, write not only the answers but the code, proving it."
   ]
  },
  {
   "metadata": {
    "ExecuteTime": {
     "end_time": "2024-10-03T20:51:56.772339Z",
     "start_time": "2024-10-03T20:51:56.756859Z"
    }
   },
   "cell_type": "code",
   "source": [
    "missing_values = df.isnull().sum()\n",
    "print(\"Are there any missing values? In what columns?\")\n",
    "print(missing_values)\n"
   ],
   "execution_count": 65,
   "outputs": []
  },
  {
   "metadata": {
    "ExecuteTime": {
     "end_time": "2024-10-03T20:51:57.257732Z",
     "start_time": "2024-10-03T20:51:57.247066Z"
    }
   },
   "cell_type": "code",
   "source": [
    "survived_percentage = df['Survived'].mean() * 100\n",
    "print(f\"Процент выживших пассажиров: {survived_percentage:.2f}%\")\n",
    "class_balance = df['Pclass'].value_counts()\n",
    "print(\"Распределение пассажиров по классам:\")\n",
    "print(class_balance)\n"
   ],
   "execution_count": 66,
   "outputs": []
  },
  {
   "metadata": {
    "ExecuteTime": {
     "end_time": "2024-10-03T20:51:57.387680Z",
     "start_time": "2024-10-03T20:51:57.375038Z"
    }
   },
   "cell_type": "code",
   "source": [
    "gender_distribution = df['Sex'].value_counts()\n",
    "print(\"Распределение по полу:\")\n",
    "print(gender_distribution)\n"
   ],
   "execution_count": 67,
   "outputs": []
  },
  {
   "metadata": {
    "ExecuteTime": {
     "end_time": "2024-10-03T20:51:57.520055Z",
     "start_time": "2024-10-03T20:51:57.509578Z"
    }
   },
   "cell_type": "code",
   "source": [
    "least_popular_port = df['Embarked'].value_counts().idxmin()\n",
    "print(f\"Наименее популярный порт отправления: {least_popular_port}\")\n"
   ],
   "execution_count": 68,
   "outputs": []
  },
  {
   "metadata": {
    "ExecuteTime": {
     "end_time": "2024-10-03T20:51:57.818773Z",
     "start_time": "2024-10-03T20:51:57.808934Z"
    }
   },
   "cell_type": "code",
   "source": [
    "num_classes = df['Pclass'].nunique()\n",
    "print(f\"Количество классов на Титанике: {num_classes}\")\n"
   ],
   "execution_count": 69,
   "outputs": []
  },
  {
   "metadata": {
    "ExecuteTime": {
     "end_time": "2024-10-03T20:51:57.972366Z",
     "start_time": "2024-10-03T20:51:57.964723Z"
    }
   },
   "cell_type": "code",
   "source": [
    "overall_avg_fare = df['Fare'].mean()\n",
    "print(f\"Средняя стоимость билета: {overall_avg_fare:.2f}\")\n"
   ],
   "execution_count": 70,
   "outputs": []
  },
  {
   "metadata": {
    "ExecuteTime": {
     "end_time": "2024-10-03T20:51:58.079521Z",
     "start_time": "2024-10-03T20:51:58.068634Z"
    }
   },
   "cell_type": "code",
   "source": [
    "avg_fare_by_class = df.groupby('Pclass')['Fare'].mean()\n",
    "print(\"Средняя стоимость билета по классам:\")\n",
    "print(avg_fare_by_class)\n"
   ],
   "execution_count": 71,
   "outputs": []
  },
  {
   "cell_type": "markdown",
   "metadata": {},
   "source": [
    "**Task 2** (0.5 points) <br/>\n",
    "Visualize age distribution (you may use a histogram, for example). \n",
    "\n",
    "    * What is the minimal and maximum ages of the passengers? Visualize it on the plot\n",
    "    * What is the mean age? And among males and females sepatately? Visualize it on the plot\n",
    "    * Make conclusions about what you see on the plot"
   ]
  },
  {
   "metadata": {
    "ExecuteTime": {
     "end_time": "2024-10-03T20:51:59.054130Z",
     "start_time": "2024-10-03T20:51:58.141954Z"
    }
   },
   "cell_type": "code",
   "source": [
    "\n",
    "plt.figure(figsize=(10, 6))\n",
    "plt.hist(df['Age'].dropna(), bins=30, color='skyblue', edgecolor='black')\n",
    "\n",
    "min_age = df['Age'].min()\n",
    "max_age = df['Age'].max()\n",
    "mean_age = df['Age'].mean()\n",
    "\n",
    "plt.axvline(min_age, color='green', linestyle='dashed', linewidth=2, label=f'Min Age: {min_age}')\n",
    "plt.axvline(max_age, color='red', linestyle='dashed', linewidth=2, label=f'Max Age: {max_age}')\n",
    "\n",
    "mean_age_male = df[df['Sex'] == 'male']['Age'].mean()\n",
    "mean_age_female = df[df['Sex'] == 'female']['Age'].mean()\n",
    "\n",
    "\n",
    "plt.axvline(mean_age, color='orange', linestyle='dashed', linewidth=2, label=f'Mean Age (Overall): {mean_age:.2f}')\n",
    "plt.axvline(mean_age_male, color='blue', linestyle='dashed', linewidth=2, label=f'Mean Age (Male): {mean_age_male:.2f}')\n",
    "plt.axvline(mean_age_female, color='purple', linestyle='dashed', linewidth=2, label=f'Mean Age (Female): {mean_age_female:.2f}')\n",
    "\n",
    "\n",
    "plt.title('Age Distribution of Titanic Passengers', fontsize=16)\n",
    "plt.xlabel('Age', fontsize=12)\n",
    "plt.ylabel('Number of Passengers', fontsize=12)\n",
    "plt.legend()\n",
    "\n",
    "\n",
    "plt.show()\n",
    "\n",
    "(min_age, max_age), mean_age, mean_age_male, mean_age_female\n"
   ],
   "execution_count": 72,
   "outputs": []
  },
  {
   "metadata": {},
   "cell_type": "markdown",
   "source": "Выводы: Большинство пассажиров были молодыми взрослыми, что видно по пику в районе 20-40 лет. Распределение имеет правосторонний перекос, с длинным хвостом в сторону более старших возрастов. Средний возраст мужчин немного выше, чем у женщин, что видно по отметкам среднего значения на графике. Среди пассажиров было несколько младенцев и детей, а также небольшая группа пожилых людей."
  },
  {
   "cell_type": "code",
   "metadata": {
    "ExecuteTime": {
     "end_time": "2024-10-03T20:51:59.066368Z",
     "start_time": "2024-10-03T20:51:59.059748Z"
    }
   },
   "source": [
    "## Your code here"
   ],
   "execution_count": 73,
   "outputs": []
  },
  {
   "cell_type": "markdown",
   "metadata": {},
   "source": [
    "**Task 3** (1 points) <br/>\n",
    "Find all the titles of the passengers (example, *Capt., Mr.,Mme.*), which are written in the column Name, and answer the following questions:\n",
    "\n",
    "    * How many are there unique titles?\n",
    "    * How many are there passengers with every title?\n",
    "    * What is the most popular man's title? And woman's title?\n",
    "    \n",
    "**Hint** You may select the title from the name as a word which contains a dot."
   ]
  },
  {
   "cell_type": "code",
   "metadata": {
    "ExecuteTime": {
     "end_time": "2024-10-03T20:51:59.099450Z",
     "start_time": "2024-10-03T20:51:59.068840Z"
    }
   },
   "source": [
    "\n",
    "df['Title'] = df['Name'].str.extract(r'(\\b\\w+\\.)')\n",
    "\n",
    "unique_titles = df['Title'].nunique()\n",
    "\n",
    "title_counts = df['Title'].value_counts()\n",
    "\n",
    "\n",
    "male_titles = df[df['Sex'] == 'male']['Title'].value_counts()\n",
    "female_titles = df[df['Sex'] == 'female']['Title'].value_counts()\n",
    "\n",
    "most_popular_male_title = male_titles.idxmax()\n",
    "most_popular_female_title = female_titles.idxmax()\n",
    "\n",
    "unique_titles, title_counts, most_popular_male_title, most_popular_female_title\n"
   ],
   "execution_count": 74,
   "outputs": []
  },
  {
   "metadata": {},
   "cell_type": "markdown",
   "source": [
    "Наиболее популярный мужской титул: Mr.\n",
    "\n",
    "Наиболее популярный женский титул: Miss."
   ]
  },
  {
   "cell_type": "markdown",
   "metadata": {},
   "source": [
    "**Task 4** (0.5 points) <br/>\n",
    "Is there correlation between *pclass* and *ticket price*? Calculate mean price for each port and visualize prize distribution for each port. Make conclusions about what you see on the plot\n",
    "\n",
    "Hint: you could make one or several plot types i.e.  box, violine, pair, histogram (see additional notebooks for Seminar 1 \"Visualization with Seaborn\"). main point here is to **choose** plots wisely and **make meaningful conclusions**\n",
    "\n"
   ]
  },
  {
   "cell_type": "code",
   "metadata": {
    "ExecuteTime": {
     "end_time": "2024-10-03T20:51:59.111152Z",
     "start_time": "2024-10-03T20:51:59.105343Z"
    }
   },
   "source": [
    "pclass_fare_corr = df['Pclass'].corr(df['Fare'])\n",
    "\n",
    "mean_price_by_port = df.groupby('Embarked')['Fare'].mean()\n",
    "\n",
    "\n",
    "plt.figure(figsize=(10, 6))\n",
    "sns.boxplot(x='Embarked', y='Fare', data=df)\n",
    "plt.title('Ticket Price Distribution by Port of Embarkation')\n",
    "plt.xlabel('Port of Embarkation')\n",
    "plt.ylabel('Ticket Price')\n",
    "plt.show()\n",
    "\n",
    "pclass_fare_corr, mean_price_by_port\n"
   ],
   "execution_count": 75,
   "outputs": []
  },
  {
   "cell_type": "markdown",
   "metadata": {},
   "source": [
    "**Task 5** (0.5 points) <br/>\n",
    "The same question as in task 4 about correlation between *embarked* and *ticket priсe*."
   ]
  },
  {
   "cell_type": "code",
   "metadata": {
    "ExecuteTime": {
     "end_time": "2024-10-03T20:51:59.129971Z",
     "start_time": "2024-10-03T20:51:59.113596Z"
    }
   },
   "source": [
    "## You code here"
   ],
   "execution_count": 76,
   "outputs": []
  },
  {
   "cell_type": "markdown",
   "metadata": {},
   "source": [
    "**Task 6** (0.5 points) <br/>\n",
    "Visualize age distribution for survived and not survived passengers separately and calculate the mean age for each class. Are they different? Provide the same visualization for males and females separately. Make conclusions about what you see on the plots"
   ]
  },
  {
   "metadata": {
    "ExecuteTime": {
     "end_time": "2024-10-03T20:51:59.137751Z",
     "start_time": "2024-10-03T20:51:59.133459Z"
    }
   },
   "cell_type": "code",
   "source": "",
   "execution_count": 76,
   "outputs": []
  }
 ],
 "metadata": {
  "kernelspec": {
   "display_name": "Python 3 (ipykernel)",
   "language": "python",
   "name": "python3"
  },
  "language_info": {
   "codemirror_mode": {
    "name": "ipython",
    "version": 3
   },
   "file_extension": ".py",
   "mimetype": "text/x-python",
   "name": "python",
   "nbconvert_exporter": "python",
   "pygments_lexer": "ipython3",
   "version": "3.9.7"
  }
 },
 "nbformat": 4,
 "nbformat_minor": 4
}
